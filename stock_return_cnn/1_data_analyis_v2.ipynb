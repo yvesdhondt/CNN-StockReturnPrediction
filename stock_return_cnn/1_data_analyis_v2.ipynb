{
 "cells": [
  {
   "cell_type": "markdown",
   "source": [
    "# Intro\n",
    "\n",
    "Now that the data has been transformed into a usual, some elementary EDA will be performed to check the numerical features."
   ],
   "metadata": {
    "collapsed": false
   }
  },
  {
   "cell_type": "code",
   "execution_count": 1,
   "outputs": [],
   "source": [
    "import pandas as pd\n",
    "from os.path import join\n",
    "from os import listdir"
   ],
   "metadata": {
    "collapsed": false,
    "pycharm": {
     "name": "#%%\n"
    }
   }
  },
  {
   "cell_type": "code",
   "execution_count": 2,
   "metadata": {
    "collapsed": true
   },
   "outputs": [],
   "source": [
    "def read_batches(path):\n",
    "    \"\"\"\n",
    "    Read the batches stored in the path and group them\n",
    "    :param path: the path with batches\n",
    "    :return: a pandas dataframe with the grouped and de-duplicated batches\n",
    "    \"\"\"\n",
    "    # Regroup batches\n",
    "    batches = [pd.read_csv(join(path, f)) for f in listdir(path)]\n",
    "\n",
    "    # After creating the random observations, potential duplicates (although unlikely) need to be dropped\n",
    "    observations = pd.concat(batches)\n",
    "    observations.drop_duplicates(subset=[\"date\", \"asset_file\"])\n",
    "\n",
    "    observations.date = pd.to_datetime(observations.date)\n",
    "\n",
    "    observations.dropna(inplace=True)\n",
    "\n",
    "    return observations"
   ]
  },
  {
   "cell_type": "code",
   "execution_count": 3,
   "outputs": [],
   "source": [
    "observations = read_batches(\"DataBatches2\")"
   ],
   "metadata": {
    "collapsed": false,
    "pycharm": {
     "name": "#%%\n"
    }
   }
  },
  {
   "cell_type": "code",
   "execution_count": 4,
   "outputs": [
    {
     "data": {
      "text/plain": "                  asset_file       date  stock  1_month_return  \\\n0     Data/Stocks\\cca.us.txt 2012-03-06      1       -0.004883   \n1     Data/Stocks\\wwr.us.txt 2010-09-09      1        0.326923   \n2     Data/Stocks\\apu.us.txt 2014-03-04      1        0.008864   \n3    Data/Stocks\\aste.us.txt 2011-12-05      1       -0.032136   \n4    Data/Stocks\\dtus.us.txt 2011-11-01      1       -0.005257   \n..                       ...        ...    ...             ...   \n495  Data/Stocks\\pahc.us.txt 2016-09-27      1        0.303545   \n496  Data/Stocks\\tlgt.us.txt 2016-07-12      1        0.320127   \n497   Data/Stocks\\irl.us.txt 2006-10-20      1       -0.001629   \n498  Data/Stocks\\spok.us.txt 2008-11-12      1        0.006921   \n499  Data/Stocks\\lgcy.us.txt 2014-01-06      1        0.036121   \n\n     6_month_return  12_month_return  1_month_volatility  6_month_volatility  \\\n0          0.130125         0.211069            0.005297            0.006436   \n1         -0.103896        -0.295918            0.062183            0.060901   \n2          0.033208         0.027071            0.006744            0.012142   \n3         -0.039234         0.034616            0.039193            0.038240   \n4         -0.100670        -0.118569            0.005065            0.006326   \n..              ...              ...                 ...                 ...   \n495        0.003591        -0.123365            0.032447            0.027091   \n496        0.216058         0.165035            0.034619            0.037514   \n497        0.164298         0.460406            0.011995            0.014218   \n498        0.286695        -0.237152            0.045302            0.040031   \n499        0.101134         0.235257            0.008386            0.010882   \n\n     12_month_volatility                   1_month_img  \\\n0               0.007214   Charts2/img_500_1_month.PNG   \n1               0.057894   Charts2/img_501_1_month.PNG   \n2               0.013019   Charts2/img_502_1_month.PNG   \n3               0.030234   Charts2/img_503_1_month.PNG   \n4               0.007545   Charts2/img_504_1_month.PNG   \n..                   ...                           ...   \n495             0.027717  Charts2/img_9495_1_month.PNG   \n496             0.040948  Charts2/img_9496_1_month.PNG   \n497             0.012064  Charts2/img_9497_1_month.PNG   \n498             0.036625  Charts2/img_9498_1_month.PNG   \n499             0.012823  Charts2/img_9499_1_month.PNG   \n\n                      6_month_img                   12_month_img  label  \n0     Charts2/img_500_6_month.PNG   Charts2/img_500_12_month.PNG      0  \n1     Charts2/img_501_6_month.PNG   Charts2/img_501_12_month.PNG      2  \n2     Charts2/img_502_6_month.PNG   Charts2/img_502_12_month.PNG      2  \n3     Charts2/img_503_6_month.PNG   Charts2/img_503_12_month.PNG      2  \n4     Charts2/img_504_6_month.PNG   Charts2/img_504_12_month.PNG      1  \n..                            ...                            ...    ...  \n495  Charts2/img_9495_6_month.PNG  Charts2/img_9495_12_month.PNG      0  \n496  Charts2/img_9496_6_month.PNG  Charts2/img_9496_12_month.PNG      0  \n497  Charts2/img_9497_6_month.PNG  Charts2/img_9497_12_month.PNG      2  \n498  Charts2/img_9498_6_month.PNG  Charts2/img_9498_12_month.PNG      2  \n499  Charts2/img_9499_6_month.PNG  Charts2/img_9499_12_month.PNG      0  \n\n[14994 rows x 13 columns]",
      "text/html": "<div>\n<style scoped>\n    .dataframe tbody tr th:only-of-type {\n        vertical-align: middle;\n    }\n\n    .dataframe tbody tr th {\n        vertical-align: top;\n    }\n\n    .dataframe thead th {\n        text-align: right;\n    }\n</style>\n<table border=\"1\" class=\"dataframe\">\n  <thead>\n    <tr style=\"text-align: right;\">\n      <th></th>\n      <th>asset_file</th>\n      <th>date</th>\n      <th>stock</th>\n      <th>1_month_return</th>\n      <th>6_month_return</th>\n      <th>12_month_return</th>\n      <th>1_month_volatility</th>\n      <th>6_month_volatility</th>\n      <th>12_month_volatility</th>\n      <th>1_month_img</th>\n      <th>6_month_img</th>\n      <th>12_month_img</th>\n      <th>label</th>\n    </tr>\n  </thead>\n  <tbody>\n    <tr>\n      <th>0</th>\n      <td>Data/Stocks\\cca.us.txt</td>\n      <td>2012-03-06</td>\n      <td>1</td>\n      <td>-0.004883</td>\n      <td>0.130125</td>\n      <td>0.211069</td>\n      <td>0.005297</td>\n      <td>0.006436</td>\n      <td>0.007214</td>\n      <td>Charts2/img_500_1_month.PNG</td>\n      <td>Charts2/img_500_6_month.PNG</td>\n      <td>Charts2/img_500_12_month.PNG</td>\n      <td>0</td>\n    </tr>\n    <tr>\n      <th>1</th>\n      <td>Data/Stocks\\wwr.us.txt</td>\n      <td>2010-09-09</td>\n      <td>1</td>\n      <td>0.326923</td>\n      <td>-0.103896</td>\n      <td>-0.295918</td>\n      <td>0.062183</td>\n      <td>0.060901</td>\n      <td>0.057894</td>\n      <td>Charts2/img_501_1_month.PNG</td>\n      <td>Charts2/img_501_6_month.PNG</td>\n      <td>Charts2/img_501_12_month.PNG</td>\n      <td>2</td>\n    </tr>\n    <tr>\n      <th>2</th>\n      <td>Data/Stocks\\apu.us.txt</td>\n      <td>2014-03-04</td>\n      <td>1</td>\n      <td>0.008864</td>\n      <td>0.033208</td>\n      <td>0.027071</td>\n      <td>0.006744</td>\n      <td>0.012142</td>\n      <td>0.013019</td>\n      <td>Charts2/img_502_1_month.PNG</td>\n      <td>Charts2/img_502_6_month.PNG</td>\n      <td>Charts2/img_502_12_month.PNG</td>\n      <td>2</td>\n    </tr>\n    <tr>\n      <th>3</th>\n      <td>Data/Stocks\\aste.us.txt</td>\n      <td>2011-12-05</td>\n      <td>1</td>\n      <td>-0.032136</td>\n      <td>-0.039234</td>\n      <td>0.034616</td>\n      <td>0.039193</td>\n      <td>0.038240</td>\n      <td>0.030234</td>\n      <td>Charts2/img_503_1_month.PNG</td>\n      <td>Charts2/img_503_6_month.PNG</td>\n      <td>Charts2/img_503_12_month.PNG</td>\n      <td>2</td>\n    </tr>\n    <tr>\n      <th>4</th>\n      <td>Data/Stocks\\dtus.us.txt</td>\n      <td>2011-11-01</td>\n      <td>1</td>\n      <td>-0.005257</td>\n      <td>-0.100670</td>\n      <td>-0.118569</td>\n      <td>0.005065</td>\n      <td>0.006326</td>\n      <td>0.007545</td>\n      <td>Charts2/img_504_1_month.PNG</td>\n      <td>Charts2/img_504_6_month.PNG</td>\n      <td>Charts2/img_504_12_month.PNG</td>\n      <td>1</td>\n    </tr>\n    <tr>\n      <th>...</th>\n      <td>...</td>\n      <td>...</td>\n      <td>...</td>\n      <td>...</td>\n      <td>...</td>\n      <td>...</td>\n      <td>...</td>\n      <td>...</td>\n      <td>...</td>\n      <td>...</td>\n      <td>...</td>\n      <td>...</td>\n      <td>...</td>\n    </tr>\n    <tr>\n      <th>495</th>\n      <td>Data/Stocks\\pahc.us.txt</td>\n      <td>2016-09-27</td>\n      <td>1</td>\n      <td>0.303545</td>\n      <td>0.003591</td>\n      <td>-0.123365</td>\n      <td>0.032447</td>\n      <td>0.027091</td>\n      <td>0.027717</td>\n      <td>Charts2/img_9495_1_month.PNG</td>\n      <td>Charts2/img_9495_6_month.PNG</td>\n      <td>Charts2/img_9495_12_month.PNG</td>\n      <td>0</td>\n    </tr>\n    <tr>\n      <th>496</th>\n      <td>Data/Stocks\\tlgt.us.txt</td>\n      <td>2016-07-12</td>\n      <td>1</td>\n      <td>0.320127</td>\n      <td>0.216058</td>\n      <td>0.165035</td>\n      <td>0.034619</td>\n      <td>0.037514</td>\n      <td>0.040948</td>\n      <td>Charts2/img_9496_1_month.PNG</td>\n      <td>Charts2/img_9496_6_month.PNG</td>\n      <td>Charts2/img_9496_12_month.PNG</td>\n      <td>0</td>\n    </tr>\n    <tr>\n      <th>497</th>\n      <td>Data/Stocks\\irl.us.txt</td>\n      <td>2006-10-20</td>\n      <td>1</td>\n      <td>-0.001629</td>\n      <td>0.164298</td>\n      <td>0.460406</td>\n      <td>0.011995</td>\n      <td>0.014218</td>\n      <td>0.012064</td>\n      <td>Charts2/img_9497_1_month.PNG</td>\n      <td>Charts2/img_9497_6_month.PNG</td>\n      <td>Charts2/img_9497_12_month.PNG</td>\n      <td>2</td>\n    </tr>\n    <tr>\n      <th>498</th>\n      <td>Data/Stocks\\spok.us.txt</td>\n      <td>2008-11-12</td>\n      <td>1</td>\n      <td>0.006921</td>\n      <td>0.286695</td>\n      <td>-0.237152</td>\n      <td>0.045302</td>\n      <td>0.040031</td>\n      <td>0.036625</td>\n      <td>Charts2/img_9498_1_month.PNG</td>\n      <td>Charts2/img_9498_6_month.PNG</td>\n      <td>Charts2/img_9498_12_month.PNG</td>\n      <td>2</td>\n    </tr>\n    <tr>\n      <th>499</th>\n      <td>Data/Stocks\\lgcy.us.txt</td>\n      <td>2014-01-06</td>\n      <td>1</td>\n      <td>0.036121</td>\n      <td>0.101134</td>\n      <td>0.235257</td>\n      <td>0.008386</td>\n      <td>0.010882</td>\n      <td>0.012823</td>\n      <td>Charts2/img_9499_1_month.PNG</td>\n      <td>Charts2/img_9499_6_month.PNG</td>\n      <td>Charts2/img_9499_12_month.PNG</td>\n      <td>0</td>\n    </tr>\n  </tbody>\n</table>\n<p>14994 rows × 13 columns</p>\n</div>"
     },
     "execution_count": 4,
     "metadata": {},
     "output_type": "execute_result"
    }
   ],
   "source": [
    "observations"
   ],
   "metadata": {
    "collapsed": false,
    "pycharm": {
     "name": "#%%\n"
    }
   }
  },
  {
   "cell_type": "markdown",
   "source": [
    "## Labels"
   ],
   "metadata": {
    "collapsed": false
   }
  },
  {
   "cell_type": "code",
   "execution_count": 5,
   "outputs": [
    {
     "data": {
      "text/plain": "       count\nlabel       \n0       5951\n1       2118\n2       6925",
      "text/html": "<div>\n<style scoped>\n    .dataframe tbody tr th:only-of-type {\n        vertical-align: middle;\n    }\n\n    .dataframe tbody tr th {\n        vertical-align: top;\n    }\n\n    .dataframe thead th {\n        text-align: right;\n    }\n</style>\n<table border=\"1\" class=\"dataframe\">\n  <thead>\n    <tr style=\"text-align: right;\">\n      <th></th>\n      <th>count</th>\n    </tr>\n    <tr>\n      <th>label</th>\n      <th></th>\n    </tr>\n  </thead>\n  <tbody>\n    <tr>\n      <th>0</th>\n      <td>5951</td>\n    </tr>\n    <tr>\n      <th>1</th>\n      <td>2118</td>\n    </tr>\n    <tr>\n      <th>2</th>\n      <td>6925</td>\n    </tr>\n  </tbody>\n</table>\n</div>"
     },
     "execution_count": 5,
     "metadata": {},
     "output_type": "execute_result"
    }
   ],
   "source": [
    "observations.groupby(\"label\").agg(count=(\"asset_file\", \"count\"))"
   ],
   "metadata": {
    "collapsed": false,
    "pycharm": {
     "name": "#%%\n"
    }
   }
  },
  {
   "cell_type": "markdown",
   "source": [
    "The above distribution of labels is in line with our intuition about equity returns. There are slightly more positive returns (label 2) than negative returns (label 0) and a rather small number of neutral returns (label 1)."
   ],
   "metadata": {
    "collapsed": false,
    "pycharm": {
     "name": "#%% md\n"
    }
   }
  },
  {
   "cell_type": "markdown",
   "source": [
    "## Date"
   ],
   "metadata": {
    "collapsed": false,
    "pycharm": {
     "name": "#%% md\n"
    }
   }
  },
  {
   "cell_type": "code",
   "execution_count": 6,
   "outputs": [
    {
     "data": {
      "text/plain": "<matplotlib.axes._subplots.AxesSubplot at 0x227c49ed0c8>"
     },
     "execution_count": 6,
     "metadata": {},
     "output_type": "execute_result"
    }
   ],
   "source": [
    "observations.date.hist()"
   ],
   "metadata": {
    "collapsed": false,
    "pycharm": {
     "name": "#%%\n"
    }
   }
  },
  {
   "cell_type": "markdown",
   "source": [
    "From the above histogram it is clear that the majority of observations comes from recent years. This is in line with the fact that the raw data is also skewed towards more recent years. This could potentially impact the model since recent events (such as the 2008 crisis) could be over-weighted. For now we will leave this as is, but depending on how the model performs, a new cleaned dataset could be constructed where the dates are more balanced)"
   ],
   "metadata": {
    "collapsed": false,
    "pycharm": {
     "name": "#%% md\n"
    }
   }
  },
  {
   "cell_type": "markdown",
   "source": [
    "## Returns"
   ],
   "metadata": {
    "collapsed": false,
    "pycharm": {
     "name": "#%% md\n"
    }
   }
  },
  {
   "cell_type": "code",
   "execution_count": 7,
   "outputs": [
    {
     "data": {
      "text/plain": "       1_month_return  6_month_return  12_month_return\ncount    14994.000000    14994.000000     14994.000000\nmean         0.009377        0.053186         0.098148\nstd          0.159049        0.638698         0.800949\nmin         -0.819417       -0.958691        -0.988010\n25%         -0.042918       -0.100952        -0.146749\n50%          0.004755        0.024571         0.040020\n75%          0.049268        0.143872         0.218156\nmax          6.000000       60.000000        49.833333",
      "text/html": "<div>\n<style scoped>\n    .dataframe tbody tr th:only-of-type {\n        vertical-align: middle;\n    }\n\n    .dataframe tbody tr th {\n        vertical-align: top;\n    }\n\n    .dataframe thead th {\n        text-align: right;\n    }\n</style>\n<table border=\"1\" class=\"dataframe\">\n  <thead>\n    <tr style=\"text-align: right;\">\n      <th></th>\n      <th>1_month_return</th>\n      <th>6_month_return</th>\n      <th>12_month_return</th>\n    </tr>\n  </thead>\n  <tbody>\n    <tr>\n      <th>count</th>\n      <td>14994.000000</td>\n      <td>14994.000000</td>\n      <td>14994.000000</td>\n    </tr>\n    <tr>\n      <th>mean</th>\n      <td>0.009377</td>\n      <td>0.053186</td>\n      <td>0.098148</td>\n    </tr>\n    <tr>\n      <th>std</th>\n      <td>0.159049</td>\n      <td>0.638698</td>\n      <td>0.800949</td>\n    </tr>\n    <tr>\n      <th>min</th>\n      <td>-0.819417</td>\n      <td>-0.958691</td>\n      <td>-0.988010</td>\n    </tr>\n    <tr>\n      <th>25%</th>\n      <td>-0.042918</td>\n      <td>-0.100952</td>\n      <td>-0.146749</td>\n    </tr>\n    <tr>\n      <th>50%</th>\n      <td>0.004755</td>\n      <td>0.024571</td>\n      <td>0.040020</td>\n    </tr>\n    <tr>\n      <th>75%</th>\n      <td>0.049268</td>\n      <td>0.143872</td>\n      <td>0.218156</td>\n    </tr>\n    <tr>\n      <th>max</th>\n      <td>6.000000</td>\n      <td>60.000000</td>\n      <td>49.833333</td>\n    </tr>\n  </tbody>\n</table>\n</div>"
     },
     "execution_count": 7,
     "metadata": {},
     "output_type": "execute_result"
    }
   ],
   "source": [
    "observations[[\"1_month_return\", \"6_month_return\", \"12_month_return\"]].describe()"
   ],
   "metadata": {
    "collapsed": false,
    "pycharm": {
     "name": "#%%\n"
    }
   }
  },
  {
   "cell_type": "markdown",
   "source": [
    "From this overview, it appears that there are some extreme returns. For instance 921% returns in the 1 month returns, 515% returns in the 6 month returns, and 2071% returns in the 12 month returns. These outliers could make the trained model less generalizable. To prevent this, returns will be limited to 300% returns. This still corresponds to a 4X return over the period, which is highly unlikely but within reasonable bounds."
   ],
   "metadata": {
    "collapsed": false,
    "pycharm": {
     "name": "#%% md\n"
    }
   }
  },
  {
   "cell_type": "code",
   "execution_count": 8,
   "outputs": [],
   "source": [
    "observations = observations[\n",
    "    (observations[\"1_month_return\"] <= 3) &\n",
    "    (observations[\"6_month_return\"] <= 3) &\n",
    "    (observations[\"12_month_return\"] <= 3)\n",
    "].copy()"
   ],
   "metadata": {
    "collapsed": false,
    "pycharm": {
     "name": "#%%\n"
    }
   }
  },
  {
   "cell_type": "code",
   "execution_count": 9,
   "outputs": [
    {
     "data": {
      "text/plain": "14902"
     },
     "execution_count": 9,
     "metadata": {},
     "output_type": "execute_result"
    }
   ],
   "source": [
    "len(observations.index)"
   ],
   "metadata": {
    "collapsed": false,
    "pycharm": {
     "name": "#%%\n"
    }
   }
  },
  {
   "cell_type": "markdown",
   "source": [
    "From the original dataset of 9994 observations, 51 were removed leaving us with a dataset of 9943 observations."
   ],
   "metadata": {
    "collapsed": false,
    "pycharm": {
     "name": "#%% md\n"
    }
   }
  },
  {
   "cell_type": "markdown",
   "source": [
    "## Volatility"
   ],
   "metadata": {
    "collapsed": false,
    "pycharm": {
     "name": "#%% md\n"
    }
   }
  },
  {
   "cell_type": "code",
   "execution_count": 10,
   "outputs": [
    {
     "data": {
      "text/plain": "       1_month_volatility  6_month_volatility  12_month_volatility\ncount        14902.000000        14902.000000         14902.000000\nmean             0.023548            0.025029             0.079727\nstd              0.025811            0.024955             6.622723\nmin              0.000000            0.000088             0.000098\n25%              0.010235            0.011742             0.012243\n50%              0.017307            0.019248             0.020106\n75%              0.028790            0.031279             0.031967\nmax              1.017118            0.813391           808.481065",
      "text/html": "<div>\n<style scoped>\n    .dataframe tbody tr th:only-of-type {\n        vertical-align: middle;\n    }\n\n    .dataframe tbody tr th {\n        vertical-align: top;\n    }\n\n    .dataframe thead th {\n        text-align: right;\n    }\n</style>\n<table border=\"1\" class=\"dataframe\">\n  <thead>\n    <tr style=\"text-align: right;\">\n      <th></th>\n      <th>1_month_volatility</th>\n      <th>6_month_volatility</th>\n      <th>12_month_volatility</th>\n    </tr>\n  </thead>\n  <tbody>\n    <tr>\n      <th>count</th>\n      <td>14902.000000</td>\n      <td>14902.000000</td>\n      <td>14902.000000</td>\n    </tr>\n    <tr>\n      <th>mean</th>\n      <td>0.023548</td>\n      <td>0.025029</td>\n      <td>0.079727</td>\n    </tr>\n    <tr>\n      <th>std</th>\n      <td>0.025811</td>\n      <td>0.024955</td>\n      <td>6.622723</td>\n    </tr>\n    <tr>\n      <th>min</th>\n      <td>0.000000</td>\n      <td>0.000088</td>\n      <td>0.000098</td>\n    </tr>\n    <tr>\n      <th>25%</th>\n      <td>0.010235</td>\n      <td>0.011742</td>\n      <td>0.012243</td>\n    </tr>\n    <tr>\n      <th>50%</th>\n      <td>0.017307</td>\n      <td>0.019248</td>\n      <td>0.020106</td>\n    </tr>\n    <tr>\n      <th>75%</th>\n      <td>0.028790</td>\n      <td>0.031279</td>\n      <td>0.031967</td>\n    </tr>\n    <tr>\n      <th>max</th>\n      <td>1.017118</td>\n      <td>0.813391</td>\n      <td>808.481065</td>\n    </tr>\n  </tbody>\n</table>\n</div>"
     },
     "execution_count": 10,
     "metadata": {},
     "output_type": "execute_result"
    }
   ],
   "source": [
    "# 1 month volatility\n",
    "observations[[\"1_month_volatility\", \"6_month_volatility\", \"12_month_volatility\"]].describe()"
   ],
   "metadata": {
    "collapsed": false,
    "pycharm": {
     "name": "#%%\n"
    }
   }
  },
  {
   "cell_type": "markdown",
   "source": [
    "Similar to returns, there are some extremely high volatilities, expecially in the 6 and 12 month features. However, these are limited to very few observations and correspond to the remaining observations with very large returns. They are considered acceptable and will not be removed from the dataset."
   ],
   "metadata": {
    "collapsed": false,
    "pycharm": {
     "name": "#%% md\n"
    }
   }
  },
  {
   "cell_type": "markdown",
   "source": [
    "# Set-up train/validation/test sets\n",
    "\n",
    "Now the datasets will be split into 50% training, 25% validation, and 25% test sets"
   ],
   "metadata": {
    "collapsed": false,
    "pycharm": {
     "name": "#%% md\n"
    }
   }
  },
  {
   "cell_type": "code",
   "execution_count": 11,
   "outputs": [],
   "source": [
    "from sklearn.model_selection import train_test_split\n",
    "import os\n",
    "\n",
    "observations.drop(\n",
    "    columns=[\"asset_file\", \"date\"], # these features will not be taken into account during model training/testing\n",
    "    inplace=True\n",
    ")\n",
    "\n",
    "train, temp = train_test_split(observations, test_size=0.5)\n",
    "val, test = train_test_split(temp, test_size=0.5)\n",
    "\n",
    "# Create directory\n",
    "if not os.path.isdir(\"ModelData2\"):\n",
    "    os.makedirs(\"ModelData2\")\n",
    "\n",
    "train.to_csv(\"ModelData2/obs_train.csv\", index=False)\n",
    "val.to_csv(\"ModelData2/obs_val.csv\", index=False)\n",
    "test.to_csv(\"ModelData2/obs_test.csv\", index=False)"
   ],
   "metadata": {
    "collapsed": false,
    "pycharm": {
     "name": "#%%\n"
    }
   }
  }
 ],
 "metadata": {
  "kernelspec": {
   "display_name": "Python 3",
   "language": "python",
   "name": "python3"
  },
  "language_info": {
   "codemirror_mode": {
    "name": "ipython",
    "version": 2
   },
   "file_extension": ".py",
   "mimetype": "text/x-python",
   "name": "python",
   "nbconvert_exporter": "python",
   "pygments_lexer": "ipython2",
   "version": "2.7.6"
  }
 },
 "nbformat": 4,
 "nbformat_minor": 0
}