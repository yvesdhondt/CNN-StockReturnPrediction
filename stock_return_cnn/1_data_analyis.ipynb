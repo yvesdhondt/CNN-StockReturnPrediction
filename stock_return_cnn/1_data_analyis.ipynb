{
 "cells": [
  {
   "cell_type": "markdown",
   "source": [
    "# Intro\n",
    "\n",
    "Now that the data has been transformed into a usual, some elementary EDA will be performed to check the numerical features."
   ],
   "metadata": {
    "collapsed": false
   }
  },
  {
   "cell_type": "code",
   "execution_count": 38,
   "outputs": [],
   "source": [
    "import pandas as pd\n",
    "from os.path import join\n",
    "from os import listdir\n",
    "import numpy as np"
   ],
   "metadata": {
    "collapsed": false,
    "pycharm": {
     "name": "#%%\n"
    }
   }
  },
  {
   "cell_type": "code",
   "execution_count": 39,
   "metadata": {
    "collapsed": true
   },
   "outputs": [],
   "source": [
    "def read_batches(path):\n",
    "    \"\"\"\n",
    "    Read the batches stored in the path and group them\n",
    "    :param path: the path with batches\n",
    "    :return: a pandas dataframe with the grouped and de-duplicated batches\n",
    "    \"\"\"\n",
    "    # Regroup batches\n",
    "    batches = [pd.read_csv(join(path, f)) for f in listdir(path)]\n",
    "\n",
    "    # After creating the random observations, potential duplicates (although unlikely) need to be dropped\n",
    "    observations = pd.concat(batches)\n",
    "    observations.drop_duplicates(subset=[\"date\", \"asset_file\"])\n",
    "\n",
    "    observations.date = pd.to_datetime(observations.date)\n",
    "\n",
    "    observations.dropna(inplace=True)\n",
    "\n",
    "    return observations"
   ]
  },
  {
   "cell_type": "code",
   "execution_count": 40,
   "outputs": [],
   "source": [
    "observations = read_batches(\"DataBatches\")"
   ],
   "metadata": {
    "collapsed": false,
    "pycharm": {
     "name": "#%%\n"
    }
   }
  },
  {
   "cell_type": "code",
   "execution_count": 41,
   "outputs": [
    {
     "data": {
      "text/plain": "                   asset_file       date  stock  1_month_return  \\\n0      Data/Stocks\\ncr.us.txt 2004-04-05      1        0.000439   \n1     Data/Stocks\\chfn.us.txt 2013-05-31      1       -0.001997   \n2     Data/Stocks\\tmst.us.txt 2016-01-05      1       -0.151767   \n3      Data/Stocks\\gjp.us.txt 2012-08-16      1       -0.053945   \n4    Data/Stocks\\hvt-a.us.txt 2011-09-27      1       -0.104041   \n..                        ...        ...    ...             ...   \n495    Data/Stocks\\sfl.us.txt 2008-01-24      1       -0.157712   \n496  Data/Stocks\\belfa.us.txt 2010-08-18      1        0.201255   \n497   Data/Stocks\\evhc.us.txt 2014-09-02      1        0.047564   \n498    Data/Stocks\\snp.us.txt 2010-07-21      1       -0.045617   \n499   Data/Stocks\\susa.us.txt 2016-03-22      1        0.075041   \n\n     6_month_return  12_month_return  1_month_volatility  6_month_volatility  \\\n0          0.317341         1.388889            0.017516            0.016031   \n1          0.284303         0.399270            0.004603            0.009990   \n2         -0.657503        -0.770941            0.054340            0.050027   \n3         -0.075769         0.000470            0.015497            0.013264   \n4         -0.224486        -0.056672            0.040486            0.039216   \n..              ...              ...                 ...                 ...   \n495       -0.122881         0.014062            0.018766            0.024021   \n496        0.056782         0.345961            0.051319            0.035508   \n497        0.074978         0.393275            0.008937            0.015356   \n498       -0.006414        -0.041886            0.014021            0.017807   \n499        0.083046        -0.014023            0.007646            0.010423   \n\n     12_month_volatility                  1_month_img  \\\n0               0.023119   Charts/img_500_1_month.PNG   \n1               0.017845   Charts/img_501_1_month.PNG   \n2               0.039493   Charts/img_502_1_month.PNG   \n3               0.016023   Charts/img_503_1_month.PNG   \n4               0.033105   Charts/img_504_1_month.PNG   \n..                   ...                          ...   \n495             0.020691  Charts/img_9495_1_month.PNG   \n496             0.033319  Charts/img_9496_1_month.PNG   \n497             0.017374  Charts/img_9497_1_month.PNG   \n498             0.019190  Charts/img_9498_1_month.PNG   \n499             0.010038  Charts/img_9499_1_month.PNG   \n\n                     6_month_img                  12_month_img  \\\n0     Charts/img_500_6_month.PNG   Charts/img_500_12_month.PNG   \n1     Charts/img_501_6_month.PNG   Charts/img_501_12_month.PNG   \n2     Charts/img_502_6_month.PNG   Charts/img_502_12_month.PNG   \n3     Charts/img_503_6_month.PNG   Charts/img_503_12_month.PNG   \n4     Charts/img_504_6_month.PNG   Charts/img_504_12_month.PNG   \n..                           ...                           ...   \n495  Charts/img_9495_6_month.PNG  Charts/img_9495_12_month.PNG   \n496  Charts/img_9496_6_month.PNG  Charts/img_9496_12_month.PNG   \n497  Charts/img_9497_6_month.PNG  Charts/img_9497_12_month.PNG   \n498  Charts/img_9498_6_month.PNG  Charts/img_9498_12_month.PNG   \n499  Charts/img_9499_6_month.PNG  Charts/img_9499_12_month.PNG   \n\n                     1_month_img_bar                  6_month_img_bar  \\\n0     Charts/img_500_bar_1_month.PNG   Charts/img_500_bar_6_month.PNG   \n1     Charts/img_501_bar_1_month.PNG   Charts/img_501_bar_6_month.PNG   \n2     Charts/img_502_bar_1_month.PNG   Charts/img_502_bar_6_month.PNG   \n3     Charts/img_503_bar_1_month.PNG   Charts/img_503_bar_6_month.PNG   \n4     Charts/img_504_bar_1_month.PNG   Charts/img_504_bar_6_month.PNG   \n..                               ...                              ...   \n495  Charts/img_9495_bar_1_month.PNG  Charts/img_9495_bar_6_month.PNG   \n496  Charts/img_9496_bar_1_month.PNG  Charts/img_9496_bar_6_month.PNG   \n497  Charts/img_9497_bar_1_month.PNG  Charts/img_9497_bar_6_month.PNG   \n498  Charts/img_9498_bar_1_month.PNG  Charts/img_9498_bar_6_month.PNG   \n499  Charts/img_9499_bar_1_month.PNG  Charts/img_9499_bar_6_month.PNG   \n\n                     12_month_img_bar  label_1m  1m_return  \n0     Charts/img_500_bar_12_month.PNG         0  -0.013871  \n1     Charts/img_501_bar_12_month.PNG         2   0.015084  \n2     Charts/img_502_bar_12_month.PNG         0  -0.066185  \n3     Charts/img_503_bar_12_month.PNG         1   0.001246  \n4     Charts/img_504_bar_12_month.PNG         2   0.127726  \n..                                ...       ...        ...  \n495  Charts/img_9495_bar_12_month.PNG         2   0.104579  \n496  Charts/img_9496_bar_12_month.PNG         2   0.012205  \n497  Charts/img_9497_bar_12_month.PNG         0  -0.047149  \n498  Charts/img_9498_bar_12_month.PNG         2   0.040489  \n499  Charts/img_9499_bar_12_month.PNG         2   0.024414  \n\n[20989 rows x 17 columns]",
      "text/html": "<div>\n<style scoped>\n    .dataframe tbody tr th:only-of-type {\n        vertical-align: middle;\n    }\n\n    .dataframe tbody tr th {\n        vertical-align: top;\n    }\n\n    .dataframe thead th {\n        text-align: right;\n    }\n</style>\n<table border=\"1\" class=\"dataframe\">\n  <thead>\n    <tr style=\"text-align: right;\">\n      <th></th>\n      <th>asset_file</th>\n      <th>date</th>\n      <th>stock</th>\n      <th>1_month_return</th>\n      <th>6_month_return</th>\n      <th>12_month_return</th>\n      <th>1_month_volatility</th>\n      <th>6_month_volatility</th>\n      <th>12_month_volatility</th>\n      <th>1_month_img</th>\n      <th>6_month_img</th>\n      <th>12_month_img</th>\n      <th>1_month_img_bar</th>\n      <th>6_month_img_bar</th>\n      <th>12_month_img_bar</th>\n      <th>label_1m</th>\n      <th>1m_return</th>\n    </tr>\n  </thead>\n  <tbody>\n    <tr>\n      <th>0</th>\n      <td>Data/Stocks\\ncr.us.txt</td>\n      <td>2004-04-05</td>\n      <td>1</td>\n      <td>0.000439</td>\n      <td>0.317341</td>\n      <td>1.388889</td>\n      <td>0.017516</td>\n      <td>0.016031</td>\n      <td>0.023119</td>\n      <td>Charts/img_500_1_month.PNG</td>\n      <td>Charts/img_500_6_month.PNG</td>\n      <td>Charts/img_500_12_month.PNG</td>\n      <td>Charts/img_500_bar_1_month.PNG</td>\n      <td>Charts/img_500_bar_6_month.PNG</td>\n      <td>Charts/img_500_bar_12_month.PNG</td>\n      <td>0</td>\n      <td>-0.013871</td>\n    </tr>\n    <tr>\n      <th>1</th>\n      <td>Data/Stocks\\chfn.us.txt</td>\n      <td>2013-05-31</td>\n      <td>1</td>\n      <td>-0.001997</td>\n      <td>0.284303</td>\n      <td>0.399270</td>\n      <td>0.004603</td>\n      <td>0.009990</td>\n      <td>0.017845</td>\n      <td>Charts/img_501_1_month.PNG</td>\n      <td>Charts/img_501_6_month.PNG</td>\n      <td>Charts/img_501_12_month.PNG</td>\n      <td>Charts/img_501_bar_1_month.PNG</td>\n      <td>Charts/img_501_bar_6_month.PNG</td>\n      <td>Charts/img_501_bar_12_month.PNG</td>\n      <td>2</td>\n      <td>0.015084</td>\n    </tr>\n    <tr>\n      <th>2</th>\n      <td>Data/Stocks\\tmst.us.txt</td>\n      <td>2016-01-05</td>\n      <td>1</td>\n      <td>-0.151767</td>\n      <td>-0.657503</td>\n      <td>-0.770941</td>\n      <td>0.054340</td>\n      <td>0.050027</td>\n      <td>0.039493</td>\n      <td>Charts/img_502_1_month.PNG</td>\n      <td>Charts/img_502_6_month.PNG</td>\n      <td>Charts/img_502_12_month.PNG</td>\n      <td>Charts/img_502_bar_1_month.PNG</td>\n      <td>Charts/img_502_bar_6_month.PNG</td>\n      <td>Charts/img_502_bar_12_month.PNG</td>\n      <td>0</td>\n      <td>-0.066185</td>\n    </tr>\n    <tr>\n      <th>3</th>\n      <td>Data/Stocks\\gjp.us.txt</td>\n      <td>2012-08-16</td>\n      <td>1</td>\n      <td>-0.053945</td>\n      <td>-0.075769</td>\n      <td>0.000470</td>\n      <td>0.015497</td>\n      <td>0.013264</td>\n      <td>0.016023</td>\n      <td>Charts/img_503_1_month.PNG</td>\n      <td>Charts/img_503_6_month.PNG</td>\n      <td>Charts/img_503_12_month.PNG</td>\n      <td>Charts/img_503_bar_1_month.PNG</td>\n      <td>Charts/img_503_bar_6_month.PNG</td>\n      <td>Charts/img_503_bar_12_month.PNG</td>\n      <td>1</td>\n      <td>0.001246</td>\n    </tr>\n    <tr>\n      <th>4</th>\n      <td>Data/Stocks\\hvt-a.us.txt</td>\n      <td>2011-09-27</td>\n      <td>1</td>\n      <td>-0.104041</td>\n      <td>-0.224486</td>\n      <td>-0.056672</td>\n      <td>0.040486</td>\n      <td>0.039216</td>\n      <td>0.033105</td>\n      <td>Charts/img_504_1_month.PNG</td>\n      <td>Charts/img_504_6_month.PNG</td>\n      <td>Charts/img_504_12_month.PNG</td>\n      <td>Charts/img_504_bar_1_month.PNG</td>\n      <td>Charts/img_504_bar_6_month.PNG</td>\n      <td>Charts/img_504_bar_12_month.PNG</td>\n      <td>2</td>\n      <td>0.127726</td>\n    </tr>\n    <tr>\n      <th>...</th>\n      <td>...</td>\n      <td>...</td>\n      <td>...</td>\n      <td>...</td>\n      <td>...</td>\n      <td>...</td>\n      <td>...</td>\n      <td>...</td>\n      <td>...</td>\n      <td>...</td>\n      <td>...</td>\n      <td>...</td>\n      <td>...</td>\n      <td>...</td>\n      <td>...</td>\n      <td>...</td>\n      <td>...</td>\n    </tr>\n    <tr>\n      <th>495</th>\n      <td>Data/Stocks\\sfl.us.txt</td>\n      <td>2008-01-24</td>\n      <td>1</td>\n      <td>-0.157712</td>\n      <td>-0.122881</td>\n      <td>0.014062</td>\n      <td>0.018766</td>\n      <td>0.024021</td>\n      <td>0.020691</td>\n      <td>Charts/img_9495_1_month.PNG</td>\n      <td>Charts/img_9495_6_month.PNG</td>\n      <td>Charts/img_9495_12_month.PNG</td>\n      <td>Charts/img_9495_bar_1_month.PNG</td>\n      <td>Charts/img_9495_bar_6_month.PNG</td>\n      <td>Charts/img_9495_bar_12_month.PNG</td>\n      <td>2</td>\n      <td>0.104579</td>\n    </tr>\n    <tr>\n      <th>496</th>\n      <td>Data/Stocks\\belfa.us.txt</td>\n      <td>2010-08-18</td>\n      <td>1</td>\n      <td>0.201255</td>\n      <td>0.056782</td>\n      <td>0.345961</td>\n      <td>0.051319</td>\n      <td>0.035508</td>\n      <td>0.033319</td>\n      <td>Charts/img_9496_1_month.PNG</td>\n      <td>Charts/img_9496_6_month.PNG</td>\n      <td>Charts/img_9496_12_month.PNG</td>\n      <td>Charts/img_9496_bar_1_month.PNG</td>\n      <td>Charts/img_9496_bar_6_month.PNG</td>\n      <td>Charts/img_9496_bar_12_month.PNG</td>\n      <td>2</td>\n      <td>0.012205</td>\n    </tr>\n    <tr>\n      <th>497</th>\n      <td>Data/Stocks\\evhc.us.txt</td>\n      <td>2014-09-02</td>\n      <td>1</td>\n      <td>0.047564</td>\n      <td>0.074978</td>\n      <td>0.393275</td>\n      <td>0.008937</td>\n      <td>0.015356</td>\n      <td>0.017374</td>\n      <td>Charts/img_9497_1_month.PNG</td>\n      <td>Charts/img_9497_6_month.PNG</td>\n      <td>Charts/img_9497_12_month.PNG</td>\n      <td>Charts/img_9497_bar_1_month.PNG</td>\n      <td>Charts/img_9497_bar_6_month.PNG</td>\n      <td>Charts/img_9497_bar_12_month.PNG</td>\n      <td>0</td>\n      <td>-0.047149</td>\n    </tr>\n    <tr>\n      <th>498</th>\n      <td>Data/Stocks\\snp.us.txt</td>\n      <td>2010-07-21</td>\n      <td>1</td>\n      <td>-0.045617</td>\n      <td>-0.006414</td>\n      <td>-0.041886</td>\n      <td>0.014021</td>\n      <td>0.017807</td>\n      <td>0.019190</td>\n      <td>Charts/img_9498_1_month.PNG</td>\n      <td>Charts/img_9498_6_month.PNG</td>\n      <td>Charts/img_9498_12_month.PNG</td>\n      <td>Charts/img_9498_bar_1_month.PNG</td>\n      <td>Charts/img_9498_bar_6_month.PNG</td>\n      <td>Charts/img_9498_bar_12_month.PNG</td>\n      <td>2</td>\n      <td>0.040489</td>\n    </tr>\n    <tr>\n      <th>499</th>\n      <td>Data/Stocks\\susa.us.txt</td>\n      <td>2016-03-22</td>\n      <td>1</td>\n      <td>0.075041</td>\n      <td>0.083046</td>\n      <td>-0.014023</td>\n      <td>0.007646</td>\n      <td>0.010423</td>\n      <td>0.010038</td>\n      <td>Charts/img_9499_1_month.PNG</td>\n      <td>Charts/img_9499_6_month.PNG</td>\n      <td>Charts/img_9499_12_month.PNG</td>\n      <td>Charts/img_9499_bar_1_month.PNG</td>\n      <td>Charts/img_9499_bar_6_month.PNG</td>\n      <td>Charts/img_9499_bar_12_month.PNG</td>\n      <td>2</td>\n      <td>0.024414</td>\n    </tr>\n  </tbody>\n</table>\n<p>20989 rows × 17 columns</p>\n</div>"
     },
     "execution_count": 41,
     "metadata": {},
     "output_type": "execute_result"
    }
   ],
   "source": [
    "observations"
   ],
   "metadata": {
    "collapsed": false,
    "pycharm": {
     "name": "#%%\n"
    }
   }
  },
  {
   "cell_type": "markdown",
   "source": [
    "## Labels"
   ],
   "metadata": {
    "collapsed": false
   }
  },
  {
   "cell_type": "code",
   "execution_count": 42,
   "outputs": [
    {
     "data": {
      "text/plain": "          count\nlabel_1m       \n0          8131\n1          3059\n2          9799",
      "text/html": "<div>\n<style scoped>\n    .dataframe tbody tr th:only-of-type {\n        vertical-align: middle;\n    }\n\n    .dataframe tbody tr th {\n        vertical-align: top;\n    }\n\n    .dataframe thead th {\n        text-align: right;\n    }\n</style>\n<table border=\"1\" class=\"dataframe\">\n  <thead>\n    <tr style=\"text-align: right;\">\n      <th></th>\n      <th>count</th>\n    </tr>\n    <tr>\n      <th>label_1m</th>\n      <th></th>\n    </tr>\n  </thead>\n  <tbody>\n    <tr>\n      <th>0</th>\n      <td>8131</td>\n    </tr>\n    <tr>\n      <th>1</th>\n      <td>3059</td>\n    </tr>\n    <tr>\n      <th>2</th>\n      <td>9799</td>\n    </tr>\n  </tbody>\n</table>\n</div>"
     },
     "execution_count": 42,
     "metadata": {},
     "output_type": "execute_result"
    }
   ],
   "source": [
    "observations.groupby(\"label_1m\").agg(count=(\"stock\", \"count\"))"
   ],
   "metadata": {
    "collapsed": false,
    "pycharm": {
     "name": "#%%\n"
    }
   }
  },
  {
   "cell_type": "markdown",
   "source": [
    "The above distribution of labels is in line with our intuition about equity returns. There are slightly more positive returns (label 2) than negative returns (label 0) and a rather small number of neutral returns (label 1). This imbalance might create problems for the training of a model. Hence, the training sample will need to be balanced."
   ],
   "metadata": {
    "collapsed": false,
    "pycharm": {
     "name": "#%% md\n"
    }
   }
  },
  {
   "cell_type": "markdown",
   "source": [
    "## Date"
   ],
   "metadata": {
    "collapsed": false,
    "pycharm": {
     "name": "#%% md\n"
    }
   }
  },
  {
   "cell_type": "code",
   "execution_count": 43,
   "outputs": [
    {
     "data": {
      "text/plain": "<matplotlib.axes._subplots.AxesSubplot at 0x1b7d2285888>"
     },
     "execution_count": 43,
     "metadata": {},
     "output_type": "execute_result"
    },
    {
     "data": {
      "text/plain": "<Figure size 432x288 with 1 Axes>",
      "image/png": "[encoded data removed]"
     },
     "metadata": {
      "needs_background": "light"
     },
     "output_type": "display_data"
    }
   ],
   "source": [
    "observations.date.hist(bins=20)"
   ],
   "metadata": {
    "collapsed": false,
    "pycharm": {
     "name": "#%%\n"
    }
   }
  },
  {
   "cell_type": "markdown",
   "source": [
    "From the above histogram, the data appears to be skewed towards more recent dates. This could introduce biases in the model as more recent events are more present in the dataset."
   ],
   "metadata": {
    "collapsed": false,
    "pycharm": {
     "name": "#%% md\n"
    }
   }
  },
  {
   "cell_type": "markdown",
   "source": [
    "## Returns"
   ],
   "metadata": {
    "collapsed": false,
    "pycharm": {
     "name": "#%% md\n"
    }
   }
  },
  {
   "cell_type": "code",
   "execution_count": 44,
   "outputs": [
    {
     "data": {
      "text/plain": "       1_month_return  6_month_return  12_month_return\ncount    20989.000000    20989.000000     20989.000000\nmean         0.008963        0.044049         0.089833\nstd          0.145539        0.429713         0.595435\nmin         -0.847875       -0.974227        -0.979545\n25%         -0.041001       -0.101765        -0.146552\n50%          0.004908        0.022643         0.037957\n75%          0.050154        0.136464         0.220393\nmax          8.709302       32.200000        23.400000",
      "text/html": "<div>\n<style scoped>\n    .dataframe tbody tr th:only-of-type {\n        vertical-align: middle;\n    }\n\n    .dataframe tbody tr th {\n        vertical-align: top;\n    }\n\n    .dataframe thead th {\n        text-align: right;\n    }\n</style>\n<table border=\"1\" class=\"dataframe\">\n  <thead>\n    <tr style=\"text-align: right;\">\n      <th></th>\n      <th>1_month_return</th>\n      <th>6_month_return</th>\n      <th>12_month_return</th>\n    </tr>\n  </thead>\n  <tbody>\n    <tr>\n      <th>count</th>\n      <td>20989.000000</td>\n      <td>20989.000000</td>\n      <td>20989.000000</td>\n    </tr>\n    <tr>\n      <th>mean</th>\n      <td>0.008963</td>\n      <td>0.044049</td>\n      <td>0.089833</td>\n    </tr>\n    <tr>\n      <th>std</th>\n      <td>0.145539</td>\n      <td>0.429713</td>\n      <td>0.595435</td>\n    </tr>\n    <tr>\n      <th>min</th>\n      <td>-0.847875</td>\n      <td>-0.974227</td>\n      <td>-0.979545</td>\n    </tr>\n    <tr>\n      <th>25%</th>\n      <td>-0.041001</td>\n      <td>-0.101765</td>\n      <td>-0.146552</td>\n    </tr>\n    <tr>\n      <th>50%</th>\n      <td>0.004908</td>\n      <td>0.022643</td>\n      <td>0.037957</td>\n    </tr>\n    <tr>\n      <th>75%</th>\n      <td>0.050154</td>\n      <td>0.136464</td>\n      <td>0.220393</td>\n    </tr>\n    <tr>\n      <th>max</th>\n      <td>8.709302</td>\n      <td>32.200000</td>\n      <td>23.400000</td>\n    </tr>\n  </tbody>\n</table>\n</div>"
     },
     "execution_count": 44,
     "metadata": {},
     "output_type": "execute_result"
    }
   ],
   "source": [
    "observations[[\"1_month_return\", \"6_month_return\", \"12_month_return\"]].describe()"
   ],
   "metadata": {
    "collapsed": false,
    "pycharm": {
     "name": "#%%\n"
    }
   }
  },
  {
   "cell_type": "markdown",
   "source": [
    "From this overview, it appears that there are some extreme returns. For instance 921% returns in the 1 month returns, 515% returns in the 6 month returns, and 2071% returns in the 12 month returns. These outliers could make the trained model less generalizable. To prevent this, returns will be limited to 100% returns. This still corresponds to a 2X return over the period, which is highly unlikely but within reasonable bounds. Returns are also limited on the negative end to -50%, corresponding to a halving of the share price."
   ],
   "metadata": {
    "collapsed": false,
    "pycharm": {
     "name": "#%% md\n"
    }
   }
  },
  {
   "cell_type": "code",
   "execution_count": 45,
   "outputs": [],
   "source": [
    "observations = observations[\n",
    "    (observations[\"1_month_return\"] <= 1) &\n",
    "    (observations[\"6_month_return\"] <= 1) &\n",
    "    (observations[\"12_month_return\"] <= 1) &\n",
    "    (observations[\"1_month_return\"] >= -0.5) &\n",
    "    (observations[\"6_month_return\"] >= -0.5) &\n",
    "    (observations[\"12_month_return\"] >= -0.5)\n",
    "].copy()"
   ],
   "metadata": {
    "collapsed": false,
    "pycharm": {
     "name": "#%%\n"
    }
   }
  },
  {
   "cell_type": "code",
   "execution_count": 46,
   "outputs": [
    {
     "data": {
      "text/plain": "18594"
     },
     "execution_count": 46,
     "metadata": {},
     "output_type": "execute_result"
    }
   ],
   "source": [
    "len(observations.index)"
   ],
   "metadata": {
    "collapsed": false,
    "pycharm": {
     "name": "#%%\n"
    }
   }
  },
  {
   "cell_type": "markdown",
   "source": [
    "From the original dataset of 9994 observations, 51 were removed leaving us with a dataset of 9943 observations."
   ],
   "metadata": {
    "collapsed": false,
    "pycharm": {
     "name": "#%% md\n"
    }
   }
  },
  {
   "cell_type": "markdown",
   "source": [
    "## Volatility"
   ],
   "metadata": {
    "collapsed": false,
    "pycharm": {
     "name": "#%% md\n"
    }
   }
  },
  {
   "cell_type": "code",
   "execution_count": 47,
   "outputs": [
    {
     "data": {
      "text/plain": "       1_month_volatility  6_month_volatility  12_month_volatility\ncount        18594.000000        18594.000000         18594.000000\nmean             0.019793            0.021124             0.063550\nstd              0.021977            0.018278             5.635772\nmin              0.000000            0.000071             0.000081\n25%              0.009521            0.010999             0.011299\n50%              0.015705            0.017517             0.017962\n75%              0.025101            0.027124             0.027824\nmax              2.047381            0.835643           768.485131",
      "text/html": "<div>\n<style scoped>\n    .dataframe tbody tr th:only-of-type {\n        vertical-align: middle;\n    }\n\n    .dataframe tbody tr th {\n        vertical-align: top;\n    }\n\n    .dataframe thead th {\n        text-align: right;\n    }\n</style>\n<table border=\"1\" class=\"dataframe\">\n  <thead>\n    <tr style=\"text-align: right;\">\n      <th></th>\n      <th>1_month_volatility</th>\n      <th>6_month_volatility</th>\n      <th>12_month_volatility</th>\n    </tr>\n  </thead>\n  <tbody>\n    <tr>\n      <th>count</th>\n      <td>18594.000000</td>\n      <td>18594.000000</td>\n      <td>18594.000000</td>\n    </tr>\n    <tr>\n      <th>mean</th>\n      <td>0.019793</td>\n      <td>0.021124</td>\n      <td>0.063550</td>\n    </tr>\n    <tr>\n      <th>std</th>\n      <td>0.021977</td>\n      <td>0.018278</td>\n      <td>5.635772</td>\n    </tr>\n    <tr>\n      <th>min</th>\n      <td>0.000000</td>\n      <td>0.000071</td>\n      <td>0.000081</td>\n    </tr>\n    <tr>\n      <th>25%</th>\n      <td>0.009521</td>\n      <td>0.010999</td>\n      <td>0.011299</td>\n    </tr>\n    <tr>\n      <th>50%</th>\n      <td>0.015705</td>\n      <td>0.017517</td>\n      <td>0.017962</td>\n    </tr>\n    <tr>\n      <th>75%</th>\n      <td>0.025101</td>\n      <td>0.027124</td>\n      <td>0.027824</td>\n    </tr>\n    <tr>\n      <th>max</th>\n      <td>2.047381</td>\n      <td>0.835643</td>\n      <td>768.485131</td>\n    </tr>\n  </tbody>\n</table>\n</div>"
     },
     "execution_count": 47,
     "metadata": {},
     "output_type": "execute_result"
    }
   ],
   "source": [
    "# 1 month volatility\n",
    "observations[[\"1_month_volatility\", \"6_month_volatility\", \"12_month_volatility\"]].describe()"
   ],
   "metadata": {
    "collapsed": false,
    "pycharm": {
     "name": "#%%\n"
    }
   }
  },
  {
   "cell_type": "markdown",
   "source": [
    "Similar to returns, there are some extremely high volatilities, expecially in the 6 and 12 month features. However, these are limited to very few observations and correspond to the remaining observations with very large returns. They are considered acceptable and will not be removed from the dataset."
   ],
   "metadata": {
    "collapsed": false,
    "pycharm": {
     "name": "#%% md\n"
    }
   }
  },
  {
   "cell_type": "markdown",
   "source": [
    "# Set-up train/validation/test sets\n",
    "\n",
    "Now the datasets will be split into 50% training, 25% validation, and 25% test sets"
   ],
   "metadata": {
    "collapsed": false,
    "pycharm": {
     "name": "#%% md\n"
    }
   }
  },
  {
   "cell_type": "code",
   "execution_count": 48,
   "outputs": [],
   "source": [
    "import os\n",
    "\n",
    "observations.drop(\n",
    "    columns=[\"asset_file\", \"date\"], # these features will not be taken into account during model training/testing\n",
    "    inplace=True\n",
    ")"
   ],
   "metadata": {
    "collapsed": false,
    "pycharm": {
     "name": "#%%\n"
    }
   }
  },
  {
   "cell_type": "code",
   "execution_count": 49,
   "outputs": [],
   "source": [
    "def balance_sample(classes, data, label_name):\n",
    "    \"\"\"\n",
    "    Create a balanced subset of an unbalanced sample\n",
    "\n",
    "    :param classes: the prediction classes\n",
    "    :param data: the dataframe with columns and target classes\n",
    "    :param label_name: the name of the column with the target\n",
    "    :param test_size: the size of the test set\n",
    "    :return: a balanced subset of the unbalanced sample\n",
    "    \"\"\"\n",
    "    data = data.sample(frac=1) # shuffle sample\n",
    "    data.reset_index(drop=True, inplace=True)\n",
    "    data[\"index_flag\"] = data.index\n",
    "\n",
    "    class_sizes = []\n",
    "\n",
    "    for cl in classes:\n",
    "        class_sizes.append(len(data[data[label_name] == cl].index))\n",
    "\n",
    "    min_class_size = np.min(class_sizes)\n",
    "\n",
    "    samples = []\n",
    "\n",
    "    for cl in classes:\n",
    "        t = data[data[label_name] == cl]\n",
    "\n",
    "        t = t.sample(frac=min_class_size / len(t.index))\n",
    "        samples.append(t)\n",
    "\n",
    "    sample = pd.concat(samples)\n",
    "\n",
    "    return sample"
   ],
   "metadata": {
    "collapsed": false,
    "pycharm": {
     "name": "#%%\n"
    }
   }
  },
  {
   "cell_type": "code",
   "execution_count": 50,
   "outputs": [],
   "source": [
    "def balanced_sampler(classes, data, label_name, test_size):\n",
    "    \"\"\"\n",
    "    Create a balanced training sample\n",
    "\n",
    "    :param classes: the prediction classes\n",
    "    :param data: the dataframe with columns and target classes\n",
    "    :param label_name: the name of the column with the target\n",
    "    :param test_size: the size of the test set\n",
    "    :return: a balanced training sample and a test sample containing the rest\n",
    "    \"\"\"\n",
    "    data = data.sample(frac=1)\n",
    "    data.reset_index(drop=True, inplace=True)\n",
    "    data[\"index_flag\"] = data.index\n",
    "\n",
    "    train_class_size = (1 - test_size) / len(classes)\n",
    "\n",
    "    train_samples = []\n",
    "\n",
    "    for cl in classes:\n",
    "        t = data[data[label_name] == cl]\n",
    "\n",
    "        t = t.sample(frac=train_class_size * len(data.index) / len(t.index))\n",
    "        train_samples.append(t)\n",
    "\n",
    "    train_sample = pd.concat(train_samples)\n",
    "    test_sample = data[~data.index_flag.isin(list(train_sample.index_flag))].copy()\n",
    "\n",
    "    # train_sample.drop(columns=[\"index_flag\"], inplace=True)\n",
    "    # test_sample.drop(columns=[\"index_flag\"], inplace=True)\n",
    "\n",
    "    return train_sample, test_sample"
   ],
   "metadata": {
    "collapsed": false,
    "pycharm": {
     "name": "#%%\n"
    }
   }
  },
  {
   "cell_type": "code",
   "execution_count": 51,
   "outputs": [],
   "source": [
    "# Create a subset of the observations that represents a balanced sample between the three classes\n",
    "balanced_observations = balance_sample([0, 1, 2], observations, label_name=\"label_1m\")\n",
    "\n",
    "# Create balanced train, test & validation sub-samples\n",
    "train, temp = balanced_sampler([0, 1, 2], balanced_observations, label_name=\"label_1m\", test_size=0.3)\n",
    "test, val = balanced_sampler([0, 1, 2], temp, label_name=\"label_1m\", test_size=0.5)\n",
    "\n",
    "# Create directory\n",
    "if not os.path.isdir(\"ModelData\"):\n",
    "    os.makedirs(\"ModelData\")"
   ],
   "metadata": {
    "collapsed": false,
    "pycharm": {
     "name": "#%%\n"
    }
   }
  },
  {
   "cell_type": "code",
   "execution_count": 52,
   "outputs": [
    {
     "data": {
      "text/plain": "          temp\nlabel_1m      \n0         2070\n1         2070\n2         2070",
      "text/html": "<div>\n<style scoped>\n    .dataframe tbody tr th:only-of-type {\n        vertical-align: middle;\n    }\n\n    .dataframe tbody tr th {\n        vertical-align: top;\n    }\n\n    .dataframe thead th {\n        text-align: right;\n    }\n</style>\n<table border=\"1\" class=\"dataframe\">\n  <thead>\n    <tr style=\"text-align: right;\">\n      <th></th>\n      <th>temp</th>\n    </tr>\n    <tr>\n      <th>label_1m</th>\n      <th></th>\n    </tr>\n  </thead>\n  <tbody>\n    <tr>\n      <th>0</th>\n      <td>2070</td>\n    </tr>\n    <tr>\n      <th>1</th>\n      <td>2070</td>\n    </tr>\n    <tr>\n      <th>2</th>\n      <td>2070</td>\n    </tr>\n  </tbody>\n</table>\n</div>"
     },
     "execution_count": 52,
     "metadata": {},
     "output_type": "execute_result"
    }
   ],
   "source": [
    "train.groupby(\"label_1m\").agg(temp=(\"stock\", \"count\"))"
   ],
   "metadata": {
    "collapsed": false,
    "pycharm": {
     "name": "#%%\n"
    }
   }
  },
  {
   "cell_type": "code",
   "execution_count": 53,
   "outputs": [
    {
     "data": {
      "text/plain": "          temp\nlabel_1m      \n0          444\n1          444\n2          444",
      "text/html": "<div>\n<style scoped>\n    .dataframe tbody tr th:only-of-type {\n        vertical-align: middle;\n    }\n\n    .dataframe tbody tr th {\n        vertical-align: top;\n    }\n\n    .dataframe thead th {\n        text-align: right;\n    }\n</style>\n<table border=\"1\" class=\"dataframe\">\n  <thead>\n    <tr style=\"text-align: right;\">\n      <th></th>\n      <th>temp</th>\n    </tr>\n    <tr>\n      <th>label_1m</th>\n      <th></th>\n    </tr>\n  </thead>\n  <tbody>\n    <tr>\n      <th>0</th>\n      <td>444</td>\n    </tr>\n    <tr>\n      <th>1</th>\n      <td>444</td>\n    </tr>\n    <tr>\n      <th>2</th>\n      <td>444</td>\n    </tr>\n  </tbody>\n</table>\n</div>"
     },
     "execution_count": 53,
     "metadata": {},
     "output_type": "execute_result"
    }
   ],
   "source": [
    "test.groupby(\"label_1m\").agg(temp=(\"stock\", \"count\"))"
   ],
   "metadata": {
    "collapsed": false,
    "pycharm": {
     "name": "#%%\n"
    }
   }
  },
  {
   "cell_type": "code",
   "execution_count": 54,
   "outputs": [
    {
     "data": {
      "text/plain": "          temp\nlabel_1m      \n0          443\n1          443\n2          443",
      "text/html": "<div>\n<style scoped>\n    .dataframe tbody tr th:only-of-type {\n        vertical-align: middle;\n    }\n\n    .dataframe tbody tr th {\n        vertical-align: top;\n    }\n\n    .dataframe thead th {\n        text-align: right;\n    }\n</style>\n<table border=\"1\" class=\"dataframe\">\n  <thead>\n    <tr style=\"text-align: right;\">\n      <th></th>\n      <th>temp</th>\n    </tr>\n    <tr>\n      <th>label_1m</th>\n      <th></th>\n    </tr>\n  </thead>\n  <tbody>\n    <tr>\n      <th>0</th>\n      <td>443</td>\n    </tr>\n    <tr>\n      <th>1</th>\n      <td>443</td>\n    </tr>\n    <tr>\n      <th>2</th>\n      <td>443</td>\n    </tr>\n  </tbody>\n</table>\n</div>"
     },
     "execution_count": 54,
     "metadata": {},
     "output_type": "execute_result"
    }
   ],
   "source": [
    "val.groupby(\"label_1m\").agg(temp=(\"stock\", \"count\"))"
   ],
   "metadata": {
    "collapsed": false,
    "pycharm": {
     "name": "#%%\n"
    }
   }
  },
  {
   "cell_type": "code",
   "execution_count": 55,
   "outputs": [],
   "source": [
    "\n",
    "train.to_csv(\"ModelData/obs_train.csv\", index=False)\n",
    "val.to_csv(\"ModelData/obs_val.csv\", index=False)\n",
    "test.to_csv(\"ModelData/obs_test.csv\", index=False)"
   ],
   "metadata": {
    "collapsed": false,
    "pycharm": {
     "name": "#%%\n"
    }
   }
  },
  {
   "cell_type": "code",
   "execution_count": 56,
   "outputs": [],
   "source": [
    "import pandas as pd"
   ],
   "metadata": {
    "collapsed": false,
    "pycharm": {
     "name": "#%%\n"
    }
   }
  },
  {
   "cell_type": "code",
   "execution_count": 57,
   "outputs": [
    {
     "data": {
      "text/plain": "      stock  1_month_return  6_month_return  12_month_return  \\\n0         1       -0.042803       -0.033833         0.140251   \n1         1        0.029743        0.234604         0.039763   \n2         1        0.056484        0.110134         0.185832   \n3         1       -0.063903        0.199115         0.335519   \n4         1       -0.058470       -0.208250        -0.291142   \n...     ...             ...             ...              ...   \n6205      1        0.088175        0.196889         0.326502   \n6206      1       -0.003149        0.098674         0.584538   \n6207      1       -0.026273        0.012148         0.028085   \n6208      0        0.102629       -0.305596        -0.231024   \n6209      1        0.024298       -0.009476         0.206766   \n\n      1_month_volatility  6_month_volatility  12_month_volatility  \\\n0               0.012012            0.014734             0.013827   \n1               0.004988            0.013342             0.013793   \n2               0.021896            0.029780             0.038590   \n3               0.022918            0.013827             0.013742   \n4               0.030421            0.020003             0.020039   \n...                  ...                 ...                  ...   \n6205            0.010608            0.021812             0.028337   \n6206            0.015820            0.011924             0.018921   \n6207            0.022964            0.010876             0.009145   \n6208            0.035395            0.028194             0.026663   \n6209            0.013912            0.021594             0.019754   \n\n                       1_month_img                   6_month_img  \\\n0     Charts/img_15609_1_month.PNG  Charts/img_15609_6_month.PNG   \n1     Charts/img_10348_1_month.PNG  Charts/img_10348_6_month.PNG   \n2      Charts/img_4650_1_month.PNG   Charts/img_4650_6_month.PNG   \n3     Charts/img_16581_1_month.PNG  Charts/img_16581_6_month.PNG   \n4     Charts/img_12144_1_month.PNG  Charts/img_12144_6_month.PNG   \n...                            ...                           ...   \n6205    Charts/img_140_1_month.PNG    Charts/img_140_6_month.PNG   \n6206  Charts/img_13587_1_month.PNG  Charts/img_13587_6_month.PNG   \n6207  Charts/img_14783_1_month.PNG  Charts/img_14783_6_month.PNG   \n6208  Charts/img_14960_1_month.PNG  Charts/img_14960_6_month.PNG   \n6209  Charts/img_15701_1_month.PNG  Charts/img_15701_6_month.PNG   \n\n                       12_month_img                   1_month_img_bar  \\\n0     Charts/img_15609_12_month.PNG  Charts/img_15609_bar_1_month.PNG   \n1     Charts/img_10348_12_month.PNG  Charts/img_10348_bar_1_month.PNG   \n2      Charts/img_4650_12_month.PNG   Charts/img_4650_bar_1_month.PNG   \n3     Charts/img_16581_12_month.PNG  Charts/img_16581_bar_1_month.PNG   \n4     Charts/img_12144_12_month.PNG  Charts/img_12144_bar_1_month.PNG   \n...                             ...                               ...   \n6205    Charts/img_140_12_month.PNG    Charts/img_140_bar_1_month.PNG   \n6206  Charts/img_13587_12_month.PNG  Charts/img_13587_bar_1_month.PNG   \n6207  Charts/img_14783_12_month.PNG  Charts/img_14783_bar_1_month.PNG   \n6208  Charts/img_14960_12_month.PNG  Charts/img_14960_bar_1_month.PNG   \n6209  Charts/img_15701_12_month.PNG  Charts/img_15701_bar_1_month.PNG   \n\n                       6_month_img_bar                   12_month_img_bar  \\\n0     Charts/img_15609_bar_6_month.PNG  Charts/img_15609_bar_12_month.PNG   \n1     Charts/img_10348_bar_6_month.PNG  Charts/img_10348_bar_12_month.PNG   \n2      Charts/img_4650_bar_6_month.PNG   Charts/img_4650_bar_12_month.PNG   \n3     Charts/img_16581_bar_6_month.PNG  Charts/img_16581_bar_12_month.PNG   \n4     Charts/img_12144_bar_6_month.PNG  Charts/img_12144_bar_12_month.PNG   \n...                                ...                                ...   \n6205    Charts/img_140_bar_6_month.PNG    Charts/img_140_bar_12_month.PNG   \n6206  Charts/img_13587_bar_6_month.PNG  Charts/img_13587_bar_12_month.PNG   \n6207  Charts/img_14783_bar_6_month.PNG  Charts/img_14783_bar_12_month.PNG   \n6208  Charts/img_14960_bar_6_month.PNG  Charts/img_14960_bar_12_month.PNG   \n6209  Charts/img_15701_bar_6_month.PNG  Charts/img_15701_bar_12_month.PNG   \n\n      label_1m  1m_return  index_flag  \n0            0  -0.104347        4392  \n1            0  -0.011246        8775  \n2            0  -0.055722        8343  \n3            0  -0.068410        6599  \n4            0  -0.032488        3067  \n...        ...        ...         ...  \n6205         2   0.061768        7609  \n6206         2   0.023032        4969  \n6207         2   0.012016        1047  \n6208         2   0.139437         144  \n6209         2   0.101732          70  \n\n[6210 rows x 16 columns]",
      "text/html": "<div>\n<style scoped>\n    .dataframe tbody tr th:only-of-type {\n        vertical-align: middle;\n    }\n\n    .dataframe tbody tr th {\n        vertical-align: top;\n    }\n\n    .dataframe thead th {\n        text-align: right;\n    }\n</style>\n<table border=\"1\" class=\"dataframe\">\n  <thead>\n    <tr style=\"text-align: right;\">\n      <th></th>\n      <th>stock</th>\n      <th>1_month_return</th>\n      <th>6_month_return</th>\n      <th>12_month_return</th>\n      <th>1_month_volatility</th>\n      <th>6_month_volatility</th>\n      <th>12_month_volatility</th>\n      <th>1_month_img</th>\n      <th>6_month_img</th>\n      <th>12_month_img</th>\n      <th>1_month_img_bar</th>\n      <th>6_month_img_bar</th>\n      <th>12_month_img_bar</th>\n      <th>label_1m</th>\n      <th>1m_return</th>\n      <th>index_flag</th>\n    </tr>\n  </thead>\n  <tbody>\n    <tr>\n      <th>0</th>\n      <td>1</td>\n      <td>-0.042803</td>\n      <td>-0.033833</td>\n      <td>0.140251</td>\n      <td>0.012012</td>\n      <td>0.014734</td>\n      <td>0.013827</td>\n      <td>Charts/img_15609_1_month.PNG</td>\n      <td>Charts/img_15609_6_month.PNG</td>\n      <td>Charts/img_15609_12_month.PNG</td>\n      <td>Charts/img_15609_bar_1_month.PNG</td>\n      <td>Charts/img_15609_bar_6_month.PNG</td>\n      <td>Charts/img_15609_bar_12_month.PNG</td>\n      <td>0</td>\n      <td>-0.104347</td>\n      <td>4392</td>\n    </tr>\n    <tr>\n      <th>1</th>\n      <td>1</td>\n      <td>0.029743</td>\n      <td>0.234604</td>\n      <td>0.039763</td>\n      <td>0.004988</td>\n      <td>0.013342</td>\n      <td>0.013793</td>\n      <td>Charts/img_10348_1_month.PNG</td>\n      <td>Charts/img_10348_6_month.PNG</td>\n      <td>Charts/img_10348_12_month.PNG</td>\n      <td>Charts/img_10348_bar_1_month.PNG</td>\n      <td>Charts/img_10348_bar_6_month.PNG</td>\n      <td>Charts/img_10348_bar_12_month.PNG</td>\n      <td>0</td>\n      <td>-0.011246</td>\n      <td>8775</td>\n    </tr>\n    <tr>\n      <th>2</th>\n      <td>1</td>\n      <td>0.056484</td>\n      <td>0.110134</td>\n      <td>0.185832</td>\n      <td>0.021896</td>\n      <td>0.029780</td>\n      <td>0.038590</td>\n      <td>Charts/img_4650_1_month.PNG</td>\n      <td>Charts/img_4650_6_month.PNG</td>\n      <td>Charts/img_4650_12_month.PNG</td>\n      <td>Charts/img_4650_bar_1_month.PNG</td>\n      <td>Charts/img_4650_bar_6_month.PNG</td>\n      <td>Charts/img_4650_bar_12_month.PNG</td>\n      <td>0</td>\n      <td>-0.055722</td>\n      <td>8343</td>\n    </tr>\n    <tr>\n      <th>3</th>\n      <td>1</td>\n      <td>-0.063903</td>\n      <td>0.199115</td>\n      <td>0.335519</td>\n      <td>0.022918</td>\n      <td>0.013827</td>\n      <td>0.013742</td>\n      <td>Charts/img_16581_1_month.PNG</td>\n      <td>Charts/img_16581_6_month.PNG</td>\n      <td>Charts/img_16581_12_month.PNG</td>\n      <td>Charts/img_16581_bar_1_month.PNG</td>\n      <td>Charts/img_16581_bar_6_month.PNG</td>\n      <td>Charts/img_16581_bar_12_month.PNG</td>\n      <td>0</td>\n      <td>-0.068410</td>\n      <td>6599</td>\n    </tr>\n    <tr>\n      <th>4</th>\n      <td>1</td>\n      <td>-0.058470</td>\n      <td>-0.208250</td>\n      <td>-0.291142</td>\n      <td>0.030421</td>\n      <td>0.020003</td>\n      <td>0.020039</td>\n      <td>Charts/img_12144_1_month.PNG</td>\n      <td>Charts/img_12144_6_month.PNG</td>\n      <td>Charts/img_12144_12_month.PNG</td>\n      <td>Charts/img_12144_bar_1_month.PNG</td>\n      <td>Charts/img_12144_bar_6_month.PNG</td>\n      <td>Charts/img_12144_bar_12_month.PNG</td>\n      <td>0</td>\n      <td>-0.032488</td>\n      <td>3067</td>\n    </tr>\n    <tr>\n      <th>...</th>\n      <td>...</td>\n      <td>...</td>\n      <td>...</td>\n      <td>...</td>\n      <td>...</td>\n      <td>...</td>\n      <td>...</td>\n      <td>...</td>\n      <td>...</td>\n      <td>...</td>\n      <td>...</td>\n      <td>...</td>\n      <td>...</td>\n      <td>...</td>\n      <td>...</td>\n      <td>...</td>\n    </tr>\n    <tr>\n      <th>6205</th>\n      <td>1</td>\n      <td>0.088175</td>\n      <td>0.196889</td>\n      <td>0.326502</td>\n      <td>0.010608</td>\n      <td>0.021812</td>\n      <td>0.028337</td>\n      <td>Charts/img_140_1_month.PNG</td>\n      <td>Charts/img_140_6_month.PNG</td>\n      <td>Charts/img_140_12_month.PNG</td>\n      <td>Charts/img_140_bar_1_month.PNG</td>\n      <td>Charts/img_140_bar_6_month.PNG</td>\n      <td>Charts/img_140_bar_12_month.PNG</td>\n      <td>2</td>\n      <td>0.061768</td>\n      <td>7609</td>\n    </tr>\n    <tr>\n      <th>6206</th>\n      <td>1</td>\n      <td>-0.003149</td>\n      <td>0.098674</td>\n      <td>0.584538</td>\n      <td>0.015820</td>\n      <td>0.011924</td>\n      <td>0.018921</td>\n      <td>Charts/img_13587_1_month.PNG</td>\n      <td>Charts/img_13587_6_month.PNG</td>\n      <td>Charts/img_13587_12_month.PNG</td>\n      <td>Charts/img_13587_bar_1_month.PNG</td>\n      <td>Charts/img_13587_bar_6_month.PNG</td>\n      <td>Charts/img_13587_bar_12_month.PNG</td>\n      <td>2</td>\n      <td>0.023032</td>\n      <td>4969</td>\n    </tr>\n    <tr>\n      <th>6207</th>\n      <td>1</td>\n      <td>-0.026273</td>\n      <td>0.012148</td>\n      <td>0.028085</td>\n      <td>0.022964</td>\n      <td>0.010876</td>\n      <td>0.009145</td>\n      <td>Charts/img_14783_1_month.PNG</td>\n      <td>Charts/img_14783_6_month.PNG</td>\n      <td>Charts/img_14783_12_month.PNG</td>\n      <td>Charts/img_14783_bar_1_month.PNG</td>\n      <td>Charts/img_14783_bar_6_month.PNG</td>\n      <td>Charts/img_14783_bar_12_month.PNG</td>\n      <td>2</td>\n      <td>0.012016</td>\n      <td>1047</td>\n    </tr>\n    <tr>\n      <th>6208</th>\n      <td>0</td>\n      <td>0.102629</td>\n      <td>-0.305596</td>\n      <td>-0.231024</td>\n      <td>0.035395</td>\n      <td>0.028194</td>\n      <td>0.026663</td>\n      <td>Charts/img_14960_1_month.PNG</td>\n      <td>Charts/img_14960_6_month.PNG</td>\n      <td>Charts/img_14960_12_month.PNG</td>\n      <td>Charts/img_14960_bar_1_month.PNG</td>\n      <td>Charts/img_14960_bar_6_month.PNG</td>\n      <td>Charts/img_14960_bar_12_month.PNG</td>\n      <td>2</td>\n      <td>0.139437</td>\n      <td>144</td>\n    </tr>\n    <tr>\n      <th>6209</th>\n      <td>1</td>\n      <td>0.024298</td>\n      <td>-0.009476</td>\n      <td>0.206766</td>\n      <td>0.013912</td>\n      <td>0.021594</td>\n      <td>0.019754</td>\n      <td>Charts/img_15701_1_month.PNG</td>\n      <td>Charts/img_15701_6_month.PNG</td>\n      <td>Charts/img_15701_12_month.PNG</td>\n      <td>Charts/img_15701_bar_1_month.PNG</td>\n      <td>Charts/img_15701_bar_6_month.PNG</td>\n      <td>Charts/img_15701_bar_12_month.PNG</td>\n      <td>2</td>\n      <td>0.101732</td>\n      <td>70</td>\n    </tr>\n  </tbody>\n</table>\n<p>6210 rows × 16 columns</p>\n</div>"
     },
     "execution_count": 57,
     "metadata": {},
     "output_type": "execute_result"
    }
   ],
   "source": [
    "pd.read_csv(\"ModelData/obs_train.csv\")"
   ],
   "metadata": {
    "collapsed": false,
    "pycharm": {
     "name": "#%%\n"
    }
   }
  },
  {
   "cell_type": "code",
   "execution_count": 58,
   "outputs": [
    {
     "data": {
      "text/plain": "      stock  1_month_return  6_month_return  12_month_return  \\\n0         0       -0.012306       -0.084302        -0.268523   \n1         1       -0.088112       -0.045388         0.326102   \n2         0       -0.012658       -0.060241        -0.077833   \n3         1       -0.303030       -0.371223         0.790984   \n4         1        0.081347        0.203888         0.821004   \n...     ...             ...             ...              ...   \n1327      0        0.031311       -0.052792         0.006433   \n1328      0        0.033799       -0.080392         0.250667   \n1329      1        0.004049        0.130018         0.255618   \n1330      1        0.016754        0.007798         0.395521   \n1331      1        0.051980       -0.017624         0.038301   \n\n      1_month_volatility  6_month_volatility  12_month_volatility  \\\n0               0.013506            0.016168             0.014602   \n1               0.015214            0.016151             0.015666   \n2               0.002789            0.003249             0.004756   \n3               0.037030            0.041612             0.047806   \n4               0.015006            0.017188             0.017584   \n...                  ...                 ...                  ...   \n1327            0.015632            0.035893             0.027604   \n1328            0.016148            0.016633             0.015454   \n1329            0.011868            0.013561             0.016331   \n1330            0.011079            0.017375             0.017274   \n1331            0.006708            0.012082             0.009618   \n\n                       1_month_img                   6_month_img  \\\n0      Charts/img_7618_1_month.PNG   Charts/img_7618_6_month.PNG   \n1      Charts/img_3701_1_month.PNG   Charts/img_3701_6_month.PNG   \n2     Charts/img_17116_1_month.PNG  Charts/img_17116_6_month.PNG   \n3     Charts/img_14439_1_month.PNG  Charts/img_14439_6_month.PNG   \n4      Charts/img_9289_1_month.PNG   Charts/img_9289_6_month.PNG   \n...                            ...                           ...   \n1327   Charts/img_4957_1_month.PNG   Charts/img_4957_6_month.PNG   \n1328    Charts/img_486_1_month.PNG    Charts/img_486_6_month.PNG   \n1329   Charts/img_8947_1_month.PNG   Charts/img_8947_6_month.PNG   \n1330  Charts/img_11066_1_month.PNG  Charts/img_11066_6_month.PNG   \n1331  Charts/img_16678_1_month.PNG  Charts/img_16678_6_month.PNG   \n\n                       12_month_img                   1_month_img_bar  \\\n0      Charts/img_7618_12_month.PNG   Charts/img_7618_bar_1_month.PNG   \n1      Charts/img_3701_12_month.PNG   Charts/img_3701_bar_1_month.PNG   \n2     Charts/img_17116_12_month.PNG  Charts/img_17116_bar_1_month.PNG   \n3     Charts/img_14439_12_month.PNG  Charts/img_14439_bar_1_month.PNG   \n4      Charts/img_9289_12_month.PNG   Charts/img_9289_bar_1_month.PNG   \n...                             ...                               ...   \n1327   Charts/img_4957_12_month.PNG   Charts/img_4957_bar_1_month.PNG   \n1328    Charts/img_486_12_month.PNG    Charts/img_486_bar_1_month.PNG   \n1329   Charts/img_8947_12_month.PNG   Charts/img_8947_bar_1_month.PNG   \n1330  Charts/img_11066_12_month.PNG  Charts/img_11066_bar_1_month.PNG   \n1331  Charts/img_16678_12_month.PNG  Charts/img_16678_bar_1_month.PNG   \n\n                       6_month_img_bar                   12_month_img_bar  \\\n0      Charts/img_7618_bar_6_month.PNG   Charts/img_7618_bar_12_month.PNG   \n1      Charts/img_3701_bar_6_month.PNG   Charts/img_3701_bar_12_month.PNG   \n2     Charts/img_17116_bar_6_month.PNG  Charts/img_17116_bar_12_month.PNG   \n3     Charts/img_14439_bar_6_month.PNG  Charts/img_14439_bar_12_month.PNG   \n4      Charts/img_9289_bar_6_month.PNG   Charts/img_9289_bar_12_month.PNG   \n...                                ...                                ...   \n1327   Charts/img_4957_bar_6_month.PNG   Charts/img_4957_bar_12_month.PNG   \n1328    Charts/img_486_bar_6_month.PNG    Charts/img_486_bar_12_month.PNG   \n1329   Charts/img_8947_bar_6_month.PNG   Charts/img_8947_bar_12_month.PNG   \n1330  Charts/img_11066_bar_6_month.PNG  Charts/img_11066_bar_12_month.PNG   \n1331  Charts/img_16678_bar_6_month.PNG  Charts/img_16678_bar_12_month.PNG   \n\n      label_1m  1m_return  index_flag  \n0            0  -0.067602           0  \n1            0  -0.076806        1418  \n2            0  -0.013835        1001  \n3            0  -0.173469        2057  \n4            0  -0.107517         991  \n...        ...        ...         ...  \n1327         2   0.042066         772  \n1328         2   0.025265        1432  \n1329         2   0.044350         521  \n1330         2   0.073949        1581  \n1331         2   0.023724          50  \n\n[1332 rows x 16 columns]",
      "text/html": "<div>\n<style scoped>\n    .dataframe tbody tr th:only-of-type {\n        vertical-align: middle;\n    }\n\n    .dataframe tbody tr th {\n        vertical-align: top;\n    }\n\n    .dataframe thead th {\n        text-align: right;\n    }\n</style>\n<table border=\"1\" class=\"dataframe\">\n  <thead>\n    <tr style=\"text-align: right;\">\n      <th></th>\n      <th>stock</th>\n      <th>1_month_return</th>\n      <th>6_month_return</th>\n      <th>12_month_return</th>\n      <th>1_month_volatility</th>\n      <th>6_month_volatility</th>\n      <th>12_month_volatility</th>\n      <th>1_month_img</th>\n      <th>6_month_img</th>\n      <th>12_month_img</th>\n      <th>1_month_img_bar</th>\n      <th>6_month_img_bar</th>\n      <th>12_month_img_bar</th>\n      <th>label_1m</th>\n      <th>1m_return</th>\n      <th>index_flag</th>\n    </tr>\n  </thead>\n  <tbody>\n    <tr>\n      <th>0</th>\n      <td>0</td>\n      <td>-0.012306</td>\n      <td>-0.084302</td>\n      <td>-0.268523</td>\n      <td>0.013506</td>\n      <td>0.016168</td>\n      <td>0.014602</td>\n      <td>Charts/img_7618_1_month.PNG</td>\n      <td>Charts/img_7618_6_month.PNG</td>\n      <td>Charts/img_7618_12_month.PNG</td>\n      <td>Charts/img_7618_bar_1_month.PNG</td>\n      <td>Charts/img_7618_bar_6_month.PNG</td>\n      <td>Charts/img_7618_bar_12_month.PNG</td>\n      <td>0</td>\n      <td>-0.067602</td>\n      <td>0</td>\n    </tr>\n    <tr>\n      <th>1</th>\n      <td>1</td>\n      <td>-0.088112</td>\n      <td>-0.045388</td>\n      <td>0.326102</td>\n      <td>0.015214</td>\n      <td>0.016151</td>\n      <td>0.015666</td>\n      <td>Charts/img_3701_1_month.PNG</td>\n      <td>Charts/img_3701_6_month.PNG</td>\n      <td>Charts/img_3701_12_month.PNG</td>\n      <td>Charts/img_3701_bar_1_month.PNG</td>\n      <td>Charts/img_3701_bar_6_month.PNG</td>\n      <td>Charts/img_3701_bar_12_month.PNG</td>\n      <td>0</td>\n      <td>-0.076806</td>\n      <td>1418</td>\n    </tr>\n    <tr>\n      <th>2</th>\n      <td>0</td>\n      <td>-0.012658</td>\n      <td>-0.060241</td>\n      <td>-0.077833</td>\n      <td>0.002789</td>\n      <td>0.003249</td>\n      <td>0.004756</td>\n      <td>Charts/img_17116_1_month.PNG</td>\n      <td>Charts/img_17116_6_month.PNG</td>\n      <td>Charts/img_17116_12_month.PNG</td>\n      <td>Charts/img_17116_bar_1_month.PNG</td>\n      <td>Charts/img_17116_bar_6_month.PNG</td>\n      <td>Charts/img_17116_bar_12_month.PNG</td>\n      <td>0</td>\n      <td>-0.013835</td>\n      <td>1001</td>\n    </tr>\n    <tr>\n      <th>3</th>\n      <td>1</td>\n      <td>-0.303030</td>\n      <td>-0.371223</td>\n      <td>0.790984</td>\n      <td>0.037030</td>\n      <td>0.041612</td>\n      <td>0.047806</td>\n      <td>Charts/img_14439_1_month.PNG</td>\n      <td>Charts/img_14439_6_month.PNG</td>\n      <td>Charts/img_14439_12_month.PNG</td>\n      <td>Charts/img_14439_bar_1_month.PNG</td>\n      <td>Charts/img_14439_bar_6_month.PNG</td>\n      <td>Charts/img_14439_bar_12_month.PNG</td>\n      <td>0</td>\n      <td>-0.173469</td>\n      <td>2057</td>\n    </tr>\n    <tr>\n      <th>4</th>\n      <td>1</td>\n      <td>0.081347</td>\n      <td>0.203888</td>\n      <td>0.821004</td>\n      <td>0.015006</td>\n      <td>0.017188</td>\n      <td>0.017584</td>\n      <td>Charts/img_9289_1_month.PNG</td>\n      <td>Charts/img_9289_6_month.PNG</td>\n      <td>Charts/img_9289_12_month.PNG</td>\n      <td>Charts/img_9289_bar_1_month.PNG</td>\n      <td>Charts/img_9289_bar_6_month.PNG</td>\n      <td>Charts/img_9289_bar_12_month.PNG</td>\n      <td>0</td>\n      <td>-0.107517</td>\n      <td>991</td>\n    </tr>\n    <tr>\n      <th>...</th>\n      <td>...</td>\n      <td>...</td>\n      <td>...</td>\n      <td>...</td>\n      <td>...</td>\n      <td>...</td>\n      <td>...</td>\n      <td>...</td>\n      <td>...</td>\n      <td>...</td>\n      <td>...</td>\n      <td>...</td>\n      <td>...</td>\n      <td>...</td>\n      <td>...</td>\n      <td>...</td>\n    </tr>\n    <tr>\n      <th>1327</th>\n      <td>0</td>\n      <td>0.031311</td>\n      <td>-0.052792</td>\n      <td>0.006433</td>\n      <td>0.015632</td>\n      <td>0.035893</td>\n      <td>0.027604</td>\n      <td>Charts/img_4957_1_month.PNG</td>\n      <td>Charts/img_4957_6_month.PNG</td>\n      <td>Charts/img_4957_12_month.PNG</td>\n      <td>Charts/img_4957_bar_1_month.PNG</td>\n      <td>Charts/img_4957_bar_6_month.PNG</td>\n      <td>Charts/img_4957_bar_12_month.PNG</td>\n      <td>2</td>\n      <td>0.042066</td>\n      <td>772</td>\n    </tr>\n    <tr>\n      <th>1328</th>\n      <td>0</td>\n      <td>0.033799</td>\n      <td>-0.080392</td>\n      <td>0.250667</td>\n      <td>0.016148</td>\n      <td>0.016633</td>\n      <td>0.015454</td>\n      <td>Charts/img_486_1_month.PNG</td>\n      <td>Charts/img_486_6_month.PNG</td>\n      <td>Charts/img_486_12_month.PNG</td>\n      <td>Charts/img_486_bar_1_month.PNG</td>\n      <td>Charts/img_486_bar_6_month.PNG</td>\n      <td>Charts/img_486_bar_12_month.PNG</td>\n      <td>2</td>\n      <td>0.025265</td>\n      <td>1432</td>\n    </tr>\n    <tr>\n      <th>1329</th>\n      <td>1</td>\n      <td>0.004049</td>\n      <td>0.130018</td>\n      <td>0.255618</td>\n      <td>0.011868</td>\n      <td>0.013561</td>\n      <td>0.016331</td>\n      <td>Charts/img_8947_1_month.PNG</td>\n      <td>Charts/img_8947_6_month.PNG</td>\n      <td>Charts/img_8947_12_month.PNG</td>\n      <td>Charts/img_8947_bar_1_month.PNG</td>\n      <td>Charts/img_8947_bar_6_month.PNG</td>\n      <td>Charts/img_8947_bar_12_month.PNG</td>\n      <td>2</td>\n      <td>0.044350</td>\n      <td>521</td>\n    </tr>\n    <tr>\n      <th>1330</th>\n      <td>1</td>\n      <td>0.016754</td>\n      <td>0.007798</td>\n      <td>0.395521</td>\n      <td>0.011079</td>\n      <td>0.017375</td>\n      <td>0.017274</td>\n      <td>Charts/img_11066_1_month.PNG</td>\n      <td>Charts/img_11066_6_month.PNG</td>\n      <td>Charts/img_11066_12_month.PNG</td>\n      <td>Charts/img_11066_bar_1_month.PNG</td>\n      <td>Charts/img_11066_bar_6_month.PNG</td>\n      <td>Charts/img_11066_bar_12_month.PNG</td>\n      <td>2</td>\n      <td>0.073949</td>\n      <td>1581</td>\n    </tr>\n    <tr>\n      <th>1331</th>\n      <td>1</td>\n      <td>0.051980</td>\n      <td>-0.017624</td>\n      <td>0.038301</td>\n      <td>0.006708</td>\n      <td>0.012082</td>\n      <td>0.009618</td>\n      <td>Charts/img_16678_1_month.PNG</td>\n      <td>Charts/img_16678_6_month.PNG</td>\n      <td>Charts/img_16678_12_month.PNG</td>\n      <td>Charts/img_16678_bar_1_month.PNG</td>\n      <td>Charts/img_16678_bar_6_month.PNG</td>\n      <td>Charts/img_16678_bar_12_month.PNG</td>\n      <td>2</td>\n      <td>0.023724</td>\n      <td>50</td>\n    </tr>\n  </tbody>\n</table>\n<p>1332 rows × 16 columns</p>\n</div>"
     },
     "execution_count": 58,
     "metadata": {},
     "output_type": "execute_result"
    }
   ],
   "source": [
    "pd.read_csv(\"ModelData/obs_test.csv\")"
   ],
   "metadata": {
    "collapsed": false,
    "pycharm": {
     "name": "#%%\n"
    }
   }
  }
 ],
 "metadata": {
  "kernelspec": {
   "display_name": "Python 3",
   "language": "python",
   "name": "python3"
  },
  "language_info": {
   "codemirror_mode": {
    "name": "ipython",
    "version": 2
   },
   "file_extension": ".py",
   "mimetype": "text/x-python",
   "name": "python",
   "nbconvert_exporter": "python",
   "pygments_lexer": "ipython2",
   "version": "2.7.6"
  }
 },
 "nbformat": 4,
 "nbformat_minor": 0
}