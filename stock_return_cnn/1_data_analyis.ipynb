{
 "cells": [
  {
   "cell_type": "markdown",
   "source": [
    "# Intro\n",
    "\n",
    "Now that the data has been transformed into a usual, some elementary EDA will be performed to check the numerical features."
   ],
   "metadata": {
    "collapsed": false
   }
  },
  {
   "cell_type": "code",
   "execution_count": 13,
   "outputs": [],
   "source": [
    "import pandas as pd\n",
    "from os.path import join\n",
    "from os import listdir"
   ],
   "metadata": {
    "collapsed": false,
    "pycharm": {
     "name": "#%%\n"
    }
   }
  },
  {
   "cell_type": "code",
   "execution_count": 14,
   "metadata": {
    "collapsed": true
   },
   "outputs": [],
   "source": [
    "def read_batches(path):\n",
    "    \"\"\"\n",
    "    Read the batches stored in the path and group them\n",
    "    :param path: the path with batches\n",
    "    :return: a pandas dataframe with the grouped and de-duplicated batches\n",
    "    \"\"\"\n",
    "    # Regroup batches\n",
    "    batches = [pd.read_csv(join(path, f)) for f in listdir(path)]\n",
    "\n",
    "    # After creating the random observations, potential duplicates (although unlikely) need to be dropped\n",
    "    observations = pd.concat(batches)\n",
    "    observations.drop_duplicates(subset=[\"date\", \"asset_file\"])\n",
    "\n",
    "    observations.date = pd.to_datetime(observations.date)\n",
    "\n",
    "    observations.dropna(inplace=True)\n",
    "\n",
    "    return observations"
   ]
  },
  {
   "cell_type": "code",
   "execution_count": 15,
   "outputs": [],
   "source": [
    "observations = read_batches(\"DataBatches\")"
   ],
   "metadata": {
    "collapsed": false,
    "pycharm": {
     "name": "#%%\n"
    }
   }
  },
  {
   "cell_type": "code",
   "execution_count": 16,
   "outputs": [
    {
     "data": {
      "text/plain": "                   asset_file       date  stock  1_month_return  \\\n0        Data/ETFs\\ryj.us.txt 2013-06-06      0        0.001093   \n1     Data/Stocks\\calx.us.txt 2016-07-22      1        0.105339   \n2      Data/Stocks\\dfs.us.txt 2013-09-26      1        0.076731   \n3     Data/Stocks\\salt.us.txt 2015-04-14      1       -0.121739   \n4     Data/Stocks\\else.us.txt 2015-09-03      1        0.000000   \n..                        ...        ...    ...             ...   \n995      Data/ETFs\\sso.us.txt 2016-06-20      0        0.020142   \n996      Data/ETFs\\ald.us.txt 2013-01-02      0       -0.008170   \n997  Data/Stocks\\emitf.us.txt 2016-06-16      1       -0.000569   \n998    Data/Stocks\\kar.us.txt 2014-11-06      1        0.197074   \n999     Data/ETFs\\vonv.us.txt 2011-11-28      0       -0.102732   \n\n     6_month_return  12_month_return  1_month_volatility  6_month_volatility  \\\n0          0.199883         0.279751            0.007762            0.008547   \n1          0.029570         0.097421            0.035456            0.029800   \n2          0.143020         0.393123            0.009577            0.013219   \n3         -0.575630        -0.778509            0.035263            0.052023   \n4         -0.007692        -0.015768            0.047933            0.029789   \n..              ...              ...                 ...                 ...   \n995        0.010058        -0.034294            0.010430            0.018572   \n996        0.033824         0.050649            0.003020            0.002342   \n997        0.255000        -0.354044            0.017658            0.047737   \n998        0.125895         0.188452            0.023276            0.013612   \n999       -0.136469        -0.029967            0.017936            0.019732   \n\n     12_month_volatility                  1_month_img  \\\n0               0.009193     Charts/img_0_1_month.PNG   \n1               0.031871     Charts/img_1_1_month.PNG   \n2               0.014265     Charts/img_2_1_month.PNG   \n3               0.039292     Charts/img_3_1_month.PNG   \n4               0.033431     Charts/img_4_1_month.PNG   \n..                   ...                          ...   \n995             0.020903  Charts/img_9995_1_month.PNG   \n996             0.002833  Charts/img_9996_1_month.PNG   \n997             0.038552  Charts/img_9997_1_month.PNG   \n998             0.013317  Charts/img_9998_1_month.PNG   \n999             0.014918  Charts/img_9999_1_month.PNG   \n\n                     6_month_img                  12_month_img  label  \n0       Charts/img_0_6_month.PNG     Charts/img_0_12_month.PNG      2  \n1       Charts/img_1_6_month.PNG     Charts/img_1_12_month.PNG      2  \n2       Charts/img_2_6_month.PNG     Charts/img_2_12_month.PNG      1  \n3       Charts/img_3_6_month.PNG     Charts/img_3_12_month.PNG      2  \n4       Charts/img_4_6_month.PNG     Charts/img_4_12_month.PNG      0  \n..                           ...                           ...    ...  \n995  Charts/img_9995_6_month.PNG  Charts/img_9995_12_month.PNG      2  \n996  Charts/img_9996_6_month.PNG  Charts/img_9996_12_month.PNG      1  \n997  Charts/img_9997_6_month.PNG  Charts/img_9997_12_month.PNG      0  \n998  Charts/img_9998_6_month.PNG  Charts/img_9998_12_month.PNG      2  \n999  Charts/img_9999_6_month.PNG  Charts/img_9999_12_month.PNG      2  \n\n[9994 rows x 13 columns]",
      "text/html": "<div>\n<style scoped>\n    .dataframe tbody tr th:only-of-type {\n        vertical-align: middle;\n    }\n\n    .dataframe tbody tr th {\n        vertical-align: top;\n    }\n\n    .dataframe thead th {\n        text-align: right;\n    }\n</style>\n<table border=\"1\" class=\"dataframe\">\n  <thead>\n    <tr style=\"text-align: right;\">\n      <th></th>\n      <th>asset_file</th>\n      <th>date</th>\n      <th>stock</th>\n      <th>1_month_return</th>\n      <th>6_month_return</th>\n      <th>12_month_return</th>\n      <th>1_month_volatility</th>\n      <th>6_month_volatility</th>\n      <th>12_month_volatility</th>\n      <th>1_month_img</th>\n      <th>6_month_img</th>\n      <th>12_month_img</th>\n      <th>label</th>\n    </tr>\n  </thead>\n  <tbody>\n    <tr>\n      <th>0</th>\n      <td>Data/ETFs\\ryj.us.txt</td>\n      <td>2013-06-06</td>\n      <td>0</td>\n      <td>0.001093</td>\n      <td>0.199883</td>\n      <td>0.279751</td>\n      <td>0.007762</td>\n      <td>0.008547</td>\n      <td>0.009193</td>\n      <td>Charts/img_0_1_month.PNG</td>\n      <td>Charts/img_0_6_month.PNG</td>\n      <td>Charts/img_0_12_month.PNG</td>\n      <td>2</td>\n    </tr>\n    <tr>\n      <th>1</th>\n      <td>Data/Stocks\\calx.us.txt</td>\n      <td>2016-07-22</td>\n      <td>1</td>\n      <td>0.105339</td>\n      <td>0.029570</td>\n      <td>0.097421</td>\n      <td>0.035456</td>\n      <td>0.029800</td>\n      <td>0.031871</td>\n      <td>Charts/img_1_1_month.PNG</td>\n      <td>Charts/img_1_6_month.PNG</td>\n      <td>Charts/img_1_12_month.PNG</td>\n      <td>2</td>\n    </tr>\n    <tr>\n      <th>2</th>\n      <td>Data/Stocks\\dfs.us.txt</td>\n      <td>2013-09-26</td>\n      <td>1</td>\n      <td>0.076731</td>\n      <td>0.143020</td>\n      <td>0.393123</td>\n      <td>0.009577</td>\n      <td>0.013219</td>\n      <td>0.014265</td>\n      <td>Charts/img_2_1_month.PNG</td>\n      <td>Charts/img_2_6_month.PNG</td>\n      <td>Charts/img_2_12_month.PNG</td>\n      <td>1</td>\n    </tr>\n    <tr>\n      <th>3</th>\n      <td>Data/Stocks\\salt.us.txt</td>\n      <td>2015-04-14</td>\n      <td>1</td>\n      <td>-0.121739</td>\n      <td>-0.575630</td>\n      <td>-0.778509</td>\n      <td>0.035263</td>\n      <td>0.052023</td>\n      <td>0.039292</td>\n      <td>Charts/img_3_1_month.PNG</td>\n      <td>Charts/img_3_6_month.PNG</td>\n      <td>Charts/img_3_12_month.PNG</td>\n      <td>2</td>\n    </tr>\n    <tr>\n      <th>4</th>\n      <td>Data/Stocks\\else.us.txt</td>\n      <td>2015-09-03</td>\n      <td>1</td>\n      <td>0.000000</td>\n      <td>-0.007692</td>\n      <td>-0.015768</td>\n      <td>0.047933</td>\n      <td>0.029789</td>\n      <td>0.033431</td>\n      <td>Charts/img_4_1_month.PNG</td>\n      <td>Charts/img_4_6_month.PNG</td>\n      <td>Charts/img_4_12_month.PNG</td>\n      <td>0</td>\n    </tr>\n    <tr>\n      <th>...</th>\n      <td>...</td>\n      <td>...</td>\n      <td>...</td>\n      <td>...</td>\n      <td>...</td>\n      <td>...</td>\n      <td>...</td>\n      <td>...</td>\n      <td>...</td>\n      <td>...</td>\n      <td>...</td>\n      <td>...</td>\n      <td>...</td>\n    </tr>\n    <tr>\n      <th>995</th>\n      <td>Data/ETFs\\sso.us.txt</td>\n      <td>2016-06-20</td>\n      <td>0</td>\n      <td>0.020142</td>\n      <td>0.010058</td>\n      <td>-0.034294</td>\n      <td>0.010430</td>\n      <td>0.018572</td>\n      <td>0.020903</td>\n      <td>Charts/img_9995_1_month.PNG</td>\n      <td>Charts/img_9995_6_month.PNG</td>\n      <td>Charts/img_9995_12_month.PNG</td>\n      <td>2</td>\n    </tr>\n    <tr>\n      <th>996</th>\n      <td>Data/ETFs\\ald.us.txt</td>\n      <td>2013-01-02</td>\n      <td>0</td>\n      <td>-0.008170</td>\n      <td>0.033824</td>\n      <td>0.050649</td>\n      <td>0.003020</td>\n      <td>0.002342</td>\n      <td>0.002833</td>\n      <td>Charts/img_9996_1_month.PNG</td>\n      <td>Charts/img_9996_6_month.PNG</td>\n      <td>Charts/img_9996_12_month.PNG</td>\n      <td>1</td>\n    </tr>\n    <tr>\n      <th>997</th>\n      <td>Data/Stocks\\emitf.us.txt</td>\n      <td>2016-06-16</td>\n      <td>1</td>\n      <td>-0.000569</td>\n      <td>0.255000</td>\n      <td>-0.354044</td>\n      <td>0.017658</td>\n      <td>0.047737</td>\n      <td>0.038552</td>\n      <td>Charts/img_9997_1_month.PNG</td>\n      <td>Charts/img_9997_6_month.PNG</td>\n      <td>Charts/img_9997_12_month.PNG</td>\n      <td>0</td>\n    </tr>\n    <tr>\n      <th>998</th>\n      <td>Data/Stocks\\kar.us.txt</td>\n      <td>2014-11-06</td>\n      <td>1</td>\n      <td>0.197074</td>\n      <td>0.125895</td>\n      <td>0.188452</td>\n      <td>0.023276</td>\n      <td>0.013612</td>\n      <td>0.013317</td>\n      <td>Charts/img_9998_1_month.PNG</td>\n      <td>Charts/img_9998_6_month.PNG</td>\n      <td>Charts/img_9998_12_month.PNG</td>\n      <td>2</td>\n    </tr>\n    <tr>\n      <th>999</th>\n      <td>Data/ETFs\\vonv.us.txt</td>\n      <td>2011-11-28</td>\n      <td>0</td>\n      <td>-0.102732</td>\n      <td>-0.136469</td>\n      <td>-0.029967</td>\n      <td>0.017936</td>\n      <td>0.019732</td>\n      <td>0.014918</td>\n      <td>Charts/img_9999_1_month.PNG</td>\n      <td>Charts/img_9999_6_month.PNG</td>\n      <td>Charts/img_9999_12_month.PNG</td>\n      <td>2</td>\n    </tr>\n  </tbody>\n</table>\n<p>9994 rows × 13 columns</p>\n</div>"
     },
     "execution_count": 16,
     "metadata": {},
     "output_type": "execute_result"
    }
   ],
   "source": [
    "observations"
   ],
   "metadata": {
    "collapsed": false,
    "pycharm": {
     "name": "#%%\n"
    }
   }
  },
  {
   "cell_type": "markdown",
   "source": [
    "## Labels"
   ],
   "metadata": {
    "collapsed": false
   }
  },
  {
   "cell_type": "code",
   "execution_count": 17,
   "outputs": [
    {
     "data": {
      "text/plain": "       count\nlabel       \n0       3968\n1       1441\n2       4585",
      "text/html": "<div>\n<style scoped>\n    .dataframe tbody tr th:only-of-type {\n        vertical-align: middle;\n    }\n\n    .dataframe tbody tr th {\n        vertical-align: top;\n    }\n\n    .dataframe thead th {\n        text-align: right;\n    }\n</style>\n<table border=\"1\" class=\"dataframe\">\n  <thead>\n    <tr style=\"text-align: right;\">\n      <th></th>\n      <th>count</th>\n    </tr>\n    <tr>\n      <th>label</th>\n      <th></th>\n    </tr>\n  </thead>\n  <tbody>\n    <tr>\n      <th>0</th>\n      <td>3968</td>\n    </tr>\n    <tr>\n      <th>1</th>\n      <td>1441</td>\n    </tr>\n    <tr>\n      <th>2</th>\n      <td>4585</td>\n    </tr>\n  </tbody>\n</table>\n</div>"
     },
     "execution_count": 17,
     "metadata": {},
     "output_type": "execute_result"
    }
   ],
   "source": [
    "observations.groupby(\"label\").agg(count=(\"asset_file\", \"count\"))"
   ],
   "metadata": {
    "collapsed": false,
    "pycharm": {
     "name": "#%%\n"
    }
   }
  },
  {
   "cell_type": "markdown",
   "source": [
    "The above distribution of labels is in line with our intuition about equity returns. There are slightly more positive returns (label 2) than negative returns (label 0) and a rather small number of neutral returns (label 1)."
   ],
   "metadata": {
    "collapsed": false,
    "pycharm": {
     "name": "#%% md\n"
    }
   }
  },
  {
   "cell_type": "markdown",
   "source": [
    "## Date"
   ],
   "metadata": {
    "collapsed": false,
    "pycharm": {
     "name": "#%% md\n"
    }
   }
  },
  {
   "cell_type": "code",
   "execution_count": 18,
   "outputs": [
    {
     "data": {
      "text/plain": "<matplotlib.axes._subplots.AxesSubplot at 0x254dda9c048>"
     },
     "execution_count": 18,
     "metadata": {},
     "output_type": "execute_result"
    },
    {
     "data": {
      "text/plain": "<Figure size 432x288 with 1 Axes>",
      "image/png": "[encoded data removed]"
     },
     "metadata": {
      "needs_background": "light"
     },
     "output_type": "display_data"
    }
   ],
   "source": [
    "observations.date.hist()"
   ],
   "metadata": {
    "collapsed": false,
    "pycharm": {
     "name": "#%%\n"
    }
   }
  },
  {
   "cell_type": "markdown",
   "source": [
    "From the above histogram it is clear that the majority of observations comes from recent years. This is in line with the fact that the raw data is also skewed towards more recent years. This could potentially impact the model since recent events (such as the 2008 crisis) could be over-weighted. For now we will leave this as is, but depending on how the model performs, a new cleaned dataset could be constructed where the dates are more balanced)"
   ],
   "metadata": {
    "collapsed": false,
    "pycharm": {
     "name": "#%% md\n"
    }
   }
  },
  {
   "cell_type": "markdown",
   "source": [
    "## Returns"
   ],
   "metadata": {
    "collapsed": false,
    "pycharm": {
     "name": "#%% md\n"
    }
   }
  },
  {
   "cell_type": "code",
   "execution_count": 19,
   "outputs": [
    {
     "data": {
      "text/plain": "       1_month_return  6_month_return  12_month_return\ncount     9994.000000     9994.000000      9994.000000\nmean         0.008635        0.043207         0.081001\nstd          0.162032        0.347204         0.568746\nmin         -0.876594       -0.929140        -0.981159\n25%         -0.040281       -0.101174        -0.147806\n50%          0.004443        0.023223         0.034508\n75%          0.048425        0.141272         0.214424\nmax          9.210812        5.153846        20.714286",
      "text/html": "<div>\n<style scoped>\n    .dataframe tbody tr th:only-of-type {\n        vertical-align: middle;\n    }\n\n    .dataframe tbody tr th {\n        vertical-align: top;\n    }\n\n    .dataframe thead th {\n        text-align: right;\n    }\n</style>\n<table border=\"1\" class=\"dataframe\">\n  <thead>\n    <tr style=\"text-align: right;\">\n      <th></th>\n      <th>1_month_return</th>\n      <th>6_month_return</th>\n      <th>12_month_return</th>\n    </tr>\n  </thead>\n  <tbody>\n    <tr>\n      <th>count</th>\n      <td>9994.000000</td>\n      <td>9994.000000</td>\n      <td>9994.000000</td>\n    </tr>\n    <tr>\n      <th>mean</th>\n      <td>0.008635</td>\n      <td>0.043207</td>\n      <td>0.081001</td>\n    </tr>\n    <tr>\n      <th>std</th>\n      <td>0.162032</td>\n      <td>0.347204</td>\n      <td>0.568746</td>\n    </tr>\n    <tr>\n      <th>min</th>\n      <td>-0.876594</td>\n      <td>-0.929140</td>\n      <td>-0.981159</td>\n    </tr>\n    <tr>\n      <th>25%</th>\n      <td>-0.040281</td>\n      <td>-0.101174</td>\n      <td>-0.147806</td>\n    </tr>\n    <tr>\n      <th>50%</th>\n      <td>0.004443</td>\n      <td>0.023223</td>\n      <td>0.034508</td>\n    </tr>\n    <tr>\n      <th>75%</th>\n      <td>0.048425</td>\n      <td>0.141272</td>\n      <td>0.214424</td>\n    </tr>\n    <tr>\n      <th>max</th>\n      <td>9.210812</td>\n      <td>5.153846</td>\n      <td>20.714286</td>\n    </tr>\n  </tbody>\n</table>\n</div>"
     },
     "execution_count": 19,
     "metadata": {},
     "output_type": "execute_result"
    }
   ],
   "source": [
    "observations[[\"1_month_return\", \"6_month_return\", \"12_month_return\"]].describe()"
   ],
   "metadata": {
    "collapsed": false,
    "pycharm": {
     "name": "#%%\n"
    }
   }
  },
  {
   "cell_type": "markdown",
   "source": [
    "From this overview, it appears that there are some extreme returns. For instance 921% returns in the 1 month returns, 515% returns in the 6 month returns, and 2071% returns in the 12 month returns. These outliers could make the trained model less generalizable. To prevent this, returns will be limited to 300% returns. This still corresponds to a 4X return over the period, which is highly unlikely but within reasonable bounds."
   ],
   "metadata": {
    "collapsed": false,
    "pycharm": {
     "name": "#%% md\n"
    }
   }
  },
  {
   "cell_type": "code",
   "execution_count": 20,
   "outputs": [],
   "source": [
    "observations = observations[\n",
    "    (observations[\"1_month_return\"] <= 3) &\n",
    "    (observations[\"6_month_return\"] <= 3) &\n",
    "    (observations[\"12_month_return\"] <= 3)\n",
    "].copy()"
   ],
   "metadata": {
    "collapsed": false,
    "pycharm": {
     "name": "#%%\n"
    }
   }
  },
  {
   "cell_type": "code",
   "execution_count": 21,
   "outputs": [
    {
     "data": {
      "text/plain": "9943"
     },
     "execution_count": 21,
     "metadata": {},
     "output_type": "execute_result"
    }
   ],
   "source": [
    "len(observations.index)"
   ],
   "metadata": {
    "collapsed": false,
    "pycharm": {
     "name": "#%%\n"
    }
   }
  },
  {
   "cell_type": "markdown",
   "source": [
    "From the original dataset of 9994 observations, 51 were removed leaving us with a dataset of 9943 observations."
   ],
   "metadata": {
    "collapsed": false,
    "pycharm": {
     "name": "#%% md\n"
    }
   }
  },
  {
   "cell_type": "markdown",
   "source": [
    "## Volatility"
   ],
   "metadata": {
    "collapsed": false,
    "pycharm": {
     "name": "#%% md\n"
    }
   }
  },
  {
   "cell_type": "code",
   "execution_count": 22,
   "outputs": [
    {
     "data": {
      "text/plain": "       1_month_volatility  6_month_volatility  12_month_volatility\ncount         9943.000000         9943.000000          9943.000000\nmean             0.023220            0.025092             0.025704\nstd              0.023641            0.026588             0.026923\nmin              0.000000            0.000068             0.000082\n25%              0.010200            0.011806             0.012288\n50%              0.017206            0.019119             0.019995\n75%              0.028887            0.031012             0.031905\nmax              0.767095            1.171789             1.171789",
      "text/html": "<div>\n<style scoped>\n    .dataframe tbody tr th:only-of-type {\n        vertical-align: middle;\n    }\n\n    .dataframe tbody tr th {\n        vertical-align: top;\n    }\n\n    .dataframe thead th {\n        text-align: right;\n    }\n</style>\n<table border=\"1\" class=\"dataframe\">\n  <thead>\n    <tr style=\"text-align: right;\">\n      <th></th>\n      <th>1_month_volatility</th>\n      <th>6_month_volatility</th>\n      <th>12_month_volatility</th>\n    </tr>\n  </thead>\n  <tbody>\n    <tr>\n      <th>count</th>\n      <td>9943.000000</td>\n      <td>9943.000000</td>\n      <td>9943.000000</td>\n    </tr>\n    <tr>\n      <th>mean</th>\n      <td>0.023220</td>\n      <td>0.025092</td>\n      <td>0.025704</td>\n    </tr>\n    <tr>\n      <th>std</th>\n      <td>0.023641</td>\n      <td>0.026588</td>\n      <td>0.026923</td>\n    </tr>\n    <tr>\n      <th>min</th>\n      <td>0.000000</td>\n      <td>0.000068</td>\n      <td>0.000082</td>\n    </tr>\n    <tr>\n      <th>25%</th>\n      <td>0.010200</td>\n      <td>0.011806</td>\n      <td>0.012288</td>\n    </tr>\n    <tr>\n      <th>50%</th>\n      <td>0.017206</td>\n      <td>0.019119</td>\n      <td>0.019995</td>\n    </tr>\n    <tr>\n      <th>75%</th>\n      <td>0.028887</td>\n      <td>0.031012</td>\n      <td>0.031905</td>\n    </tr>\n    <tr>\n      <th>max</th>\n      <td>0.767095</td>\n      <td>1.171789</td>\n      <td>1.171789</td>\n    </tr>\n  </tbody>\n</table>\n</div>"
     },
     "execution_count": 22,
     "metadata": {},
     "output_type": "execute_result"
    }
   ],
   "source": [
    "# 1 month volatility\n",
    "observations[[\"1_month_volatility\", \"6_month_volatility\", \"12_month_volatility\"]].describe()"
   ],
   "metadata": {
    "collapsed": false,
    "pycharm": {
     "name": "#%%\n"
    }
   }
  },
  {
   "cell_type": "markdown",
   "source": [
    "Similar to returns, there are some extremely high volatilities, expecially in the 6 and 12 month features. However, these are limited to very few observations and correspond to the remaining observations with very large returns. They are considered acceptable and will not be removed from the dataset."
   ],
   "metadata": {
    "collapsed": false,
    "pycharm": {
     "name": "#%% md\n"
    }
   }
  },
  {
   "cell_type": "markdown",
   "source": [
    "# Set-up train/validation/test sets\n",
    "\n",
    "Now the datasets will be split into 50% training, 25% validation, and 25% test sets"
   ],
   "metadata": {
    "collapsed": false,
    "pycharm": {
     "name": "#%% md\n"
    }
   }
  },
  {
   "cell_type": "code",
   "execution_count": 23,
   "outputs": [],
   "source": [
    "from sklearn.model_selection import train_test_split\n",
    "import os\n",
    "\n",
    "observations.drop(\n",
    "    columns=[\"asset_file\", \"date\"], # these features will not be taken into account during model training/testing\n",
    "    inplace=True\n",
    ")\n",
    "\n",
    "train, temp = train_test_split(observations, test_size=0.5)\n",
    "val, test = train_test_split(temp, test_size=0.5)\n",
    "\n",
    "# Create directory\n",
    "if not os.path.isdir(\"ModelData\"):\n",
    "    os.makedirs(\"ModelData\")\n",
    "\n",
    "train.to_csv(\"ModelData/obs_train.csv\", index=False)\n",
    "val.to_csv(\"ModelData/obs_val.csv\", index=False)\n",
    "test.to_csv(\"ModelData/obs_test.csv\", index=False)"
   ],
   "metadata": {
    "collapsed": false,
    "pycharm": {
     "name": "#%%\n"
    }
   }
  }
 ],
 "metadata": {
  "kernelspec": {
   "display_name": "Python 3",
   "language": "python",
   "name": "python3"
  },
  "language_info": {
   "codemirror_mode": {
    "name": "ipython",
    "version": 2
   },
   "file_extension": ".py",
   "mimetype": "text/x-python",
   "name": "python",
   "nbconvert_exporter": "python",
   "pygments_lexer": "ipython2",
   "version": "2.7.6"
  }
 },
 "nbformat": 4,
 "nbformat_minor": 0
}