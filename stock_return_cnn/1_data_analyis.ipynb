{
 "cells": [
  {
   "cell_type": "markdown",
   "source": [
    "# Intro\n",
    "\n",
    "Now that the data has been transformed into a usual, some elementary EDA will be performed to check the numerical features."
   ],
   "metadata": {
    "collapsed": false
   }
  },
  {
   "cell_type": "code",
   "execution_count": 15,
   "outputs": [],
   "source": [
    "import pandas as pd\n",
    "from os.path import join\n",
    "from os import listdir\n",
    "import numpy as np"
   ],
   "metadata": {
    "collapsed": false,
    "pycharm": {
     "name": "#%%\n"
    }
   }
  },
  {
   "cell_type": "code",
   "execution_count": 16,
   "metadata": {
    "collapsed": true
   },
   "outputs": [],
   "source": [
    "def read_batches(path):\n",
    "    \"\"\"\n",
    "    Read the batches stored in the path and group them\n",
    "    :param path: the path with batches\n",
    "    :return: a pandas dataframe with the grouped and de-duplicated batches\n",
    "    \"\"\"\n",
    "    # Regroup batches\n",
    "    batches = [pd.read_csv(join(path, f)) for f in listdir(path)]\n",
    "\n",
    "    # After creating the random observations, potential duplicates (although unlikely) need to be dropped\n",
    "    observations = pd.concat(batches)\n",
    "    observations.drop_duplicates(subset=[\"date\", \"asset_file\"])\n",
    "\n",
    "    observations.date = pd.to_datetime(observations.date)\n",
    "\n",
    "    observations.dropna(inplace=True)\n",
    "\n",
    "    return observations"
   ]
  },
  {
   "cell_type": "code",
   "execution_count": 17,
   "outputs": [],
   "source": [
    "observations = read_batches(\"DataBatches\")"
   ],
   "metadata": {
    "collapsed": false,
    "pycharm": {
     "name": "#%%\n"
    }
   }
  },
  {
   "cell_type": "code",
   "execution_count": 18,
   "outputs": [
    {
     "data": {
      "text/plain": "                   asset_file       date  stock  1_month_return  \\\n0      Data/Stocks\\ncr.us.txt 2004-04-05      1        0.000439   \n1     Data/Stocks\\chfn.us.txt 2013-05-31      1       -0.001997   \n2     Data/Stocks\\tmst.us.txt 2016-01-05      1       -0.151767   \n3      Data/Stocks\\gjp.us.txt 2012-08-16      1       -0.053945   \n4    Data/Stocks\\hvt-a.us.txt 2011-09-27      1       -0.104041   \n..                        ...        ...    ...             ...   \n495    Data/Stocks\\sfl.us.txt 2008-01-24      1       -0.157712   \n496  Data/Stocks\\belfa.us.txt 2010-08-18      1        0.201255   \n497   Data/Stocks\\evhc.us.txt 2014-09-02      1        0.047564   \n498    Data/Stocks\\snp.us.txt 2010-07-21      1       -0.045617   \n499   Data/Stocks\\susa.us.txt 2016-03-22      1        0.075041   \n\n     6_month_return  12_month_return  1_month_volatility  6_month_volatility  \\\n0          0.317341         1.388889            0.017516            0.016031   \n1          0.284303         0.399270            0.004603            0.009990   \n2         -0.657503        -0.770941            0.054340            0.050027   \n3         -0.075769         0.000470            0.015497            0.013264   \n4         -0.224486        -0.056672            0.040486            0.039216   \n..              ...              ...                 ...                 ...   \n495       -0.122881         0.014062            0.018766            0.024021   \n496        0.056782         0.345961            0.051319            0.035508   \n497        0.074978         0.393275            0.008937            0.015356   \n498       -0.006414        -0.041886            0.014021            0.017807   \n499        0.083046        -0.014023            0.007646            0.010423   \n\n     12_month_volatility                  1_month_img  \\\n0               0.023119   Charts/img_500_1_month.PNG   \n1               0.017845   Charts/img_501_1_month.PNG   \n2               0.039493   Charts/img_502_1_month.PNG   \n3               0.016023   Charts/img_503_1_month.PNG   \n4               0.033105   Charts/img_504_1_month.PNG   \n..                   ...                          ...   \n495             0.020691  Charts/img_9495_1_month.PNG   \n496             0.033319  Charts/img_9496_1_month.PNG   \n497             0.017374  Charts/img_9497_1_month.PNG   \n498             0.019190  Charts/img_9498_1_month.PNG   \n499             0.010038  Charts/img_9499_1_month.PNG   \n\n                     6_month_img                  12_month_img  \\\n0     Charts/img_500_6_month.PNG   Charts/img_500_12_month.PNG   \n1     Charts/img_501_6_month.PNG   Charts/img_501_12_month.PNG   \n2     Charts/img_502_6_month.PNG   Charts/img_502_12_month.PNG   \n3     Charts/img_503_6_month.PNG   Charts/img_503_12_month.PNG   \n4     Charts/img_504_6_month.PNG   Charts/img_504_12_month.PNG   \n..                           ...                           ...   \n495  Charts/img_9495_6_month.PNG  Charts/img_9495_12_month.PNG   \n496  Charts/img_9496_6_month.PNG  Charts/img_9496_12_month.PNG   \n497  Charts/img_9497_6_month.PNG  Charts/img_9497_12_month.PNG   \n498  Charts/img_9498_6_month.PNG  Charts/img_9498_12_month.PNG   \n499  Charts/img_9499_6_month.PNG  Charts/img_9499_12_month.PNG   \n\n                     1_month_img_bar                  6_month_img_bar  \\\n0     Charts/img_500_bar_1_month.PNG   Charts/img_500_bar_6_month.PNG   \n1     Charts/img_501_bar_1_month.PNG   Charts/img_501_bar_6_month.PNG   \n2     Charts/img_502_bar_1_month.PNG   Charts/img_502_bar_6_month.PNG   \n3     Charts/img_503_bar_1_month.PNG   Charts/img_503_bar_6_month.PNG   \n4     Charts/img_504_bar_1_month.PNG   Charts/img_504_bar_6_month.PNG   \n..                               ...                              ...   \n495  Charts/img_9495_bar_1_month.PNG  Charts/img_9495_bar_6_month.PNG   \n496  Charts/img_9496_bar_1_month.PNG  Charts/img_9496_bar_6_month.PNG   \n497  Charts/img_9497_bar_1_month.PNG  Charts/img_9497_bar_6_month.PNG   \n498  Charts/img_9498_bar_1_month.PNG  Charts/img_9498_bar_6_month.PNG   \n499  Charts/img_9499_bar_1_month.PNG  Charts/img_9499_bar_6_month.PNG   \n\n                     12_month_img_bar  label_1m  1m_return  \n0     Charts/img_500_bar_12_month.PNG         0  -0.013871  \n1     Charts/img_501_bar_12_month.PNG         2   0.015084  \n2     Charts/img_502_bar_12_month.PNG         0  -0.066185  \n3     Charts/img_503_bar_12_month.PNG         1   0.001246  \n4     Charts/img_504_bar_12_month.PNG         2   0.127726  \n..                                ...       ...        ...  \n495  Charts/img_9495_bar_12_month.PNG         2   0.104579  \n496  Charts/img_9496_bar_12_month.PNG         2   0.012205  \n497  Charts/img_9497_bar_12_month.PNG         0  -0.047149  \n498  Charts/img_9498_bar_12_month.PNG         2   0.040489  \n499  Charts/img_9499_bar_12_month.PNG         2   0.024414  \n\n[20989 rows x 17 columns]",
      "text/html": "<div>\n<style scoped>\n    .dataframe tbody tr th:only-of-type {\n        vertical-align: middle;\n    }\n\n    .dataframe tbody tr th {\n        vertical-align: top;\n    }\n\n    .dataframe thead th {\n        text-align: right;\n    }\n</style>\n<table border=\"1\" class=\"dataframe\">\n  <thead>\n    <tr style=\"text-align: right;\">\n      <th></th>\n      <th>asset_file</th>\n      <th>date</th>\n      <th>stock</th>\n      <th>1_month_return</th>\n      <th>6_month_return</th>\n      <th>12_month_return</th>\n      <th>1_month_volatility</th>\n      <th>6_month_volatility</th>\n      <th>12_month_volatility</th>\n      <th>1_month_img</th>\n      <th>6_month_img</th>\n      <th>12_month_img</th>\n      <th>1_month_img_bar</th>\n      <th>6_month_img_bar</th>\n      <th>12_month_img_bar</th>\n      <th>label_1m</th>\n      <th>1m_return</th>\n    </tr>\n  </thead>\n  <tbody>\n    <tr>\n      <th>0</th>\n      <td>Data/Stocks\\ncr.us.txt</td>\n      <td>2004-04-05</td>\n      <td>1</td>\n      <td>0.000439</td>\n      <td>0.317341</td>\n      <td>1.388889</td>\n      <td>0.017516</td>\n      <td>0.016031</td>\n      <td>0.023119</td>\n      <td>Charts/img_500_1_month.PNG</td>\n      <td>Charts/img_500_6_month.PNG</td>\n      <td>Charts/img_500_12_month.PNG</td>\n      <td>Charts/img_500_bar_1_month.PNG</td>\n      <td>Charts/img_500_bar_6_month.PNG</td>\n      <td>Charts/img_500_bar_12_month.PNG</td>\n      <td>0</td>\n      <td>-0.013871</td>\n    </tr>\n    <tr>\n      <th>1</th>\n      <td>Data/Stocks\\chfn.us.txt</td>\n      <td>2013-05-31</td>\n      <td>1</td>\n      <td>-0.001997</td>\n      <td>0.284303</td>\n      <td>0.399270</td>\n      <td>0.004603</td>\n      <td>0.009990</td>\n      <td>0.017845</td>\n      <td>Charts/img_501_1_month.PNG</td>\n      <td>Charts/img_501_6_month.PNG</td>\n      <td>Charts/img_501_12_month.PNG</td>\n      <td>Charts/img_501_bar_1_month.PNG</td>\n      <td>Charts/img_501_bar_6_month.PNG</td>\n      <td>Charts/img_501_bar_12_month.PNG</td>\n      <td>2</td>\n      <td>0.015084</td>\n    </tr>\n    <tr>\n      <th>2</th>\n      <td>Data/Stocks\\tmst.us.txt</td>\n      <td>2016-01-05</td>\n      <td>1</td>\n      <td>-0.151767</td>\n      <td>-0.657503</td>\n      <td>-0.770941</td>\n      <td>0.054340</td>\n      <td>0.050027</td>\n      <td>0.039493</td>\n      <td>Charts/img_502_1_month.PNG</td>\n      <td>Charts/img_502_6_month.PNG</td>\n      <td>Charts/img_502_12_month.PNG</td>\n      <td>Charts/img_502_bar_1_month.PNG</td>\n      <td>Charts/img_502_bar_6_month.PNG</td>\n      <td>Charts/img_502_bar_12_month.PNG</td>\n      <td>0</td>\n      <td>-0.066185</td>\n    </tr>\n    <tr>\n      <th>3</th>\n      <td>Data/Stocks\\gjp.us.txt</td>\n      <td>2012-08-16</td>\n      <td>1</td>\n      <td>-0.053945</td>\n      <td>-0.075769</td>\n      <td>0.000470</td>\n      <td>0.015497</td>\n      <td>0.013264</td>\n      <td>0.016023</td>\n      <td>Charts/img_503_1_month.PNG</td>\n      <td>Charts/img_503_6_month.PNG</td>\n      <td>Charts/img_503_12_month.PNG</td>\n      <td>Charts/img_503_bar_1_month.PNG</td>\n      <td>Charts/img_503_bar_6_month.PNG</td>\n      <td>Charts/img_503_bar_12_month.PNG</td>\n      <td>1</td>\n      <td>0.001246</td>\n    </tr>\n    <tr>\n      <th>4</th>\n      <td>Data/Stocks\\hvt-a.us.txt</td>\n      <td>2011-09-27</td>\n      <td>1</td>\n      <td>-0.104041</td>\n      <td>-0.224486</td>\n      <td>-0.056672</td>\n      <td>0.040486</td>\n      <td>0.039216</td>\n      <td>0.033105</td>\n      <td>Charts/img_504_1_month.PNG</td>\n      <td>Charts/img_504_6_month.PNG</td>\n      <td>Charts/img_504_12_month.PNG</td>\n      <td>Charts/img_504_bar_1_month.PNG</td>\n      <td>Charts/img_504_bar_6_month.PNG</td>\n      <td>Charts/img_504_bar_12_month.PNG</td>\n      <td>2</td>\n      <td>0.127726</td>\n    </tr>\n    <tr>\n      <th>...</th>\n      <td>...</td>\n      <td>...</td>\n      <td>...</td>\n      <td>...</td>\n      <td>...</td>\n      <td>...</td>\n      <td>...</td>\n      <td>...</td>\n      <td>...</td>\n      <td>...</td>\n      <td>...</td>\n      <td>...</td>\n      <td>...</td>\n      <td>...</td>\n      <td>...</td>\n      <td>...</td>\n      <td>...</td>\n    </tr>\n    <tr>\n      <th>495</th>\n      <td>Data/Stocks\\sfl.us.txt</td>\n      <td>2008-01-24</td>\n      <td>1</td>\n      <td>-0.157712</td>\n      <td>-0.122881</td>\n      <td>0.014062</td>\n      <td>0.018766</td>\n      <td>0.024021</td>\n      <td>0.020691</td>\n      <td>Charts/img_9495_1_month.PNG</td>\n      <td>Charts/img_9495_6_month.PNG</td>\n      <td>Charts/img_9495_12_month.PNG</td>\n      <td>Charts/img_9495_bar_1_month.PNG</td>\n      <td>Charts/img_9495_bar_6_month.PNG</td>\n      <td>Charts/img_9495_bar_12_month.PNG</td>\n      <td>2</td>\n      <td>0.104579</td>\n    </tr>\n    <tr>\n      <th>496</th>\n      <td>Data/Stocks\\belfa.us.txt</td>\n      <td>2010-08-18</td>\n      <td>1</td>\n      <td>0.201255</td>\n      <td>0.056782</td>\n      <td>0.345961</td>\n      <td>0.051319</td>\n      <td>0.035508</td>\n      <td>0.033319</td>\n      <td>Charts/img_9496_1_month.PNG</td>\n      <td>Charts/img_9496_6_month.PNG</td>\n      <td>Charts/img_9496_12_month.PNG</td>\n      <td>Charts/img_9496_bar_1_month.PNG</td>\n      <td>Charts/img_9496_bar_6_month.PNG</td>\n      <td>Charts/img_9496_bar_12_month.PNG</td>\n      <td>2</td>\n      <td>0.012205</td>\n    </tr>\n    <tr>\n      <th>497</th>\n      <td>Data/Stocks\\evhc.us.txt</td>\n      <td>2014-09-02</td>\n      <td>1</td>\n      <td>0.047564</td>\n      <td>0.074978</td>\n      <td>0.393275</td>\n      <td>0.008937</td>\n      <td>0.015356</td>\n      <td>0.017374</td>\n      <td>Charts/img_9497_1_month.PNG</td>\n      <td>Charts/img_9497_6_month.PNG</td>\n      <td>Charts/img_9497_12_month.PNG</td>\n      <td>Charts/img_9497_bar_1_month.PNG</td>\n      <td>Charts/img_9497_bar_6_month.PNG</td>\n      <td>Charts/img_9497_bar_12_month.PNG</td>\n      <td>0</td>\n      <td>-0.047149</td>\n    </tr>\n    <tr>\n      <th>498</th>\n      <td>Data/Stocks\\snp.us.txt</td>\n      <td>2010-07-21</td>\n      <td>1</td>\n      <td>-0.045617</td>\n      <td>-0.006414</td>\n      <td>-0.041886</td>\n      <td>0.014021</td>\n      <td>0.017807</td>\n      <td>0.019190</td>\n      <td>Charts/img_9498_1_month.PNG</td>\n      <td>Charts/img_9498_6_month.PNG</td>\n      <td>Charts/img_9498_12_month.PNG</td>\n      <td>Charts/img_9498_bar_1_month.PNG</td>\n      <td>Charts/img_9498_bar_6_month.PNG</td>\n      <td>Charts/img_9498_bar_12_month.PNG</td>\n      <td>2</td>\n      <td>0.040489</td>\n    </tr>\n    <tr>\n      <th>499</th>\n      <td>Data/Stocks\\susa.us.txt</td>\n      <td>2016-03-22</td>\n      <td>1</td>\n      <td>0.075041</td>\n      <td>0.083046</td>\n      <td>-0.014023</td>\n      <td>0.007646</td>\n      <td>0.010423</td>\n      <td>0.010038</td>\n      <td>Charts/img_9499_1_month.PNG</td>\n      <td>Charts/img_9499_6_month.PNG</td>\n      <td>Charts/img_9499_12_month.PNG</td>\n      <td>Charts/img_9499_bar_1_month.PNG</td>\n      <td>Charts/img_9499_bar_6_month.PNG</td>\n      <td>Charts/img_9499_bar_12_month.PNG</td>\n      <td>2</td>\n      <td>0.024414</td>\n    </tr>\n  </tbody>\n</table>\n<p>20989 rows × 17 columns</p>\n</div>"
     },
     "execution_count": 18,
     "metadata": {},
     "output_type": "execute_result"
    }
   ],
   "source": [
    "observations"
   ],
   "metadata": {
    "collapsed": false,
    "pycharm": {
     "name": "#%%\n"
    }
   }
  },
  {
   "cell_type": "markdown",
   "source": [
    "## Labels"
   ],
   "metadata": {
    "collapsed": false
   }
  },
  {
   "cell_type": "code",
   "execution_count": 19,
   "outputs": [
    {
     "data": {
      "text/plain": "          count\nlabel_1m       \n0          8131\n1          3059\n2          9799",
      "text/html": "<div>\n<style scoped>\n    .dataframe tbody tr th:only-of-type {\n        vertical-align: middle;\n    }\n\n    .dataframe tbody tr th {\n        vertical-align: top;\n    }\n\n    .dataframe thead th {\n        text-align: right;\n    }\n</style>\n<table border=\"1\" class=\"dataframe\">\n  <thead>\n    <tr style=\"text-align: right;\">\n      <th></th>\n      <th>count</th>\n    </tr>\n    <tr>\n      <th>label_1m</th>\n      <th></th>\n    </tr>\n  </thead>\n  <tbody>\n    <tr>\n      <th>0</th>\n      <td>8131</td>\n    </tr>\n    <tr>\n      <th>1</th>\n      <td>3059</td>\n    </tr>\n    <tr>\n      <th>2</th>\n      <td>9799</td>\n    </tr>\n  </tbody>\n</table>\n</div>"
     },
     "execution_count": 19,
     "metadata": {},
     "output_type": "execute_result"
    }
   ],
   "source": [
    "observations.groupby(\"label_1m\").agg(count=(\"asset_file\", \"count\"))"
   ],
   "metadata": {
    "collapsed": false,
    "pycharm": {
     "name": "#%%\n"
    }
   }
  },
  {
   "cell_type": "markdown",
   "source": [
    "The above distribution of labels is in line with our intuition about equity returns. There are slightly more positive returns (label 2) than negative returns (label 0) and a rather small number of neutral returns (label 1). This imbalance might create problems for the training of a model. Hence, the training sample will need to be balanced."
   ],
   "metadata": {
    "collapsed": false,
    "pycharm": {
     "name": "#%% md\n"
    }
   }
  },
  {
   "cell_type": "markdown",
   "source": [
    "## Date"
   ],
   "metadata": {
    "collapsed": false,
    "pycharm": {
     "name": "#%% md\n"
    }
   }
  },
  {
   "cell_type": "code",
   "execution_count": 20,
   "outputs": [
    {
     "data": {
      "text/plain": "<matplotlib.axes._subplots.AxesSubplot at 0x1a62471b448>"
     },
     "execution_count": 20,
     "metadata": {},
     "output_type": "execute_result"
    },
    {
     "data": {
      "text/plain": "<Figure size 432x288 with 1 Axes>",
      "image/png": "[encoded data removed]"
     },
     "metadata": {
      "needs_background": "light"
     },
     "output_type": "display_data"
    }
   ],
   "source": [
    "observations.date.hist(bins=20)"
   ],
   "metadata": {
    "collapsed": false,
    "pycharm": {
     "name": "#%%\n"
    }
   }
  },
  {
   "cell_type": "markdown",
   "source": [
    "From the above histogram, the data appears to be skewed towards more recent dates. This could introduce biases in the model as more recent events are more present in the dataset."
   ],
   "metadata": {
    "collapsed": false,
    "pycharm": {
     "name": "#%% md\n"
    }
   }
  },
  {
   "cell_type": "markdown",
   "source": [
    "## Returns"
   ],
   "metadata": {
    "collapsed": false,
    "pycharm": {
     "name": "#%% md\n"
    }
   }
  },
  {
   "cell_type": "code",
   "execution_count": 21,
   "outputs": [
    {
     "data": {
      "text/plain": "       1_month_return  6_month_return  12_month_return\ncount    20989.000000    20989.000000     20989.000000\nmean         0.008963        0.044049         0.089833\nstd          0.145539        0.429713         0.595435\nmin         -0.847875       -0.974227        -0.979545\n25%         -0.041001       -0.101765        -0.146552\n50%          0.004908        0.022643         0.037957\n75%          0.050154        0.136464         0.220393\nmax          8.709302       32.200000        23.400000",
      "text/html": "<div>\n<style scoped>\n    .dataframe tbody tr th:only-of-type {\n        vertical-align: middle;\n    }\n\n    .dataframe tbody tr th {\n        vertical-align: top;\n    }\n\n    .dataframe thead th {\n        text-align: right;\n    }\n</style>\n<table border=\"1\" class=\"dataframe\">\n  <thead>\n    <tr style=\"text-align: right;\">\n      <th></th>\n      <th>1_month_return</th>\n      <th>6_month_return</th>\n      <th>12_month_return</th>\n    </tr>\n  </thead>\n  <tbody>\n    <tr>\n      <th>count</th>\n      <td>20989.000000</td>\n      <td>20989.000000</td>\n      <td>20989.000000</td>\n    </tr>\n    <tr>\n      <th>mean</th>\n      <td>0.008963</td>\n      <td>0.044049</td>\n      <td>0.089833</td>\n    </tr>\n    <tr>\n      <th>std</th>\n      <td>0.145539</td>\n      <td>0.429713</td>\n      <td>0.595435</td>\n    </tr>\n    <tr>\n      <th>min</th>\n      <td>-0.847875</td>\n      <td>-0.974227</td>\n      <td>-0.979545</td>\n    </tr>\n    <tr>\n      <th>25%</th>\n      <td>-0.041001</td>\n      <td>-0.101765</td>\n      <td>-0.146552</td>\n    </tr>\n    <tr>\n      <th>50%</th>\n      <td>0.004908</td>\n      <td>0.022643</td>\n      <td>0.037957</td>\n    </tr>\n    <tr>\n      <th>75%</th>\n      <td>0.050154</td>\n      <td>0.136464</td>\n      <td>0.220393</td>\n    </tr>\n    <tr>\n      <th>max</th>\n      <td>8.709302</td>\n      <td>32.200000</td>\n      <td>23.400000</td>\n    </tr>\n  </tbody>\n</table>\n</div>"
     },
     "execution_count": 21,
     "metadata": {},
     "output_type": "execute_result"
    }
   ],
   "source": [
    "observations[[\"1_month_return\", \"6_month_return\", \"12_month_return\"]].describe()"
   ],
   "metadata": {
    "collapsed": false,
    "pycharm": {
     "name": "#%%\n"
    }
   }
  },
  {
   "cell_type": "markdown",
   "source": [
    "From this overview, it appears that there are some extreme returns. For instance 921% returns in the 1 month returns, 515% returns in the 6 month returns, and 2071% returns in the 12 month returns. These outliers could make the trained model less generalizable. To prevent this, returns will be limited to 100% returns. This still corresponds to a 2X return over the period, which is highly unlikely but within reasonable bounds. Returns are also limited on the negative end to -50%, corresponding to a halving of the share price."
   ],
   "metadata": {
    "collapsed": false,
    "pycharm": {
     "name": "#%% md\n"
    }
   }
  },
  {
   "cell_type": "code",
   "execution_count": 22,
   "outputs": [],
   "source": [
    "observations = observations[\n",
    "    (observations[\"1_month_return\"] <= 1) &\n",
    "    (observations[\"6_month_return\"] <= 1) &\n",
    "    (observations[\"12_month_return\"] <= 1) &\n",
    "    (observations[\"1_month_return\"] >= -0.5) &\n",
    "    (observations[\"6_month_return\"] >= -0.5) &\n",
    "    (observations[\"12_month_return\"] >= -0.5)\n",
    "].copy()"
   ],
   "metadata": {
    "collapsed": false,
    "pycharm": {
     "name": "#%%\n"
    }
   }
  },
  {
   "cell_type": "code",
   "execution_count": 23,
   "outputs": [
    {
     "data": {
      "text/plain": "18594"
     },
     "execution_count": 23,
     "metadata": {},
     "output_type": "execute_result"
    }
   ],
   "source": [
    "len(observations.index)"
   ],
   "metadata": {
    "collapsed": false,
    "pycharm": {
     "name": "#%%\n"
    }
   }
  },
  {
   "cell_type": "markdown",
   "source": [
    "From the original dataset of 9994 observations, 51 were removed leaving us with a dataset of 9943 observations."
   ],
   "metadata": {
    "collapsed": false,
    "pycharm": {
     "name": "#%% md\n"
    }
   }
  },
  {
   "cell_type": "markdown",
   "source": [
    "## Volatility"
   ],
   "metadata": {
    "collapsed": false,
    "pycharm": {
     "name": "#%% md\n"
    }
   }
  },
  {
   "cell_type": "code",
   "execution_count": 10,
   "outputs": [
    {
     "data": {
      "text/plain": "       1_month_volatility  6_month_volatility  12_month_volatility\ncount        18594.000000        18594.000000         18594.000000\nmean             0.019793            0.021124             0.063550\nstd              0.021977            0.018278             5.635772\nmin              0.000000            0.000071             0.000081\n25%              0.009521            0.010999             0.011299\n50%              0.015705            0.017517             0.017962\n75%              0.025101            0.027124             0.027824\nmax              2.047381            0.835643           768.485131",
      "text/html": "<div>\n<style scoped>\n    .dataframe tbody tr th:only-of-type {\n        vertical-align: middle;\n    }\n\n    .dataframe tbody tr th {\n        vertical-align: top;\n    }\n\n    .dataframe thead th {\n        text-align: right;\n    }\n</style>\n<table border=\"1\" class=\"dataframe\">\n  <thead>\n    <tr style=\"text-align: right;\">\n      <th></th>\n      <th>1_month_volatility</th>\n      <th>6_month_volatility</th>\n      <th>12_month_volatility</th>\n    </tr>\n  </thead>\n  <tbody>\n    <tr>\n      <th>count</th>\n      <td>18594.000000</td>\n      <td>18594.000000</td>\n      <td>18594.000000</td>\n    </tr>\n    <tr>\n      <th>mean</th>\n      <td>0.019793</td>\n      <td>0.021124</td>\n      <td>0.063550</td>\n    </tr>\n    <tr>\n      <th>std</th>\n      <td>0.021977</td>\n      <td>0.018278</td>\n      <td>5.635772</td>\n    </tr>\n    <tr>\n      <th>min</th>\n      <td>0.000000</td>\n      <td>0.000071</td>\n      <td>0.000081</td>\n    </tr>\n    <tr>\n      <th>25%</th>\n      <td>0.009521</td>\n      <td>0.010999</td>\n      <td>0.011299</td>\n    </tr>\n    <tr>\n      <th>50%</th>\n      <td>0.015705</td>\n      <td>0.017517</td>\n      <td>0.017962</td>\n    </tr>\n    <tr>\n      <th>75%</th>\n      <td>0.025101</td>\n      <td>0.027124</td>\n      <td>0.027824</td>\n    </tr>\n    <tr>\n      <th>max</th>\n      <td>2.047381</td>\n      <td>0.835643</td>\n      <td>768.485131</td>\n    </tr>\n  </tbody>\n</table>\n</div>"
     },
     "execution_count": 10,
     "metadata": {},
     "output_type": "execute_result"
    }
   ],
   "source": [
    "# 1 month volatility\n",
    "observations[[\"1_month_volatility\", \"6_month_volatility\", \"12_month_volatility\"]].describe()"
   ],
   "metadata": {
    "collapsed": false,
    "pycharm": {
     "name": "#%%\n"
    }
   }
  },
  {
   "cell_type": "markdown",
   "source": [
    "Similar to returns, there are some extremely high volatilities, expecially in the 6 and 12 month features. However, these are limited to very few observations and correspond to the remaining observations with very large returns. They are considered acceptable and will not be removed from the dataset."
   ],
   "metadata": {
    "collapsed": false,
    "pycharm": {
     "name": "#%% md\n"
    }
   }
  },
  {
   "cell_type": "markdown",
   "source": [
    "# Set-up train/validation/test sets\n",
    "\n",
    "Now the datasets will be split into 50% training, 25% validation, and 25% test sets"
   ],
   "metadata": {
    "collapsed": false,
    "pycharm": {
     "name": "#%% md\n"
    }
   }
  },
  {
   "cell_type": "code",
   "execution_count": 11,
   "outputs": [],
   "source": [
    "from sklearn.model_selection import train_test_split\n",
    "import os\n",
    "\n",
    "observations.drop(\n",
    "    columns=[\"asset_file\", \"date\"], # these features will not be taken into account during model training/testing\n",
    "    inplace=True\n",
    ")"
   ],
   "metadata": {
    "collapsed": false,
    "pycharm": {
     "name": "#%%\n"
    }
   }
  },
  {
   "cell_type": "code",
   "execution_count": 25,
   "outputs": [],
   "source": [
    "def balance_sample(classes, data, label_name):\n",
    "    \"\"\"\n",
    "    Create a balanced subset of an unbalanced sample\n",
    "\n",
    "    :param classes: the prediction classes\n",
    "    :param data: the dataframe with columns and target classes\n",
    "    :param label_name: the name of the column with the target\n",
    "    :param test_size: the size of the test set\n",
    "    :return: a balanced subset of the unbalanced sample\n",
    "    \"\"\"\n",
    "    data = data.sample(frac=1) # shuffle sample\n",
    "    data.reset_index(drop=True, inplace=True)\n",
    "    data[\"index_flag\"] = data.index\n",
    "\n",
    "    class_sizes = []\n",
    "\n",
    "    for cl in classes:\n",
    "        class_sizes.append(len(data[data[label_name] == cl].index))\n",
    "\n",
    "    min_class_size = np.min(class_sizes)\n",
    "\n",
    "    samples = []\n",
    "\n",
    "    for cl in classes:\n",
    "        t = data[data[label_name] == cl]\n",
    "\n",
    "        t = t.sample(frac=min_class_size / len(t.index))\n",
    "        samples.append(t)\n",
    "\n",
    "    sample = pd.concat(samples)\n",
    "\n",
    "    return sample"
   ],
   "metadata": {
    "collapsed": false,
    "pycharm": {
     "name": "#%%\n"
    }
   }
  },
  {
   "cell_type": "code",
   "execution_count": 12,
   "outputs": [],
   "source": [
    "def balanced_sampler(classes, data, label_name, test_size):\n",
    "    \"\"\"\n",
    "    Create a balanced training sample\n",
    "\n",
    "    :param classes: the prediction classes\n",
    "    :param data: the dataframe with columns and target classes\n",
    "    :param label_name: the name of the column with the target\n",
    "    :param test_size: the size of the test set\n",
    "    :return: a balanced training sample and a test sample containing the rest\n",
    "    \"\"\"\n",
    "    data = data.sample(frac=1)\n",
    "    data.reset_index(drop=True, inplace=True)\n",
    "    data[\"index_flag\"] = data.index\n",
    "\n",
    "    train_class_size = (1 - test_size) / len(classes)\n",
    "\n",
    "    train_samples = []\n",
    "\n",
    "    for cl in classes:\n",
    "        t = data[data[label_name] == cl]\n",
    "\n",
    "        t = t.sample(frac=train_class_size * len(data.index) / len(t.index))\n",
    "        train_samples.append(t)\n",
    "\n",
    "    train_sample = pd.concat(train_samples)\n",
    "    test_sample = data[~data.index_flag.isin(list(train_sample.index_flag))].copy()\n",
    "\n",
    "    # train_sample.drop(columns=[\"index_flag\"], inplace=True)\n",
    "    # test_sample.drop(columns=[\"index_flag\"], inplace=True)\n",
    "\n",
    "    return train_sample, test_sample"
   ],
   "metadata": {
    "collapsed": false,
    "pycharm": {
     "name": "#%%\n"
    }
   }
  },
  {
   "cell_type": "code",
   "execution_count": 38,
   "outputs": [],
   "source": [
    "# Create a subset of the observations that represents a balanced sample between the three classes\n",
    "balanced_observations = balance_sample([0, 1, 2], observations, label_name=\"label_1m\")\n",
    "\n",
    "# Create balanced train, test & validation sub-samples\n",
    "train, temp = balanced_sampler([0, 1, 2], balanced_observations, label_name=\"label_1m\", test_size=0.3)\n",
    "test, val = balanced_sampler([0, 1, 2], balanced_observations, label_name=\"label_1m\", test_size=0.5)\n",
    "\n",
    "\"\"\"\n",
    "train, temp = balanced_sampler([0, 1, 2], observations, label_name=\"label_1m\", test_size=0.6) # 40% goes to training data, 30% to test & 30% to validation\n",
    "test, val = balanced_sampler([0, 1, 2], observations, label_name=\"label_1m\", test_size=0.5) # 15% goes to both test & validation data\n",
    "\"\"\"\n",
    "\n",
    "# Create directory\n",
    "if not os.path.isdir(\"ModelData\"):\n",
    "    os.makedirs(\"ModelData\")\n",
    "\n",
    "train.to_csv(\"ModelData/obs_train.csv\", index=False)\n",
    "val.to_csv(\"ModelData/obs_val.csv\", index=False)\n",
    "test.to_csv(\"ModelData/obs_test.csv\", index=False)"
   ],
   "metadata": {
    "collapsed": false,
    "pycharm": {
     "name": "#%%\n"
    }
   }
  },
  {
   "cell_type": "code",
   "execution_count": 1,
   "outputs": [],
   "source": [
    "import pandas as pd"
   ],
   "metadata": {
    "collapsed": false,
    "pycharm": {
     "name": "#%%\n"
    }
   }
  },
  {
   "cell_type": "code",
   "execution_count": 4,
   "outputs": [
    {
     "data": {
      "text/plain": "                   asset_file        date  stock  1_month_return  \\\n0      Data/Stocks\\nvg.us.txt  2007-10-15      1       -0.025121   \n1        Data/ETFs\\ero.us.txt  2015-03-03      0       -0.010892   \n2      Data/Stocks\\gra.us.txt  2015-12-23      1       -0.004420   \n3       Data/Stocks\\de.us.txt  1998-11-27      1        0.097806   \n4      Data/Stocks\\ago.us.txt  2006-09-19      1        0.075949   \n...                       ...         ...    ...             ...   \n6205   Data/Stocks\\fds.us.txt  2006-08-03      1       -0.068901   \n6206  Data/Stocks\\ccne.us.txt  2011-01-31      1       -0.073627   \n6207   Data/Stocks\\min.us.txt  2016-05-16      1        0.008643   \n6208  Data/Stocks\\stly.us.txt  2009-07-31      1        0.030387   \n6209   Data/Stocks\\bsd.us.txt  2012-03-26      1       -0.013720   \n\n      6_month_return  12_month_return  1_month_volatility  6_month_volatility  \\\n0          -0.088886        -0.060136            0.005576            0.007272   \n1          -0.149123        -0.186273            0.007776            0.011394   \n2          -0.055824        -0.009285            0.012809            0.014119   \n3          -0.272334        -0.314968            0.024374            0.026193   \n4           0.091214         0.208967            0.009921            0.009796   \n...              ...              ...                 ...                 ...   \n6205        0.113945         0.169785            0.017005            0.019429   \n6206        0.079588        -0.093523            0.018541            0.019591   \n6207        0.057561         0.044656            0.005905            0.006076   \n6208        0.425740         0.318359            0.041190            0.037151   \n6209        0.119351         0.267136            0.012646            0.008029   \n\n      12_month_volatility                   1_month_img  \\\n0                0.006178  Charts/img_12535_1_month.PNG   \n1                0.009090  Charts/img_12589_1_month.PNG   \n2                0.014363  Charts/img_15088_1_month.PNG   \n3                0.022592  Charts/img_13318_1_month.PNG   \n4                0.011649   Charts/img_4155_1_month.PNG   \n...                   ...                           ...   \n6205             0.020920   Charts/img_7166_1_month.PNG   \n6206             0.024108  Charts/img_16379_1_month.PNG   \n6207             0.005349   Charts/img_1605_1_month.PNG   \n6208             0.037221   Charts/img_7651_1_month.PNG   \n6209             0.008106  Charts/img_16198_1_month.PNG   \n\n                       6_month_img                   12_month_img  \\\n0     Charts/img_12535_6_month.PNG  Charts/img_12535_12_month.PNG   \n1     Charts/img_12589_6_month.PNG  Charts/img_12589_12_month.PNG   \n2     Charts/img_15088_6_month.PNG  Charts/img_15088_12_month.PNG   \n3     Charts/img_13318_6_month.PNG  Charts/img_13318_12_month.PNG   \n4      Charts/img_4155_6_month.PNG   Charts/img_4155_12_month.PNG   \n...                            ...                            ...   \n6205   Charts/img_7166_6_month.PNG   Charts/img_7166_12_month.PNG   \n6206  Charts/img_16379_6_month.PNG  Charts/img_16379_12_month.PNG   \n6207   Charts/img_1605_6_month.PNG   Charts/img_1605_12_month.PNG   \n6208   Charts/img_7651_6_month.PNG   Charts/img_7651_12_month.PNG   \n6209  Charts/img_16198_6_month.PNG  Charts/img_16198_12_month.PNG   \n\n                       1_month_img_bar                   6_month_img_bar  \\\n0     Charts/img_12535_bar_1_month.PNG  Charts/img_12535_bar_6_month.PNG   \n1     Charts/img_12589_bar_1_month.PNG  Charts/img_12589_bar_6_month.PNG   \n2     Charts/img_15088_bar_1_month.PNG  Charts/img_15088_bar_6_month.PNG   \n3     Charts/img_13318_bar_1_month.PNG  Charts/img_13318_bar_6_month.PNG   \n4      Charts/img_4155_bar_1_month.PNG   Charts/img_4155_bar_6_month.PNG   \n...                                ...                               ...   \n6205   Charts/img_7166_bar_1_month.PNG   Charts/img_7166_bar_6_month.PNG   \n6206  Charts/img_16379_bar_1_month.PNG  Charts/img_16379_bar_6_month.PNG   \n6207   Charts/img_1605_bar_1_month.PNG   Charts/img_1605_bar_6_month.PNG   \n6208   Charts/img_7651_bar_1_month.PNG   Charts/img_7651_bar_6_month.PNG   \n6209  Charts/img_16198_bar_1_month.PNG  Charts/img_16198_bar_6_month.PNG   \n\n                       12_month_img_bar  label_1m  1m_return  index_flag  \n0     Charts/img_12535_bar_12_month.PNG         0  -0.066309        5591  \n1     Charts/img_12589_bar_12_month.PNG         0  -0.042877        6563  \n2     Charts/img_15088_bar_12_month.PNG         0  -0.128430         600  \n3     Charts/img_13318_bar_12_month.PNG         0  -0.138302        7473  \n4      Charts/img_4155_bar_12_month.PNG         0  -0.084446        3260  \n...                                 ...       ...        ...         ...  \n6205   Charts/img_7166_bar_12_month.PNG         2   0.017104        5964  \n6206  Charts/img_16379_bar_12_month.PNG         2   0.046741        6832  \n6207   Charts/img_1605_bar_12_month.PNG         2   0.013209         939  \n6208   Charts/img_7651_bar_12_month.PNG         2   0.101303        1029  \n6209  Charts/img_16198_bar_12_month.PNG         2   0.044919        2821  \n\n[6210 rows x 18 columns]",
      "text/html": "<div>\n<style scoped>\n    .dataframe tbody tr th:only-of-type {\n        vertical-align: middle;\n    }\n\n    .dataframe tbody tr th {\n        vertical-align: top;\n    }\n\n    .dataframe thead th {\n        text-align: right;\n    }\n</style>\n<table border=\"1\" class=\"dataframe\">\n  <thead>\n    <tr style=\"text-align: right;\">\n      <th></th>\n      <th>asset_file</th>\n      <th>date</th>\n      <th>stock</th>\n      <th>1_month_return</th>\n      <th>6_month_return</th>\n      <th>12_month_return</th>\n      <th>1_month_volatility</th>\n      <th>6_month_volatility</th>\n      <th>12_month_volatility</th>\n      <th>1_month_img</th>\n      <th>6_month_img</th>\n      <th>12_month_img</th>\n      <th>1_month_img_bar</th>\n      <th>6_month_img_bar</th>\n      <th>12_month_img_bar</th>\n      <th>label_1m</th>\n      <th>1m_return</th>\n      <th>index_flag</th>\n    </tr>\n  </thead>\n  <tbody>\n    <tr>\n      <th>0</th>\n      <td>Data/Stocks\\nvg.us.txt</td>\n      <td>2007-10-15</td>\n      <td>1</td>\n      <td>-0.025121</td>\n      <td>-0.088886</td>\n      <td>-0.060136</td>\n      <td>0.005576</td>\n      <td>0.007272</td>\n      <td>0.006178</td>\n      <td>Charts/img_12535_1_month.PNG</td>\n      <td>Charts/img_12535_6_month.PNG</td>\n      <td>Charts/img_12535_12_month.PNG</td>\n      <td>Charts/img_12535_bar_1_month.PNG</td>\n      <td>Charts/img_12535_bar_6_month.PNG</td>\n      <td>Charts/img_12535_bar_12_month.PNG</td>\n      <td>0</td>\n      <td>-0.066309</td>\n      <td>5591</td>\n    </tr>\n    <tr>\n      <th>1</th>\n      <td>Data/ETFs\\ero.us.txt</td>\n      <td>2015-03-03</td>\n      <td>0</td>\n      <td>-0.010892</td>\n      <td>-0.149123</td>\n      <td>-0.186273</td>\n      <td>0.007776</td>\n      <td>0.011394</td>\n      <td>0.009090</td>\n      <td>Charts/img_12589_1_month.PNG</td>\n      <td>Charts/img_12589_6_month.PNG</td>\n      <td>Charts/img_12589_12_month.PNG</td>\n      <td>Charts/img_12589_bar_1_month.PNG</td>\n      <td>Charts/img_12589_bar_6_month.PNG</td>\n      <td>Charts/img_12589_bar_12_month.PNG</td>\n      <td>0</td>\n      <td>-0.042877</td>\n      <td>6563</td>\n    </tr>\n    <tr>\n      <th>2</th>\n      <td>Data/Stocks\\gra.us.txt</td>\n      <td>2015-12-23</td>\n      <td>1</td>\n      <td>-0.004420</td>\n      <td>-0.055824</td>\n      <td>-0.009285</td>\n      <td>0.012809</td>\n      <td>0.014119</td>\n      <td>0.014363</td>\n      <td>Charts/img_15088_1_month.PNG</td>\n      <td>Charts/img_15088_6_month.PNG</td>\n      <td>Charts/img_15088_12_month.PNG</td>\n      <td>Charts/img_15088_bar_1_month.PNG</td>\n      <td>Charts/img_15088_bar_6_month.PNG</td>\n      <td>Charts/img_15088_bar_12_month.PNG</td>\n      <td>0</td>\n      <td>-0.128430</td>\n      <td>600</td>\n    </tr>\n    <tr>\n      <th>3</th>\n      <td>Data/Stocks\\de.us.txt</td>\n      <td>1998-11-27</td>\n      <td>1</td>\n      <td>0.097806</td>\n      <td>-0.272334</td>\n      <td>-0.314968</td>\n      <td>0.024374</td>\n      <td>0.026193</td>\n      <td>0.022592</td>\n      <td>Charts/img_13318_1_month.PNG</td>\n      <td>Charts/img_13318_6_month.PNG</td>\n      <td>Charts/img_13318_12_month.PNG</td>\n      <td>Charts/img_13318_bar_1_month.PNG</td>\n      <td>Charts/img_13318_bar_6_month.PNG</td>\n      <td>Charts/img_13318_bar_12_month.PNG</td>\n      <td>0</td>\n      <td>-0.138302</td>\n      <td>7473</td>\n    </tr>\n    <tr>\n      <th>4</th>\n      <td>Data/Stocks\\ago.us.txt</td>\n      <td>2006-09-19</td>\n      <td>1</td>\n      <td>0.075949</td>\n      <td>0.091214</td>\n      <td>0.208967</td>\n      <td>0.009921</td>\n      <td>0.009796</td>\n      <td>0.011649</td>\n      <td>Charts/img_4155_1_month.PNG</td>\n      <td>Charts/img_4155_6_month.PNG</td>\n      <td>Charts/img_4155_12_month.PNG</td>\n      <td>Charts/img_4155_bar_1_month.PNG</td>\n      <td>Charts/img_4155_bar_6_month.PNG</td>\n      <td>Charts/img_4155_bar_12_month.PNG</td>\n      <td>0</td>\n      <td>-0.084446</td>\n      <td>3260</td>\n    </tr>\n    <tr>\n      <th>...</th>\n      <td>...</td>\n      <td>...</td>\n      <td>...</td>\n      <td>...</td>\n      <td>...</td>\n      <td>...</td>\n      <td>...</td>\n      <td>...</td>\n      <td>...</td>\n      <td>...</td>\n      <td>...</td>\n      <td>...</td>\n      <td>...</td>\n      <td>...</td>\n      <td>...</td>\n      <td>...</td>\n      <td>...</td>\n      <td>...</td>\n    </tr>\n    <tr>\n      <th>6205</th>\n      <td>Data/Stocks\\fds.us.txt</td>\n      <td>2006-08-03</td>\n      <td>1</td>\n      <td>-0.068901</td>\n      <td>0.113945</td>\n      <td>0.169785</td>\n      <td>0.017005</td>\n      <td>0.019429</td>\n      <td>0.020920</td>\n      <td>Charts/img_7166_1_month.PNG</td>\n      <td>Charts/img_7166_6_month.PNG</td>\n      <td>Charts/img_7166_12_month.PNG</td>\n      <td>Charts/img_7166_bar_1_month.PNG</td>\n      <td>Charts/img_7166_bar_6_month.PNG</td>\n      <td>Charts/img_7166_bar_12_month.PNG</td>\n      <td>2</td>\n      <td>0.017104</td>\n      <td>5964</td>\n    </tr>\n    <tr>\n      <th>6206</th>\n      <td>Data/Stocks\\ccne.us.txt</td>\n      <td>2011-01-31</td>\n      <td>1</td>\n      <td>-0.073627</td>\n      <td>0.079588</td>\n      <td>-0.093523</td>\n      <td>0.018541</td>\n      <td>0.019591</td>\n      <td>0.024108</td>\n      <td>Charts/img_16379_1_month.PNG</td>\n      <td>Charts/img_16379_6_month.PNG</td>\n      <td>Charts/img_16379_12_month.PNG</td>\n      <td>Charts/img_16379_bar_1_month.PNG</td>\n      <td>Charts/img_16379_bar_6_month.PNG</td>\n      <td>Charts/img_16379_bar_12_month.PNG</td>\n      <td>2</td>\n      <td>0.046741</td>\n      <td>6832</td>\n    </tr>\n    <tr>\n      <th>6207</th>\n      <td>Data/Stocks\\min.us.txt</td>\n      <td>2016-05-16</td>\n      <td>1</td>\n      <td>0.008643</td>\n      <td>0.057561</td>\n      <td>0.044656</td>\n      <td>0.005905</td>\n      <td>0.006076</td>\n      <td>0.005349</td>\n      <td>Charts/img_1605_1_month.PNG</td>\n      <td>Charts/img_1605_6_month.PNG</td>\n      <td>Charts/img_1605_12_month.PNG</td>\n      <td>Charts/img_1605_bar_1_month.PNG</td>\n      <td>Charts/img_1605_bar_6_month.PNG</td>\n      <td>Charts/img_1605_bar_12_month.PNG</td>\n      <td>2</td>\n      <td>0.013209</td>\n      <td>939</td>\n    </tr>\n    <tr>\n      <th>6208</th>\n      <td>Data/Stocks\\stly.us.txt</td>\n      <td>2009-07-31</td>\n      <td>1</td>\n      <td>0.030387</td>\n      <td>0.425740</td>\n      <td>0.318359</td>\n      <td>0.041190</td>\n      <td>0.037151</td>\n      <td>0.037221</td>\n      <td>Charts/img_7651_1_month.PNG</td>\n      <td>Charts/img_7651_6_month.PNG</td>\n      <td>Charts/img_7651_12_month.PNG</td>\n      <td>Charts/img_7651_bar_1_month.PNG</td>\n      <td>Charts/img_7651_bar_6_month.PNG</td>\n      <td>Charts/img_7651_bar_12_month.PNG</td>\n      <td>2</td>\n      <td>0.101303</td>\n      <td>1029</td>\n    </tr>\n    <tr>\n      <th>6209</th>\n      <td>Data/Stocks\\bsd.us.txt</td>\n      <td>2012-03-26</td>\n      <td>1</td>\n      <td>-0.013720</td>\n      <td>0.119351</td>\n      <td>0.267136</td>\n      <td>0.012646</td>\n      <td>0.008029</td>\n      <td>0.008106</td>\n      <td>Charts/img_16198_1_month.PNG</td>\n      <td>Charts/img_16198_6_month.PNG</td>\n      <td>Charts/img_16198_12_month.PNG</td>\n      <td>Charts/img_16198_bar_1_month.PNG</td>\n      <td>Charts/img_16198_bar_6_month.PNG</td>\n      <td>Charts/img_16198_bar_12_month.PNG</td>\n      <td>2</td>\n      <td>0.044919</td>\n      <td>2821</td>\n    </tr>\n  </tbody>\n</table>\n<p>6210 rows × 18 columns</p>\n</div>"
     },
     "execution_count": 4,
     "metadata": {},
     "output_type": "execute_result"
    }
   ],
   "source": [
    "pd.read_csv(\"ModelData/obs_train.csv\")"
   ],
   "metadata": {
    "collapsed": false,
    "pycharm": {
     "name": "#%%\n"
    }
   }
  },
  {
   "cell_type": "code",
   "execution_count": 3,
   "outputs": [
    {
     "data": {
      "text/plain": "                    asset_file        date  stock  1_month_return  \\\n0      Data/Stocks\\agfs.us.txt  2016-04-27      1       -0.044207   \n1       Data/Stocks\\hbk.us.txt  2015-06-17      1        0.062500   \n2       Data/Stocks\\sfl.us.txt  2015-06-10      1        0.133386   \n3      Data/Stocks\\irwd.us.txt  2012-04-19      1       -0.039039   \n4      Data/Stocks\\mlnk.us.txt  2013-06-28      1        0.039007   \n...                        ...         ...    ...             ...   \n4429  Data/Stocks\\pcg_e.us.txt  2013-10-03      1       -0.008766   \n4430  Data/Stocks\\bfs_c.us.txt  2014-07-10      1        0.005110   \n4431     Data/ETFs\\feeu.us.txt  2015-02-18      0        0.097942   \n4432   Data/Stocks\\mcep.us.txt  2016-08-03      1       -0.128205   \n4433    Data/Stocks\\myc.us.txt  2012-12-20      1       -0.045361   \n\n      6_month_return  12_month_return  1_month_volatility  6_month_volatility  \\\n0          -0.113154        -0.379208            0.022073            0.041085   \n1           0.111538         0.103896            0.014997            0.014116   \n2           0.310734        -0.004292            0.020200            0.018608   \n3           0.080169        -0.171521            0.019246            0.033641   \n4           0.010345        -0.023333            0.046227            0.052313   \n...              ...              ...                 ...                 ...   \n4429       -0.084682        -0.076066            0.021577            0.015250   \n4430        0.141719         0.068612            0.010603            0.007267   \n4431       -0.088959        -0.088369            0.022399            0.019297   \n4432        0.574074        -0.465409            0.064475            0.085442   \n4433        0.070714         0.177987            0.009677            0.007530   \n\n      12_month_volatility                   1_month_img  \\\n0                0.034667  Charts/img_14898_1_month.PNG   \n1                0.015968  Charts/img_15131_1_month.PNG   \n2                0.019122  Charts/img_11243_1_month.PNG   \n3                0.033395  Charts/img_20381_1_month.PNG   \n4                0.042601   Charts/img_4932_1_month.PNG   \n...                   ...                           ...   \n4429             0.012207  Charts/img_17362_1_month.PNG   \n4430             0.010234  Charts/img_13535_1_month.PNG   \n4431             0.016006  Charts/img_15130_1_month.PNG   \n4432             0.086003  Charts/img_10882_1_month.PNG   \n4433             0.007038  Charts/img_20000_1_month.PNG   \n\n                       6_month_img                   12_month_img  \\\n0     Charts/img_14898_6_month.PNG  Charts/img_14898_12_month.PNG   \n1     Charts/img_15131_6_month.PNG  Charts/img_15131_12_month.PNG   \n2     Charts/img_11243_6_month.PNG  Charts/img_11243_12_month.PNG   \n3     Charts/img_20381_6_month.PNG  Charts/img_20381_12_month.PNG   \n4      Charts/img_4932_6_month.PNG   Charts/img_4932_12_month.PNG   \n...                            ...                            ...   \n4429  Charts/img_17362_6_month.PNG  Charts/img_17362_12_month.PNG   \n4430  Charts/img_13535_6_month.PNG  Charts/img_13535_12_month.PNG   \n4431  Charts/img_15130_6_month.PNG  Charts/img_15130_12_month.PNG   \n4432  Charts/img_10882_6_month.PNG  Charts/img_10882_12_month.PNG   \n4433  Charts/img_20000_6_month.PNG  Charts/img_20000_12_month.PNG   \n\n                       1_month_img_bar                   6_month_img_bar  \\\n0     Charts/img_14898_bar_1_month.PNG  Charts/img_14898_bar_6_month.PNG   \n1     Charts/img_15131_bar_1_month.PNG  Charts/img_15131_bar_6_month.PNG   \n2     Charts/img_11243_bar_1_month.PNG  Charts/img_11243_bar_6_month.PNG   \n3     Charts/img_20381_bar_1_month.PNG  Charts/img_20381_bar_6_month.PNG   \n4      Charts/img_4932_bar_1_month.PNG   Charts/img_4932_bar_6_month.PNG   \n...                                ...                               ...   \n4429  Charts/img_17362_bar_1_month.PNG  Charts/img_17362_bar_6_month.PNG   \n4430  Charts/img_13535_bar_1_month.PNG  Charts/img_13535_bar_6_month.PNG   \n4431  Charts/img_15130_bar_1_month.PNG  Charts/img_15130_bar_6_month.PNG   \n4432  Charts/img_10882_bar_1_month.PNG  Charts/img_10882_bar_6_month.PNG   \n4433  Charts/img_20000_bar_1_month.PNG  Charts/img_20000_bar_6_month.PNG   \n\n                       12_month_img_bar  label_1m  1m_return  index_flag  \n0     Charts/img_14898_bar_12_month.PNG         0  -0.217806        6831  \n1     Charts/img_15131_bar_12_month.PNG         0  -0.035862        4976  \n2     Charts/img_11243_bar_12_month.PNG         0  -0.016511        5099  \n3     Charts/img_20381_bar_12_month.PNG         0  -0.109795        8773  \n4      Charts/img_4932_bar_12_month.PNG         0  -0.034591        8703  \n...                                 ...       ...        ...         ...  \n4429  Charts/img_17362_bar_12_month.PNG         2   0.046907          26  \n4430  Charts/img_13535_bar_12_month.PNG         2   0.022684        3898  \n4431  Charts/img_15130_bar_12_month.PNG         2   0.023009        1703  \n4432  Charts/img_10882_bar_12_month.PNG         2   0.296875        4560  \n4433  Charts/img_20000_bar_12_month.PNG         2   0.018896        6721  \n\n[4434 rows x 18 columns]",
      "text/html": "<div>\n<style scoped>\n    .dataframe tbody tr th:only-of-type {\n        vertical-align: middle;\n    }\n\n    .dataframe tbody tr th {\n        vertical-align: top;\n    }\n\n    .dataframe thead th {\n        text-align: right;\n    }\n</style>\n<table border=\"1\" class=\"dataframe\">\n  <thead>\n    <tr style=\"text-align: right;\">\n      <th></th>\n      <th>asset_file</th>\n      <th>date</th>\n      <th>stock</th>\n      <th>1_month_return</th>\n      <th>6_month_return</th>\n      <th>12_month_return</th>\n      <th>1_month_volatility</th>\n      <th>6_month_volatility</th>\n      <th>12_month_volatility</th>\n      <th>1_month_img</th>\n      <th>6_month_img</th>\n      <th>12_month_img</th>\n      <th>1_month_img_bar</th>\n      <th>6_month_img_bar</th>\n      <th>12_month_img_bar</th>\n      <th>label_1m</th>\n      <th>1m_return</th>\n      <th>index_flag</th>\n    </tr>\n  </thead>\n  <tbody>\n    <tr>\n      <th>0</th>\n      <td>Data/Stocks\\agfs.us.txt</td>\n      <td>2016-04-27</td>\n      <td>1</td>\n      <td>-0.044207</td>\n      <td>-0.113154</td>\n      <td>-0.379208</td>\n      <td>0.022073</td>\n      <td>0.041085</td>\n      <td>0.034667</td>\n      <td>Charts/img_14898_1_month.PNG</td>\n      <td>Charts/img_14898_6_month.PNG</td>\n      <td>Charts/img_14898_12_month.PNG</td>\n      <td>Charts/img_14898_bar_1_month.PNG</td>\n      <td>Charts/img_14898_bar_6_month.PNG</td>\n      <td>Charts/img_14898_bar_12_month.PNG</td>\n      <td>0</td>\n      <td>-0.217806</td>\n      <td>6831</td>\n    </tr>\n    <tr>\n      <th>1</th>\n      <td>Data/Stocks\\hbk.us.txt</td>\n      <td>2015-06-17</td>\n      <td>1</td>\n      <td>0.062500</td>\n      <td>0.111538</td>\n      <td>0.103896</td>\n      <td>0.014997</td>\n      <td>0.014116</td>\n      <td>0.015968</td>\n      <td>Charts/img_15131_1_month.PNG</td>\n      <td>Charts/img_15131_6_month.PNG</td>\n      <td>Charts/img_15131_12_month.PNG</td>\n      <td>Charts/img_15131_bar_1_month.PNG</td>\n      <td>Charts/img_15131_bar_6_month.PNG</td>\n      <td>Charts/img_15131_bar_12_month.PNG</td>\n      <td>0</td>\n      <td>-0.035862</td>\n      <td>4976</td>\n    </tr>\n    <tr>\n      <th>2</th>\n      <td>Data/Stocks\\sfl.us.txt</td>\n      <td>2015-06-10</td>\n      <td>1</td>\n      <td>0.133386</td>\n      <td>0.310734</td>\n      <td>-0.004292</td>\n      <td>0.020200</td>\n      <td>0.018608</td>\n      <td>0.019122</td>\n      <td>Charts/img_11243_1_month.PNG</td>\n      <td>Charts/img_11243_6_month.PNG</td>\n      <td>Charts/img_11243_12_month.PNG</td>\n      <td>Charts/img_11243_bar_1_month.PNG</td>\n      <td>Charts/img_11243_bar_6_month.PNG</td>\n      <td>Charts/img_11243_bar_12_month.PNG</td>\n      <td>0</td>\n      <td>-0.016511</td>\n      <td>5099</td>\n    </tr>\n    <tr>\n      <th>3</th>\n      <td>Data/Stocks\\irwd.us.txt</td>\n      <td>2012-04-19</td>\n      <td>1</td>\n      <td>-0.039039</td>\n      <td>0.080169</td>\n      <td>-0.171521</td>\n      <td>0.019246</td>\n      <td>0.033641</td>\n      <td>0.033395</td>\n      <td>Charts/img_20381_1_month.PNG</td>\n      <td>Charts/img_20381_6_month.PNG</td>\n      <td>Charts/img_20381_12_month.PNG</td>\n      <td>Charts/img_20381_bar_1_month.PNG</td>\n      <td>Charts/img_20381_bar_6_month.PNG</td>\n      <td>Charts/img_20381_bar_12_month.PNG</td>\n      <td>0</td>\n      <td>-0.109795</td>\n      <td>8773</td>\n    </tr>\n    <tr>\n      <th>4</th>\n      <td>Data/Stocks\\mlnk.us.txt</td>\n      <td>2013-06-28</td>\n      <td>1</td>\n      <td>0.039007</td>\n      <td>0.010345</td>\n      <td>-0.023333</td>\n      <td>0.046227</td>\n      <td>0.052313</td>\n      <td>0.042601</td>\n      <td>Charts/img_4932_1_month.PNG</td>\n      <td>Charts/img_4932_6_month.PNG</td>\n      <td>Charts/img_4932_12_month.PNG</td>\n      <td>Charts/img_4932_bar_1_month.PNG</td>\n      <td>Charts/img_4932_bar_6_month.PNG</td>\n      <td>Charts/img_4932_bar_12_month.PNG</td>\n      <td>0</td>\n      <td>-0.034591</td>\n      <td>8703</td>\n    </tr>\n    <tr>\n      <th>...</th>\n      <td>...</td>\n      <td>...</td>\n      <td>...</td>\n      <td>...</td>\n      <td>...</td>\n      <td>...</td>\n      <td>...</td>\n      <td>...</td>\n      <td>...</td>\n      <td>...</td>\n      <td>...</td>\n      <td>...</td>\n      <td>...</td>\n      <td>...</td>\n      <td>...</td>\n      <td>...</td>\n      <td>...</td>\n      <td>...</td>\n    </tr>\n    <tr>\n      <th>4429</th>\n      <td>Data/Stocks\\pcg_e.us.txt</td>\n      <td>2013-10-03</td>\n      <td>1</td>\n      <td>-0.008766</td>\n      <td>-0.084682</td>\n      <td>-0.076066</td>\n      <td>0.021577</td>\n      <td>0.015250</td>\n      <td>0.012207</td>\n      <td>Charts/img_17362_1_month.PNG</td>\n      <td>Charts/img_17362_6_month.PNG</td>\n      <td>Charts/img_17362_12_month.PNG</td>\n      <td>Charts/img_17362_bar_1_month.PNG</td>\n      <td>Charts/img_17362_bar_6_month.PNG</td>\n      <td>Charts/img_17362_bar_12_month.PNG</td>\n      <td>2</td>\n      <td>0.046907</td>\n      <td>26</td>\n    </tr>\n    <tr>\n      <th>4430</th>\n      <td>Data/Stocks\\bfs_c.us.txt</td>\n      <td>2014-07-10</td>\n      <td>1</td>\n      <td>0.005110</td>\n      <td>0.141719</td>\n      <td>0.068612</td>\n      <td>0.010603</td>\n      <td>0.007267</td>\n      <td>0.010234</td>\n      <td>Charts/img_13535_1_month.PNG</td>\n      <td>Charts/img_13535_6_month.PNG</td>\n      <td>Charts/img_13535_12_month.PNG</td>\n      <td>Charts/img_13535_bar_1_month.PNG</td>\n      <td>Charts/img_13535_bar_6_month.PNG</td>\n      <td>Charts/img_13535_bar_12_month.PNG</td>\n      <td>2</td>\n      <td>0.022684</td>\n      <td>3898</td>\n    </tr>\n    <tr>\n      <th>4431</th>\n      <td>Data/ETFs\\feeu.us.txt</td>\n      <td>2015-02-18</td>\n      <td>0</td>\n      <td>0.097942</td>\n      <td>-0.088959</td>\n      <td>-0.088369</td>\n      <td>0.022399</td>\n      <td>0.019297</td>\n      <td>0.016006</td>\n      <td>Charts/img_15130_1_month.PNG</td>\n      <td>Charts/img_15130_6_month.PNG</td>\n      <td>Charts/img_15130_12_month.PNG</td>\n      <td>Charts/img_15130_bar_1_month.PNG</td>\n      <td>Charts/img_15130_bar_6_month.PNG</td>\n      <td>Charts/img_15130_bar_12_month.PNG</td>\n      <td>2</td>\n      <td>0.023009</td>\n      <td>1703</td>\n    </tr>\n    <tr>\n      <th>4432</th>\n      <td>Data/Stocks\\mcep.us.txt</td>\n      <td>2016-08-03</td>\n      <td>1</td>\n      <td>-0.128205</td>\n      <td>0.574074</td>\n      <td>-0.465409</td>\n      <td>0.064475</td>\n      <td>0.085442</td>\n      <td>0.086003</td>\n      <td>Charts/img_10882_1_month.PNG</td>\n      <td>Charts/img_10882_6_month.PNG</td>\n      <td>Charts/img_10882_12_month.PNG</td>\n      <td>Charts/img_10882_bar_1_month.PNG</td>\n      <td>Charts/img_10882_bar_6_month.PNG</td>\n      <td>Charts/img_10882_bar_12_month.PNG</td>\n      <td>2</td>\n      <td>0.296875</td>\n      <td>4560</td>\n    </tr>\n    <tr>\n      <th>4433</th>\n      <td>Data/Stocks\\myc.us.txt</td>\n      <td>2012-12-20</td>\n      <td>1</td>\n      <td>-0.045361</td>\n      <td>0.070714</td>\n      <td>0.177987</td>\n      <td>0.009677</td>\n      <td>0.007530</td>\n      <td>0.007038</td>\n      <td>Charts/img_20000_1_month.PNG</td>\n      <td>Charts/img_20000_6_month.PNG</td>\n      <td>Charts/img_20000_12_month.PNG</td>\n      <td>Charts/img_20000_bar_1_month.PNG</td>\n      <td>Charts/img_20000_bar_6_month.PNG</td>\n      <td>Charts/img_20000_bar_12_month.PNG</td>\n      <td>2</td>\n      <td>0.018896</td>\n      <td>6721</td>\n    </tr>\n  </tbody>\n</table>\n<p>4434 rows × 18 columns</p>\n</div>"
     },
     "execution_count": 3,
     "metadata": {},
     "output_type": "execute_result"
    }
   ],
   "source": [
    "pd.read_csv(\"ModelData/obs_test.csv\")"
   ],
   "metadata": {
    "collapsed": false,
    "pycharm": {
     "name": "#%%\n"
    }
   }
  }
 ],
 "metadata": {
  "kernelspec": {
   "display_name": "Python 3",
   "language": "python",
   "name": "python3"
  },
  "language_info": {
   "codemirror_mode": {
    "name": "ipython",
    "version": 2
   },
   "file_extension": ".py",
   "mimetype": "text/x-python",
   "name": "python",
   "nbconvert_exporter": "python",
   "pygments_lexer": "ipython2",
   "version": "2.7.6"
  }
 },
 "nbformat": 4,
 "nbformat_minor": 0
}