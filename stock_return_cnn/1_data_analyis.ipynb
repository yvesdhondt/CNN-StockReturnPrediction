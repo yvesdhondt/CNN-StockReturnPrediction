{
 "cells": [
  {
   "cell_type": "markdown",
   "source": [
    "# Intro\n",
    "\n",
    "Now that the data has been transformed into a usual, some elementary EDA will be performed to check the numerical features."
   ],
   "metadata": {
    "collapsed": false
   }
  },
  {
   "cell_type": "code",
   "execution_count": 12,
   "outputs": [],
   "source": [
    "import pandas as pd\n",
    "from os.path import join\n",
    "from os import listdir"
   ],
   "metadata": {
    "collapsed": false,
    "pycharm": {
     "name": "#%%\n"
    }
   }
  },
  {
   "cell_type": "code",
   "execution_count": 13,
   "metadata": {
    "collapsed": true
   },
   "outputs": [],
   "source": [
    "def read_batches(path):\n",
    "    \"\"\"\n",
    "    Read the batches stored in the path and group them\n",
    "    :param path: the path with batches\n",
    "    :return: a pandas dataframe with the grouped and de-duplicated batches\n",
    "    \"\"\"\n",
    "    # Regroup batches\n",
    "    batches = [pd.read_csv(join(path, f)) for f in listdir(path)]\n",
    "\n",
    "    # After creating the random observations, potential duplicates (although unlikely) need to be dropped\n",
    "    observations = pd.concat(batches)\n",
    "    observations.drop_duplicates(subset=[\"date\", \"asset_file\"])\n",
    "\n",
    "    observations.date = pd.to_datetime(observations.date)\n",
    "\n",
    "    observations.dropna(inplace=True)\n",
    "\n",
    "    return observations"
   ]
  },
  {
   "cell_type": "code",
   "execution_count": 14,
   "outputs": [],
   "source": [
    "observations = read_batches(\"DataBatches\")"
   ],
   "metadata": {
    "collapsed": false,
    "pycharm": {
     "name": "#%%\n"
    }
   }
  },
  {
   "cell_type": "code",
   "execution_count": 15,
   "outputs": [
    {
     "data": {
      "text/plain": "                  asset_file       date  stock  1_month_return  \\\n0    Data/Stocks\\coty.us.txt 2016-01-22      1       -0.151798   \n1     Data/Stocks\\etw.us.txt 2008-12-01      1       -0.124379   \n2    Data/Stocks\\bsft.us.txt 2011-09-01      1        0.073076   \n3     Data/Stocks\\irm.us.txt 2013-04-12      1        0.045679   \n4    Data/Stocks\\kone.us.txt 2013-09-11      1       -0.030303   \n..                       ...        ...    ...             ...   \n495   Data/Stocks\\pdm.us.txt 2015-07-27      1        0.019129   \n496    Data/ETFs\\pfig.us.txt 2012-11-27      0       -0.000611   \n497  Data/Stocks\\quik.us.txt 2009-07-21      1       -0.225352   \n498    Data/ETFs\\usmv.us.txt 2016-03-07      0        0.053178   \n499   Data/Stocks\\oak.us.txt 2015-02-19      1        0.028410   \n\n     6_month_return  12_month_return  1_month_volatility  6_month_volatility  \\\n0         -0.150866         0.185205            0.019828            0.023280   \n1         -0.462061        -0.476264            0.039048            0.031644   \n2         -0.194836         2.734568            0.074986            0.055913   \n3          0.221951         0.480536            0.008477            0.010498   \n4         -0.177143         0.200000            0.072476            0.136403   \n..              ...              ...                 ...                 ...   \n495       -0.064938        -0.033757            0.009271            0.011371   \n496        0.030198         0.070123            0.002036            0.003334   \n497        0.325301        -0.214286            0.041471            0.077764   \n498        0.091820         0.062024            0.007474            0.008667   \n499        0.134447        -0.004507            0.011480            0.014663   \n\n     12_month_volatility                  1_month_img  \\\n0               0.024463   Charts/img_500_1_month.PNG   \n1               0.024240   Charts/img_501_1_month.PNG   \n2               0.056844   Charts/img_502_1_month.PNG   \n3               0.014402   Charts/img_503_1_month.PNG   \n4               0.130107   Charts/img_504_1_month.PNG   \n..                   ...                          ...   \n495             0.009915  Charts/img_9495_1_month.PNG   \n496             0.003830  Charts/img_9496_1_month.PNG   \n497             0.078736  Charts/img_9497_1_month.PNG   \n498             0.008700  Charts/img_9498_1_month.PNG   \n499             0.013264  Charts/img_9499_1_month.PNG   \n\n                     6_month_img                  12_month_img  label  \n0     Charts/img_500_6_month.PNG   Charts/img_500_12_month.PNG      2  \n1     Charts/img_501_6_month.PNG   Charts/img_501_12_month.PNG      2  \n2     Charts/img_502_6_month.PNG   Charts/img_502_12_month.PNG      1  \n3     Charts/img_503_6_month.PNG   Charts/img_503_12_month.PNG      2  \n4     Charts/img_504_6_month.PNG   Charts/img_504_12_month.PNG      2  \n..                           ...                           ...    ...  \n495  Charts/img_9495_6_month.PNG  Charts/img_9495_12_month.PNG      0  \n496  Charts/img_9496_6_month.PNG  Charts/img_9496_12_month.PNG      1  \n497  Charts/img_9497_6_month.PNG  Charts/img_9497_12_month.PNG      2  \n498  Charts/img_9498_6_month.PNG  Charts/img_9498_12_month.PNG      2  \n499  Charts/img_9499_6_month.PNG  Charts/img_9499_12_month.PNG      0  \n\n[9500 rows x 13 columns]",
      "text/html": "<div>\n<style scoped>\n    .dataframe tbody tr th:only-of-type {\n        vertical-align: middle;\n    }\n\n    .dataframe tbody tr th {\n        vertical-align: top;\n    }\n\n    .dataframe thead th {\n        text-align: right;\n    }\n</style>\n<table border=\"1\" class=\"dataframe\">\n  <thead>\n    <tr style=\"text-align: right;\">\n      <th></th>\n      <th>asset_file</th>\n      <th>date</th>\n      <th>stock</th>\n      <th>1_month_return</th>\n      <th>6_month_return</th>\n      <th>12_month_return</th>\n      <th>1_month_volatility</th>\n      <th>6_month_volatility</th>\n      <th>12_month_volatility</th>\n      <th>1_month_img</th>\n      <th>6_month_img</th>\n      <th>12_month_img</th>\n      <th>label</th>\n    </tr>\n  </thead>\n  <tbody>\n    <tr>\n      <th>0</th>\n      <td>Data/Stocks\\coty.us.txt</td>\n      <td>2016-01-22</td>\n      <td>1</td>\n      <td>-0.151798</td>\n      <td>-0.150866</td>\n      <td>0.185205</td>\n      <td>0.019828</td>\n      <td>0.023280</td>\n      <td>0.024463</td>\n      <td>Charts/img_500_1_month.PNG</td>\n      <td>Charts/img_500_6_month.PNG</td>\n      <td>Charts/img_500_12_month.PNG</td>\n      <td>2</td>\n    </tr>\n    <tr>\n      <th>1</th>\n      <td>Data/Stocks\\etw.us.txt</td>\n      <td>2008-12-01</td>\n      <td>1</td>\n      <td>-0.124379</td>\n      <td>-0.462061</td>\n      <td>-0.476264</td>\n      <td>0.039048</td>\n      <td>0.031644</td>\n      <td>0.024240</td>\n      <td>Charts/img_501_1_month.PNG</td>\n      <td>Charts/img_501_6_month.PNG</td>\n      <td>Charts/img_501_12_month.PNG</td>\n      <td>2</td>\n    </tr>\n    <tr>\n      <th>2</th>\n      <td>Data/Stocks\\bsft.us.txt</td>\n      <td>2011-09-01</td>\n      <td>1</td>\n      <td>0.073076</td>\n      <td>-0.194836</td>\n      <td>2.734568</td>\n      <td>0.074986</td>\n      <td>0.055913</td>\n      <td>0.056844</td>\n      <td>Charts/img_502_1_month.PNG</td>\n      <td>Charts/img_502_6_month.PNG</td>\n      <td>Charts/img_502_12_month.PNG</td>\n      <td>1</td>\n    </tr>\n    <tr>\n      <th>3</th>\n      <td>Data/Stocks\\irm.us.txt</td>\n      <td>2013-04-12</td>\n      <td>1</td>\n      <td>0.045679</td>\n      <td>0.221951</td>\n      <td>0.480536</td>\n      <td>0.008477</td>\n      <td>0.010498</td>\n      <td>0.014402</td>\n      <td>Charts/img_503_1_month.PNG</td>\n      <td>Charts/img_503_6_month.PNG</td>\n      <td>Charts/img_503_12_month.PNG</td>\n      <td>2</td>\n    </tr>\n    <tr>\n      <th>4</th>\n      <td>Data/Stocks\\kone.us.txt</td>\n      <td>2013-09-11</td>\n      <td>1</td>\n      <td>-0.030303</td>\n      <td>-0.177143</td>\n      <td>0.200000</td>\n      <td>0.072476</td>\n      <td>0.136403</td>\n      <td>0.130107</td>\n      <td>Charts/img_504_1_month.PNG</td>\n      <td>Charts/img_504_6_month.PNG</td>\n      <td>Charts/img_504_12_month.PNG</td>\n      <td>2</td>\n    </tr>\n    <tr>\n      <th>...</th>\n      <td>...</td>\n      <td>...</td>\n      <td>...</td>\n      <td>...</td>\n      <td>...</td>\n      <td>...</td>\n      <td>...</td>\n      <td>...</td>\n      <td>...</td>\n      <td>...</td>\n      <td>...</td>\n      <td>...</td>\n      <td>...</td>\n    </tr>\n    <tr>\n      <th>495</th>\n      <td>Data/Stocks\\pdm.us.txt</td>\n      <td>2015-07-27</td>\n      <td>1</td>\n      <td>0.019129</td>\n      <td>-0.064938</td>\n      <td>-0.033757</td>\n      <td>0.009271</td>\n      <td>0.011371</td>\n      <td>0.009915</td>\n      <td>Charts/img_9495_1_month.PNG</td>\n      <td>Charts/img_9495_6_month.PNG</td>\n      <td>Charts/img_9495_12_month.PNG</td>\n      <td>0</td>\n    </tr>\n    <tr>\n      <th>496</th>\n      <td>Data/ETFs\\pfig.us.txt</td>\n      <td>2012-11-27</td>\n      <td>0</td>\n      <td>-0.000611</td>\n      <td>0.030198</td>\n      <td>0.070123</td>\n      <td>0.002036</td>\n      <td>0.003334</td>\n      <td>0.003830</td>\n      <td>Charts/img_9496_1_month.PNG</td>\n      <td>Charts/img_9496_6_month.PNG</td>\n      <td>Charts/img_9496_12_month.PNG</td>\n      <td>1</td>\n    </tr>\n    <tr>\n      <th>497</th>\n      <td>Data/Stocks\\quik.us.txt</td>\n      <td>2009-07-21</td>\n      <td>1</td>\n      <td>-0.225352</td>\n      <td>0.325301</td>\n      <td>-0.214286</td>\n      <td>0.041471</td>\n      <td>0.077764</td>\n      <td>0.078736</td>\n      <td>Charts/img_9497_1_month.PNG</td>\n      <td>Charts/img_9497_6_month.PNG</td>\n      <td>Charts/img_9497_12_month.PNG</td>\n      <td>2</td>\n    </tr>\n    <tr>\n      <th>498</th>\n      <td>Data/ETFs\\usmv.us.txt</td>\n      <td>2016-03-07</td>\n      <td>0</td>\n      <td>0.053178</td>\n      <td>0.091820</td>\n      <td>0.062024</td>\n      <td>0.007474</td>\n      <td>0.008667</td>\n      <td>0.008700</td>\n      <td>Charts/img_9498_1_month.PNG</td>\n      <td>Charts/img_9498_6_month.PNG</td>\n      <td>Charts/img_9498_12_month.PNG</td>\n      <td>2</td>\n    </tr>\n    <tr>\n      <th>499</th>\n      <td>Data/Stocks\\oak.us.txt</td>\n      <td>2015-02-19</td>\n      <td>1</td>\n      <td>0.028410</td>\n      <td>0.134447</td>\n      <td>-0.004507</td>\n      <td>0.011480</td>\n      <td>0.014663</td>\n      <td>0.013264</td>\n      <td>Charts/img_9499_1_month.PNG</td>\n      <td>Charts/img_9499_6_month.PNG</td>\n      <td>Charts/img_9499_12_month.PNG</td>\n      <td>0</td>\n    </tr>\n  </tbody>\n</table>\n<p>9500 rows × 13 columns</p>\n</div>"
     },
     "execution_count": 15,
     "metadata": {},
     "output_type": "execute_result"
    }
   ],
   "source": [
    "observations"
   ],
   "metadata": {
    "collapsed": false,
    "pycharm": {
     "name": "#%%\n"
    }
   }
  },
  {
   "cell_type": "markdown",
   "source": [
    "## Labels"
   ],
   "metadata": {
    "collapsed": false
   }
  },
  {
   "cell_type": "code",
   "execution_count": 16,
   "outputs": [
    {
     "data": {
      "text/plain": "       count\nlabel       \n0       3781\n1       1376\n2       4343",
      "text/html": "<div>\n<style scoped>\n    .dataframe tbody tr th:only-of-type {\n        vertical-align: middle;\n    }\n\n    .dataframe tbody tr th {\n        vertical-align: top;\n    }\n\n    .dataframe thead th {\n        text-align: right;\n    }\n</style>\n<table border=\"1\" class=\"dataframe\">\n  <thead>\n    <tr style=\"text-align: right;\">\n      <th></th>\n      <th>count</th>\n    </tr>\n    <tr>\n      <th>label</th>\n      <th></th>\n    </tr>\n  </thead>\n  <tbody>\n    <tr>\n      <th>0</th>\n      <td>3781</td>\n    </tr>\n    <tr>\n      <th>1</th>\n      <td>1376</td>\n    </tr>\n    <tr>\n      <th>2</th>\n      <td>4343</td>\n    </tr>\n  </tbody>\n</table>\n</div>"
     },
     "execution_count": 16,
     "metadata": {},
     "output_type": "execute_result"
    }
   ],
   "source": [
    "observations.groupby(\"label\").agg(count=(\"asset_file\", \"count\"))"
   ],
   "metadata": {
    "collapsed": false,
    "pycharm": {
     "name": "#%%\n"
    }
   }
  },
  {
   "cell_type": "markdown",
   "source": [
    "The above distribution of labels is in line with our intuition about equity returns. There are slightly more positive returns (label 2) than negative returns (label 0) and a rather small number of neutral returns (label 1)."
   ],
   "metadata": {
    "collapsed": false,
    "pycharm": {
     "name": "#%% md\n"
    }
   }
  },
  {
   "cell_type": "markdown",
   "source": [
    "## Date"
   ],
   "metadata": {
    "collapsed": false,
    "pycharm": {
     "name": "#%% md\n"
    }
   }
  },
  {
   "cell_type": "code",
   "execution_count": 17,
   "outputs": [
    {
     "data": {
      "text/plain": "<matplotlib.axes._subplots.AxesSubplot at 0x18b14a1e388>"
     },
     "execution_count": 17,
     "metadata": {},
     "output_type": "execute_result"
    },
    {
     "data": {
      "text/plain": "<Figure size 432x288 with 1 Axes>",
      "image/png": "[encoded data removed]"
     },
     "metadata": {
      "needs_background": "light"
     },
     "output_type": "display_data"
    }
   ],
   "source": [
    "observations.date.hist()"
   ],
   "metadata": {
    "collapsed": false,
    "pycharm": {
     "name": "#%%\n"
    }
   }
  },
  {
   "cell_type": "markdown",
   "source": [
    "From the above histogram it is clear that the majority of observations comes from recent years. This is in line with the fact that the raw data is also skewed towards more recent years. This could potentially impact the model since recent events (such as the 2008 crisis) could be over-weighted. For now we will leave this as is, but depending on how the model performs, a new cleaned dataset could be constructed where the dates are more balanced)"
   ],
   "metadata": {
    "collapsed": false,
    "pycharm": {
     "name": "#%% md\n"
    }
   }
  },
  {
   "cell_type": "markdown",
   "source": [
    "## Returns"
   ],
   "metadata": {
    "collapsed": false,
    "pycharm": {
     "name": "#%% md\n"
    }
   }
  },
  {
   "cell_type": "code",
   "execution_count": 18,
   "outputs": [
    {
     "data": {
      "text/plain": "       1_month_return  6_month_return  12_month_return\ncount     9500.000000     9500.000000      9500.000000\nmean         0.006440        0.048104         0.089217\nstd          0.124710        0.407877         0.556537\nmin         -0.906412       -0.946269        -0.974157\n25%         -0.040900       -0.101011        -0.144075\n50%          0.004700        0.023505         0.038845\n75%          0.047281        0.138902         0.216374\nmax          1.828125       14.736842        13.109024",
      "text/html": "<div>\n<style scoped>\n    .dataframe tbody tr th:only-of-type {\n        vertical-align: middle;\n    }\n\n    .dataframe tbody tr th {\n        vertical-align: top;\n    }\n\n    .dataframe thead th {\n        text-align: right;\n    }\n</style>\n<table border=\"1\" class=\"dataframe\">\n  <thead>\n    <tr style=\"text-align: right;\">\n      <th></th>\n      <th>1_month_return</th>\n      <th>6_month_return</th>\n      <th>12_month_return</th>\n    </tr>\n  </thead>\n  <tbody>\n    <tr>\n      <th>count</th>\n      <td>9500.000000</td>\n      <td>9500.000000</td>\n      <td>9500.000000</td>\n    </tr>\n    <tr>\n      <th>mean</th>\n      <td>0.006440</td>\n      <td>0.048104</td>\n      <td>0.089217</td>\n    </tr>\n    <tr>\n      <th>std</th>\n      <td>0.124710</td>\n      <td>0.407877</td>\n      <td>0.556537</td>\n    </tr>\n    <tr>\n      <th>min</th>\n      <td>-0.906412</td>\n      <td>-0.946269</td>\n      <td>-0.974157</td>\n    </tr>\n    <tr>\n      <th>25%</th>\n      <td>-0.040900</td>\n      <td>-0.101011</td>\n      <td>-0.144075</td>\n    </tr>\n    <tr>\n      <th>50%</th>\n      <td>0.004700</td>\n      <td>0.023505</td>\n      <td>0.038845</td>\n    </tr>\n    <tr>\n      <th>75%</th>\n      <td>0.047281</td>\n      <td>0.138902</td>\n      <td>0.216374</td>\n    </tr>\n    <tr>\n      <th>max</th>\n      <td>1.828125</td>\n      <td>14.736842</td>\n      <td>13.109024</td>\n    </tr>\n  </tbody>\n</table>\n</div>"
     },
     "execution_count": 18,
     "metadata": {},
     "output_type": "execute_result"
    }
   ],
   "source": [
    "observations[[\"1_month_return\", \"6_month_return\", \"12_month_return\"]].describe()"
   ],
   "metadata": {
    "collapsed": false,
    "pycharm": {
     "name": "#%%\n"
    }
   }
  },
  {
   "cell_type": "markdown",
   "source": [
    "From this overview, it appears that there are some extreme returns. For instance 921% returns in the 1 month returns, 515% returns in the 6 month returns, and 2071% returns in the 12 month returns. These outliers could make the trained model less generalizable. To prevent this, returns will be limited to 300% returns. This still corresponds to a 4X return over the period, which is highly unlikely but within reasonable bounds."
   ],
   "metadata": {
    "collapsed": false,
    "pycharm": {
     "name": "#%% md\n"
    }
   }
  },
  {
   "cell_type": "code",
   "execution_count": 19,
   "outputs": [],
   "source": [
    "observations = observations[\n",
    "    (observations[\"1_month_return\"] <= 3) &\n",
    "    (observations[\"6_month_return\"] <= 3) &\n",
    "    (observations[\"12_month_return\"] <= 3)\n",
    "].copy()"
   ],
   "metadata": {
    "collapsed": false,
    "pycharm": {
     "name": "#%%\n"
    }
   }
  },
  {
   "cell_type": "code",
   "execution_count": 20,
   "outputs": [
    {
     "data": {
      "text/plain": "9444"
     },
     "execution_count": 20,
     "metadata": {},
     "output_type": "execute_result"
    }
   ],
   "source": [
    "len(observations.index)"
   ],
   "metadata": {
    "collapsed": false,
    "pycharm": {
     "name": "#%%\n"
    }
   }
  },
  {
   "cell_type": "markdown",
   "source": [
    "From the original dataset of 9994 observations, 51 were removed leaving us with a dataset of 9943 observations."
   ],
   "metadata": {
    "collapsed": false,
    "pycharm": {
     "name": "#%% md\n"
    }
   }
  },
  {
   "cell_type": "markdown",
   "source": [
    "## Volatility"
   ],
   "metadata": {
    "collapsed": false,
    "pycharm": {
     "name": "#%% md\n"
    }
   }
  },
  {
   "cell_type": "code",
   "execution_count": 21,
   "outputs": [
    {
     "data": {
      "text/plain": "       1_month_volatility  6_month_volatility  12_month_volatility\ncount         9444.000000         9444.000000          9444.000000\nmean             0.023440            0.024955             0.025811\nstd              0.028699            0.026651             0.029816\nmin              0.000000            0.000298             0.000318\n25%              0.010355            0.011837             0.012269\n50%              0.017378            0.019314             0.020085\n75%              0.028794            0.031320             0.031969\nmax              1.324795            0.826326             1.151072",
      "text/html": "<div>\n<style scoped>\n    .dataframe tbody tr th:only-of-type {\n        vertical-align: middle;\n    }\n\n    .dataframe tbody tr th {\n        vertical-align: top;\n    }\n\n    .dataframe thead th {\n        text-align: right;\n    }\n</style>\n<table border=\"1\" class=\"dataframe\">\n  <thead>\n    <tr style=\"text-align: right;\">\n      <th></th>\n      <th>1_month_volatility</th>\n      <th>6_month_volatility</th>\n      <th>12_month_volatility</th>\n    </tr>\n  </thead>\n  <tbody>\n    <tr>\n      <th>count</th>\n      <td>9444.000000</td>\n      <td>9444.000000</td>\n      <td>9444.000000</td>\n    </tr>\n    <tr>\n      <th>mean</th>\n      <td>0.023440</td>\n      <td>0.024955</td>\n      <td>0.025811</td>\n    </tr>\n    <tr>\n      <th>std</th>\n      <td>0.028699</td>\n      <td>0.026651</td>\n      <td>0.029816</td>\n    </tr>\n    <tr>\n      <th>min</th>\n      <td>0.000000</td>\n      <td>0.000298</td>\n      <td>0.000318</td>\n    </tr>\n    <tr>\n      <th>25%</th>\n      <td>0.010355</td>\n      <td>0.011837</td>\n      <td>0.012269</td>\n    </tr>\n    <tr>\n      <th>50%</th>\n      <td>0.017378</td>\n      <td>0.019314</td>\n      <td>0.020085</td>\n    </tr>\n    <tr>\n      <th>75%</th>\n      <td>0.028794</td>\n      <td>0.031320</td>\n      <td>0.031969</td>\n    </tr>\n    <tr>\n      <th>max</th>\n      <td>1.324795</td>\n      <td>0.826326</td>\n      <td>1.151072</td>\n    </tr>\n  </tbody>\n</table>\n</div>"
     },
     "execution_count": 21,
     "metadata": {},
     "output_type": "execute_result"
    }
   ],
   "source": [
    "# 1 month volatility\n",
    "observations[[\"1_month_volatility\", \"6_month_volatility\", \"12_month_volatility\"]].describe()"
   ],
   "metadata": {
    "collapsed": false,
    "pycharm": {
     "name": "#%%\n"
    }
   }
  },
  {
   "cell_type": "markdown",
   "source": [
    "Similar to returns, there are some extremely high volatilities, expecially in the 6 and 12 month features. However, these are limited to very few observations and correspond to the remaining observations with very large returns. They are considered acceptable and will not be removed from the dataset."
   ],
   "metadata": {
    "collapsed": false,
    "pycharm": {
     "name": "#%% md\n"
    }
   }
  },
  {
   "cell_type": "markdown",
   "source": [
    "# Set-up train/validation/test sets\n",
    "\n",
    "Now the datasets will be split into 50% training, 25% validation, and 25% test sets"
   ],
   "metadata": {
    "collapsed": false,
    "pycharm": {
     "name": "#%% md\n"
    }
   }
  },
  {
   "cell_type": "code",
   "execution_count": 22,
   "outputs": [],
   "source": [
    "from sklearn.model_selection import train_test_split\n",
    "import os\n",
    "\n",
    "observations.drop(\n",
    "    columns=[\"asset_file\", \"date\"], # these features will not be taken into account during model training/testing\n",
    "    inplace=True\n",
    ")\n",
    "\n",
    "train, temp = train_test_split(observations, test_size=0.5)\n",
    "val, test = train_test_split(temp, test_size=0.5)\n",
    "\n",
    "# Create directory\n",
    "if not os.path.isdir(\"ModelData\"):\n",
    "    os.makedirs(\"ModelData\")\n",
    "\n",
    "train.to_csv(\"ModelData/obs_train.csv\", index=False)\n",
    "val.to_csv(\"ModelData/obs_val.csv\", index=False)\n",
    "test.to_csv(\"ModelData/obs_test.csv\", index=False)"
   ],
   "metadata": {
    "collapsed": false,
    "pycharm": {
     "name": "#%%\n"
    }
   }
  }
 ],
 "metadata": {
  "kernelspec": {
   "display_name": "Python 3",
   "language": "python",
   "name": "python3"
  },
  "language_info": {
   "codemirror_mode": {
    "name": "ipython",
    "version": 2
   },
   "file_extension": ".py",
   "mimetype": "text/x-python",
   "name": "python",
   "nbconvert_exporter": "python",
   "pygments_lexer": "ipython2",
   "version": "2.7.6"
  }
 },
 "nbformat": 4,
 "nbformat_minor": 0
}