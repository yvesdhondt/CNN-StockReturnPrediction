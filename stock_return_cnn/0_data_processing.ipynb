{
 "cells": [
  {
   "cell_type": "markdown",
   "source": [
    "# Intro\n",
    "\n",
    "Before training a model, the raw data for this project needs to be processed. This step assumes that the `/Data` folder is already populated with the data. The data can be found here and is released under CC0: https://www.kaggle.com/datasets/borismarjanovic/price-volume-data-for-all-us-stocks-etfs\n",
    "\n",
    "After downloading the data, you should make sure that the /Data folder contains the following two subfolders: `Data/ETFs` and `Data/Stocks`\n",
    "\n",
    "Remember that the goal of this project is to classify future stock returns based on their past return charts. Therefore the data needs to be transformed so that it can fulfill this goal."
   ],
   "metadata": {
    "collapsed": false,
    "pycharm": {
     "name": "#%% md\n"
    }
   }
  },
  {
   "cell_type": "markdown",
   "source": [
    "# Transform the data\n",
    "\n",
    "The raw data is not suitable for the purposes of this project. Instead the data needs to be transformed into summary statistics (historical returns, standard deviations ...) and stock chart images. The data will be transformed to the following format:\n",
    "\n",
    "- A dataframe where each row corresponds to a single observation. This dataframe contains the following columns:\n",
    "\n",
    "    - `date`: the start date of the observation\n",
    "    - `asset_file`: the path of the file from which this observation was created\n",
    "    - `stock`: a boolean indicator that is 1 if this observation comes from a stock or 0 if it comes from an ETF\n",
    "    - `1_month_return`: the return of the asset in the previous calendar month (lagged by one day to omit look-ahead bias)\n",
    "    - `6_month_return`: the return of the asset in the previous 6 calendar months (lagged by one day to omit look-ahead bias)\n",
    "    - `12_month_return`: the return of the asset in the previous 12 calendar months (lagged by one day to omit look-ahead bias)\n",
    "    - `1_month_volatility`: the (daily) volatility of the asset in the previous calendar month (lagged by one day to omit look-ahead bias)\n",
    "    - `6_month_volatility`: the (daily) volatility of the asset in the previous 6 calendar months (lagged by one day to omit look-ahead bias)\n",
    "    - `12_month_volatility`: the (daily) volatility of the asset in the previous 12 calendar months (lagged by one day to omit look-ahead bias)\n",
    "    - `1_month_img`: the name of the .png file containing a GADF chart of the asset price in the previous calendar month (lagged by one day to omit look-ahead bias)\n",
    "    - `6_month_img`: the name of the .png file containing a GADF chart of the asset price in the previous 6 calendar months (lagged by one day to omit look-ahead bias)\n",
    "    - `12_month_img`: the name of the .png file containing a GADF chart of the asset price in the previous 12 calendar months (lagged by one day to omit look-ahead bias)\n",
    "    - `1_month_img_bar`: the name of the .png file containing an area chart of the asset price in the previous calendar month (lagged by one day to omit look-ahead bias)\n",
    "    - `6_month_img_bar`: the name of the .png file containing an area chart of the asset price in the previous 6 calendar months (lagged by one day to omit look-ahead bias)\n",
    "    - `12_month_img_bar`: the name of the .png file containing an area chart of the asset price in the previous 12 calendar months (lagged by one day to omit look-ahead bias)\n",
    "    - `label_1m`: the classification target. This can be 0 (next-month returns < 2%), 1 (next-month returns >= -2% and <= 2%), or 2 (next-month returns > 2%)\n",
    "    - `1m_return`: the return over the next 1 month (used for baseline regression model)\n",
    "\n",
    "- Next to this dataframe, a folder `/Charts` needs to be created that contains all the images referenced in this dataframe."
   ],
   "metadata": {
    "collapsed": false,
    "pycharm": {
     "name": "#%% md\n"
    }
   }
  },
  {
   "cell_type": "markdown",
   "metadata": {
    "collapsed": true,
    "pycharm": {
     "name": "#%% md\n"
    }
   },
   "source": [
    "# Supporting functions\n",
    "\n",
    "A number of functions will be set up that will calculate all the features for a single stock at a single point in time. This function can then be applied many times to construct the test, train, & validation data sets."
   ]
  },
  {
   "cell_type": "code",
   "execution_count": 1,
   "outputs": [],
   "source": [
    "import os.path\n",
    "\n",
    "import pandas as pd\n",
    "from pandas.errors import EmptyDataError\n",
    "from os import listdir\n",
    "from os.path import isfile, join\n",
    "import random as rand\n",
    "from datetime import timedelta\n",
    "\n",
    "import pprint as pp # used during code writing, not necessary\n",
    "\n",
    "import matplotlib.pyplot as plt # used to create the images\n",
    "\n",
    "import gc # garbage collector to save on memory\n",
    "\n",
    "from pyts.image import GramianAngularField\n",
    "\n",
    "import numpy as np"
   ],
   "metadata": {
    "collapsed": false,
    "pycharm": {
     "name": "#%%\n"
    }
   }
  },
  {
   "cell_type": "code",
   "source": [
    "def read_asset_prices(file_path):\n",
    "    \"\"\"\n",
    "    Read the asset prices from the given path\n",
    "    :param file_path: a string containing the path to a csv file with the asset prices\n",
    "    :return: a pandas dataframe with the asset prices for the given asset\n",
    "    \"\"\"\n",
    "    return pd.read_csv(file_path, delimiter=\",\")"
   ],
   "metadata": {
    "collapsed": false,
    "pycharm": {
     "name": "#%%\n"
    }
   },
   "execution_count": 2,
   "outputs": []
  },
  {
   "cell_type": "code",
   "execution_count": 3,
   "outputs": [],
   "source": [
    "def get_all_assets():\n",
    "    \"\"\"\n",
    "    Get a list of all the asset price file paths\n",
    "    :return: a list of all the asset price file paths\n",
    "    \"\"\"\n",
    "    stocks = [join(\"Data/Stocks\", f) for f in listdir(\"Data/Stocks\") if isfile(join(\"Data/Stocks\", f))]\n",
    "    etfs = [join(\"Data/ETFs\", f) for f in listdir(\"Data/ETFs\") if isfile(join(\"Data/ETFs\", f))]\n",
    "\n",
    "    return stocks + etfs"
   ],
   "metadata": {
    "collapsed": false,
    "pycharm": {
     "name": "#%%\n"
    }
   }
  },
  {
   "cell_type": "code",
   "execution_count": 4,
   "outputs": [],
   "source": [
    "def pick_random_asset(asset_list):\n",
    "    \"\"\"\n",
    "    Pick a random asset from the given list\n",
    "    :param asset_list: a list of asset price file paths\n",
    "    :return: a random entry from the given list\n",
    "    \"\"\"\n",
    "\n",
    "    return rand.choice(asset_list)"
   ],
   "metadata": {
    "collapsed": false,
    "pycharm": {
     "name": "#%%\n"
    }
   }
  },
  {
   "cell_type": "code",
   "execution_count": 5,
   "outputs": [],
   "source": [
    "def calculate_return(asset_prices, start_date, ndays):\n",
    "    \"\"\"\n",
    "    Calculate the 1-day lagged return from ndays ago up until the start date for\n",
    "    the given asset prices. Returns are calculated on closing prices.\n",
    "    :param asset_prices: the asset prices to calculate returns from\n",
    "    :param start_date: the date at which the return is calculated\n",
    "    :param ndays: the number of days to look back\n",
    "    :return: the return over the given period for the given asset\n",
    "    \"\"\"\n",
    "    ndays_price = asset_prices.Close[\n",
    "        asset_prices.Date == asset_prices.Date[asset_prices.Date <= start_date - timedelta(days=ndays)].max()\n",
    "    ].iloc[0]\n",
    "\n",
    "    lagged_price = asset_prices.Close[\n",
    "        asset_prices.Date == asset_prices.Date[asset_prices.Date <= start_date - timedelta(days=1)].max()\n",
    "    ].iloc[0]\n",
    "\n",
    "    return lagged_price / ndays_price - 1"
   ],
   "metadata": {
    "collapsed": false,
    "pycharm": {
     "name": "#%%\n"
    }
   }
  },
  {
   "cell_type": "code",
   "execution_count": 6,
   "outputs": [],
   "source": [
    "def calculate_std(asset_prices, start_date, ndays):\n",
    "    \"\"\"\n",
    "    Calculate the 1-day lagged volatility from ndays ago up until the start date for\n",
    "    the given asset prices. Volatility is calculated on daily returns.\n",
    "    :param asset_prices: the asset prices to calculate returns from\n",
    "    :param start_date: the date at which the return is calculated\n",
    "    :param ndays: the number of days to look back\n",
    "    :return: the volatility over the given period for the given asset\n",
    "    \"\"\"\n",
    "    temp = asset_prices[\n",
    "        (asset_prices.Date <= start_date - timedelta(days=1)) &\n",
    "        (asset_prices.Date >= start_date - timedelta(days=ndays))\n",
    "    ].copy()\n",
    "\n",
    "    temp = temp.sort_values(by=\"Date\", ascending=True)\n",
    "    temp[\"daily_ret\"] = temp.Close / temp.Close.shift(1)\n",
    "    temp.dropna(inplace=True)\n",
    "\n",
    "    return temp.daily_ret.std()"
   ],
   "metadata": {
    "collapsed": false,
    "pycharm": {
     "name": "#%%\n"
    }
   }
  },
  {
   "cell_type": "code",
   "execution_count": 7,
   "outputs": [],
   "source": [
    "def calculate_next_month_return(asset_prices, start_date):\n",
    "    \"\"\"\n",
    "    Calculate the return for the next month.\n",
    "\n",
    "    :param asset_prices: the asset prices to calculate returns from\n",
    "    :param start_date: the date at which the return is calculated\n",
    "\n",
    "    :return: the return over the next month for the given asset\n",
    "    \"\"\"\n",
    "    next_month_price = asset_prices.Close[\n",
    "        asset_prices.Date == asset_prices.Date[asset_prices.Date <= start_date + timedelta(days=31)].max()\n",
    "    ].iloc[0]\n",
    "\n",
    "    current_price = asset_prices.Close[\n",
    "        asset_prices.Date == start_date\n",
    "    ].iloc[0]\n",
    "\n",
    "    return next_month_price / current_price - 1"
   ],
   "metadata": {
    "collapsed": false,
    "pycharm": {
     "name": "#%%\n"
    }
   }
  },
  {
   "cell_type": "code",
   "execution_count": 8,
   "outputs": [],
   "source": [
    "def calculate_next_quarter_return(asset_prices, start_date):\n",
    "    \"\"\"\n",
    "    Calculate the return for the next quarter.\n",
    "\n",
    "    :param asset_prices: the asset prices to calculate returns from\n",
    "    :param start_date: the date at which the return is calculated\n",
    "\n",
    "    :return: the return over the next quarter for the given asset\n",
    "    \"\"\"\n",
    "    next_month_price = asset_prices.Close[\n",
    "        asset_prices.Date == asset_prices.Date[asset_prices.Date <= start_date + timedelta(days=90)].max()\n",
    "    ].iloc[0]\n",
    "\n",
    "    current_price = asset_prices.Close[\n",
    "        asset_prices.Date == start_date\n",
    "    ].iloc[0]\n",
    "\n",
    "    return next_month_price / current_price - 1"
   ],
   "metadata": {
    "collapsed": false,
    "pycharm": {
     "name": "#%%\n"
    }
   }
  },
  {
   "cell_type": "code",
   "execution_count": 9,
   "outputs": [],
   "source": [
    "def calculate_label(ret):\n",
    "    \"\"\"\n",
    "    Calculate the classification label\n",
    "    :param ret: the return to base the calculation on\n",
    "    :return: 0 if ret < -0.01, 1 if 0.01 >= ret >= -0.01, 2 if ret > 0.01\n",
    "    \"\"\"\n",
    "    if ret < -0.01:\n",
    "        return 0\n",
    "    elif ret <= 0.01:\n",
    "        return 1\n",
    "    else:\n",
    "        return 2"
   ],
   "metadata": {
    "collapsed": false,
    "pycharm": {
     "name": "#%%\n"
    }
   }
  },
  {
   "cell_type": "code",
   "execution_count": 10,
   "outputs": [],
   "source": [
    "def plot_prices(asset_prices, start_date, ndays, img_path):\n",
    "    \"\"\"\n",
    "    Plot the closing prices from ndays ago up until the start date for\n",
    "    the given asset prices on a Gramian Angular Field (2D representation\n",
    "    of time series).\n",
    "\n",
    "    :param asset_prices: the asset prices to plot\n",
    "    :param start_date: the date at which the plot ends\n",
    "    :param ndays: the number of days to look back\n",
    "    :param img_path: the path to save the image to\n",
    "    :return: the location of the created image\n",
    "    \"\"\"\n",
    "    temp = asset_prices[\n",
    "        (asset_prices.Date <= start_date - timedelta(days=1)) &\n",
    "        (asset_prices.Date >= start_date - timedelta(days=ndays + 6))\n",
    "        ].copy()\n",
    "\n",
    "    temp = temp.sort_values(by=\"Date\", ascending=True)\n",
    "    # Smoothen the prices by taking the average of the past 6 days (including the day itself)\n",
    "    # This way, daily random walks of the market are smoothened out more\n",
    "    temp.Close = (temp.Close + temp.Close.shift(1) + temp.Close.shift(2) + temp.Close.shift(3) + temp.Close.shift(4) + temp.Close.shift(5)) / 6\n",
    "    temp.dropna(inplace=True)\n",
    "\n",
    "    temp = asset_prices[\n",
    "        (asset_prices.Date <= start_date - timedelta(days=1)) &\n",
    "        (asset_prices.Date >= start_date - timedelta(days=ndays))\n",
    "        ].copy()\n",
    "\n",
    "    temp.reset_index(drop=True, inplace=True)\n",
    "\n",
    "    # Normalize price data on first day\n",
    "    temp.Close /= temp.Close.iloc[0]\n",
    "\n",
    "    data = temp.Close.array.reshape(1, -1) # Reshape to plot on summation field\n",
    "\n",
    "    # get the Gramian Angular Field (auto-scales input data to -1, 1)\n",
    "    gaf = GramianAngularField(method=\"difference\") # The difference field shows directionality in the time series, while the summation field does not\n",
    "    x_gaf = gaf.fit_transform(data)\n",
    "    fig = plt.figure(figsize=(1, 1), dpi=30)\n",
    "    plt.imshow(x_gaf[0], cmap='brg', origin='lower', vmin=-1., vmax=1.) # Choose BRG colormap so the three main color channels are represented\n",
    "    plt.axis(\"off\") # turn the axes off\n",
    "\n",
    "    plt.savefig(img_path)\n",
    "\n",
    "    plt.close(fig) # avoid displaying image\n",
    "    plt.close(\"all\")\n",
    "    fig.clf() # remove from memory\n",
    "    plt.clf() # clear memory\n",
    "\n",
    "    return img_path"
   ],
   "metadata": {
    "collapsed": false,
    "pycharm": {
     "name": "#%%\n"
    }
   }
  },
  {
   "cell_type": "code",
   "execution_count": 11,
   "outputs": [],
   "source": [
    "def plot_prices_area(asset_prices, start_date, ndays, img_path):\n",
    "    \"\"\"\n",
    "    Plot the closing prices from ndays ago up until the start date for\n",
    "    the given asset prices on an area plot\n",
    "\n",
    "    :param asset_prices: the asset prices to plot\n",
    "    :param start_date: the date at which the plot ends\n",
    "    :param ndays: the number of days to look back\n",
    "    :param img_path: the path to save the image to\n",
    "    :return: the location of the created image\n",
    "    \"\"\"\n",
    "    temp = asset_prices[\n",
    "        (asset_prices.Date <= start_date - timedelta(days=1)) &\n",
    "        (asset_prices.Date >= start_date - timedelta(days=ndays + 6))\n",
    "        ].copy()\n",
    "\n",
    "    temp = temp.sort_values(by=\"Date\", ascending=True)\n",
    "    # Smoothen the prices by taking the average of the past 6 days (including the day itself)\n",
    "    # This way, daily random walks of the market are smoothened out more\n",
    "    temp.Close = (temp.Close + temp.Close.shift(1) + temp.Close.shift(2) + temp.Close.shift(3) + temp.Close.shift(4) + temp.Close.shift(5)) / 6\n",
    "    temp.dropna(inplace=True)\n",
    "\n",
    "    temp = asset_prices[\n",
    "        (asset_prices.Date <= start_date - timedelta(days=1)) &\n",
    "        (asset_prices.Date >= start_date - timedelta(days=ndays))\n",
    "        ].copy()\n",
    "\n",
    "    temp.reset_index(drop=True, inplace=True)\n",
    "\n",
    "    # Normalize price data on first day\n",
    "    temp.Close /= temp.Close.iloc[0]\n",
    "\n",
    "    fig = plt.figure(figsize=(1, 1), dpi=30)\n",
    "\n",
    "    plt.fill_between(temp.Date, temp.Close, ec=\"black\", fc=\"black\")\n",
    "\n",
    "    plt.ylim(0.45, 2.05)\n",
    "\n",
    "    plt.axis(\"off\") # turn the axes off\n",
    "\n",
    "    plt.savefig(img_path)\n",
    "\n",
    "    plt.close(fig) # avoid displaying image\n",
    "    plt.close(\"all\")\n",
    "    fig.clf() # remove from memory\n",
    "    plt.clf() # clear memory\n",
    "\n",
    "    return img_path"
   ],
   "metadata": {
    "collapsed": false,
    "pycharm": {
     "name": "#%%\n"
    }
   }
  },
  {
   "cell_type": "code",
   "execution_count": 12,
   "outputs": [],
   "source": [
    "def construct_rand_observation(asset_list, img_prefix=\"\"):\n",
    "    \"\"\"\n",
    "    Create a single random observation\n",
    "    :param asset_list: list of potential asset files to choose from\n",
    "    :param img_prefix: a prefix for the name of the created images\n",
    "    :return: a random observation built from the asset list\n",
    "    \"\"\"\n",
    "\n",
    "    # Pick a random asset\n",
    "    asset_file = pick_random_asset(asset_list)\n",
    "\n",
    "    try:\n",
    "        asset_prices = read_asset_prices(asset_file)\n",
    "    except EmptyDataError:\n",
    "        return {} # Return an empty observation if the given file was empty\n",
    "\n",
    "    try:\n",
    "        # Choose an appropriate time for the observation\n",
    "        asset_prices.Date = pd.to_datetime(asset_prices.Date)\n",
    "\n",
    "        # We need data up to 1 year ago so the chosen data has to be at least\n",
    "        # 1 year from the minimum date for this asset (+ 1 day for the time lag).\n",
    "        # We also need at leas one month of data for the future returns for the\n",
    "        # classification\n",
    "        min_date = asset_prices.Date.min() + timedelta(days=365 + 1)\n",
    "        max_date = asset_prices.Date.max() - timedelta(days=90)\n",
    "\n",
    "        # Choose a start date for the observation\n",
    "        start_date = rand.choice(\n",
    "            asset_prices.Date[\n",
    "                (asset_prices.Date >= min_date) &\n",
    "                (asset_prices.Date < max_date)\n",
    "            ]\n",
    "        )\n",
    "    except IndexError:\n",
    "        # If the date selection failed because of an index error, the asset cannot\n",
    "        # be used so we just return an empty dictionary\n",
    "        return {}\n",
    "    except KeyError:\n",
    "        # If the date selection failed because of an index error, the asset cannot\n",
    "        # be used so we just return an empty dictionary\n",
    "        return {}\n",
    "\n",
    "    try:\n",
    "        observation = {\n",
    "            \"asset_file\": asset_file,\n",
    "            \"date\": start_date,\n",
    "            \"stock\": 1 if \"Stocks\" in asset_file else 0,\n",
    "            \"1_month_return\": calculate_return(asset_prices, start_date, ndays=30),\n",
    "            \"6_month_return\": calculate_return(asset_prices, start_date, ndays=180),\n",
    "            \"12_month_return\": calculate_return(asset_prices, start_date, ndays=365),\n",
    "            \"1_month_volatility\": calculate_std(asset_prices, start_date, ndays=30),\n",
    "            \"6_month_volatility\": calculate_std(asset_prices, start_date, ndays=180),\n",
    "            \"12_month_volatility\": calculate_std(asset_prices, start_date, ndays=365),\n",
    "            \"1_month_img\": plot_prices(asset_prices, start_date, ndays=30, img_path=img_prefix + \"_\" + \"1_month.PNG\"),\n",
    "            \"6_month_img\": plot_prices(asset_prices, start_date, ndays=180, img_path=img_prefix + \"_\" + \"6_month.PNG\"),\n",
    "            \"12_month_img\": plot_prices(asset_prices, start_date, ndays=365, img_path=img_prefix + \"_\" + \"12_month.PNG\"),\n",
    "            \"1_month_img_bar\": plot_prices_area(asset_prices, start_date, ndays=30, img_path=img_prefix + \"_bar_\" + \"1_month.PNG\"),\n",
    "            \"6_month_img_bar\": plot_prices_area(asset_prices, start_date, ndays=180, img_path=img_prefix + \"_bar_\" + \"6_month.PNG\"),\n",
    "            \"12_month_img_bar\": plot_prices_area(asset_prices, start_date, ndays=365, img_path=img_prefix + \"_bar_\" + \"12_month.PNG\"),\n",
    "            \"label_1m\": calculate_label(calculate_next_month_return(asset_prices, start_date)),\n",
    "            \"1m_return\": calculate_next_month_return(asset_prices, start_date)\n",
    "        }\n",
    "    except IndexError:\n",
    "        # If one of the time series did not have enough data to calculate the 1 month image this can occur\n",
    "        return {}\n",
    "\n",
    "    return observation"
   ],
   "metadata": {
    "collapsed": false,
    "pycharm": {
     "name": "#%%\n"
    }
   }
  },
  {
   "cell_type": "code",
   "execution_count": 13,
   "outputs": [],
   "source": [
    "def read_batches(path):\n",
    "    \"\"\"\n",
    "    Read the batches stored in the path and group them\n",
    "    :param path: the path with batches\n",
    "    :return: a pandas dataframe with the grouped and de-duplicated batches\n",
    "    \"\"\"\n",
    "    # Regroup batches\n",
    "    batches = [pd.read_csv(join(path, f)) for f in listdir(path)]\n",
    "\n",
    "    # After creating the random observations, potential duplicates (although unlikely) need to be dropped\n",
    "    observations = pd.concat(batches)\n",
    "    observations.drop_duplicates(subset=[\"date\", \"asset_file\"])\n",
    "\n",
    "    return observations"
   ],
   "metadata": {
    "collapsed": false,
    "pycharm": {
     "name": "#%%\n"
    }
   }
  },
  {
   "cell_type": "code",
   "execution_count": 14,
   "outputs": [],
   "source": [
    "def construct_many_rand_observations(n=10, start_from=0):\n",
    "    \"\"\"\n",
    "    Create many different observations\n",
    "\n",
    "    :param n: the number of observations to create\n",
    "    :param start_from: the number of observations to start from (in case the script failed due to a memory error)\n",
    "    :return: a dataframe with the newly created observations (and accompanying image files in a /Charts folder)\n",
    "    \"\"\"\n",
    "\n",
    "    asset_list = get_all_assets()\n",
    "\n",
    "    # Create necessary directories\n",
    "    if not os.path.isdir(\"Charts\"):\n",
    "        os.makedirs(\"Charts\")\n",
    "    if not os.path.isdir(\"DataBatches\"):\n",
    "        os.makedirs(\"DataBatches\")\n",
    "\n",
    "    record_collector = [] # collect observations\n",
    "\n",
    "    # Generate random observations\n",
    "    for i in range(start_from, start_from + n):\n",
    "\n",
    "        # For memory reasons the pre-processing happens in batches of 1000\n",
    "        if i % 500 == 0 and i != start_from:\n",
    "            # Store the observations created so far\n",
    "            observations = pd.DataFrame.from_records(record_collector)\n",
    "            batch_identifier = \"DataBatches/\" + \"rand_observations_\" + str(i) + \".csv\"\n",
    "            observations.to_csv(batch_identifier, index=False)\n",
    "\n",
    "            record_collector = [] # clear the record collector\n",
    "\n",
    "            gc.collect() # run the garbage collector every 1000 observations\n",
    "\n",
    "        # Construct a random observation & save it\n",
    "        obs = {}\n",
    "        while len(obs) == 0: # create random observations until one of them is not empty\n",
    "            obs = construct_rand_observation(asset_list, \"Charts/img_\" + str(i))\n",
    "\n",
    "        record_collector.append(obs)\n",
    "\n",
    "    # Store the final observations if they weren't stored before\n",
    "    if (start_from + n-1) % 500 != 0:\n",
    "        observations = pd.DataFrame.from_records(record_collector)\n",
    "        batch_identifier = \"DataBatches/\" + \"rand_observations_\" + str(start_from + n-1) + \".csv\"\n",
    "        observations.to_csv(batch_identifier, index=False)\n",
    "\n",
    "        record_collector = None # clear the record collector\n",
    "\n",
    "        gc.collect() # run the garbage collector\n",
    "\n",
    "    # Regroup batches\n",
    "    return read_batches(\"DataBatches\")"
   ],
   "metadata": {
    "collapsed": false,
    "pycharm": {
     "name": "#%%\n"
    }
   }
  },
  {
   "cell_type": "code",
   "execution_count": 15,
   "outputs": [
    {
     "data": {
      "text/plain": "                   asset_file        date  stock  1_month_return  \\\n0      Data/Stocks\\ncr.us.txt  2004-04-05      1        0.000439   \n1     Data/Stocks\\chfn.us.txt  2013-05-31      1       -0.001997   \n2     Data/Stocks\\tmst.us.txt  2016-01-05      1       -0.151767   \n3      Data/Stocks\\gjp.us.txt  2012-08-16      1       -0.053945   \n4    Data/Stocks\\hvt-a.us.txt  2011-09-27      1       -0.104041   \n..                        ...         ...    ...             ...   \n495    Data/Stocks\\tnp.us.txt  2015-08-05      1       -0.025786   \n496    Data/Stocks\\srv.us.txt  2012-04-25      1       -0.086736   \n497      Data/ETFs\\ddm.us.txt  2013-04-16      0        0.011379   \n498   Data/Stocks\\sptn.us.txt  2015-11-30      1       -0.180311   \n499  Data/Stocks\\sce_g.us.txt  2014-04-11      1        0.010147   \n\n     6_month_return  12_month_return  1_month_volatility  6_month_volatility  \\\n0          0.317341         1.388889            0.017516            0.016031   \n1          0.284303         0.399270            0.004603            0.009990   \n2         -0.657503        -0.770941            0.054340            0.050027   \n3         -0.075769         0.000470            0.015497            0.013264   \n4         -0.224486        -0.056672            0.040486            0.039216   \n..              ...              ...                 ...                 ...   \n495        0.298581         0.456090            0.025101            0.021265   \n496        0.034882        -0.019129            0.010973            0.011807   \n497        0.175601         0.308548            0.013038            0.013851   \n498       -0.284739        -0.001140            0.035719            0.021547   \n499        0.116463        -0.111869            0.004651            0.006416   \n\n     12_month_volatility                 1_month_img  \\\n0               0.023119  Charts/img_500_1_month.PNG   \n1               0.017845  Charts/img_501_1_month.PNG   \n2               0.039493  Charts/img_502_1_month.PNG   \n3               0.016023  Charts/img_503_1_month.PNG   \n4               0.033105  Charts/img_504_1_month.PNG   \n..                   ...                         ...   \n495             0.026575  Charts/img_495_1_month.PNG   \n496             0.020147  Charts/img_496_1_month.PNG   \n497             0.014707  Charts/img_497_1_month.PNG   \n498             0.018126  Charts/img_498_1_month.PNG   \n499             0.010767  Charts/img_499_1_month.PNG   \n\n                    6_month_img                 12_month_img  \\\n0    Charts/img_500_6_month.PNG  Charts/img_500_12_month.PNG   \n1    Charts/img_501_6_month.PNG  Charts/img_501_12_month.PNG   \n2    Charts/img_502_6_month.PNG  Charts/img_502_12_month.PNG   \n3    Charts/img_503_6_month.PNG  Charts/img_503_12_month.PNG   \n4    Charts/img_504_6_month.PNG  Charts/img_504_12_month.PNG   \n..                          ...                          ...   \n495  Charts/img_495_6_month.PNG  Charts/img_495_12_month.PNG   \n496  Charts/img_496_6_month.PNG  Charts/img_496_12_month.PNG   \n497  Charts/img_497_6_month.PNG  Charts/img_497_12_month.PNG   \n498  Charts/img_498_6_month.PNG  Charts/img_498_12_month.PNG   \n499  Charts/img_499_6_month.PNG  Charts/img_499_12_month.PNG   \n\n                    1_month_img_bar                 6_month_img_bar  \\\n0    Charts/img_500_bar_1_month.PNG  Charts/img_500_bar_6_month.PNG   \n1    Charts/img_501_bar_1_month.PNG  Charts/img_501_bar_6_month.PNG   \n2    Charts/img_502_bar_1_month.PNG  Charts/img_502_bar_6_month.PNG   \n3    Charts/img_503_bar_1_month.PNG  Charts/img_503_bar_6_month.PNG   \n4    Charts/img_504_bar_1_month.PNG  Charts/img_504_bar_6_month.PNG   \n..                              ...                             ...   \n495  Charts/img_495_bar_1_month.PNG  Charts/img_495_bar_6_month.PNG   \n496  Charts/img_496_bar_1_month.PNG  Charts/img_496_bar_6_month.PNG   \n497  Charts/img_497_bar_1_month.PNG  Charts/img_497_bar_6_month.PNG   \n498  Charts/img_498_bar_1_month.PNG  Charts/img_498_bar_6_month.PNG   \n499  Charts/img_499_bar_1_month.PNG  Charts/img_499_bar_6_month.PNG   \n\n                    12_month_img_bar  label_1m  1m_return  \n0    Charts/img_500_bar_12_month.PNG         0  -0.013871  \n1    Charts/img_501_bar_12_month.PNG         2   0.015084  \n2    Charts/img_502_bar_12_month.PNG         0  -0.066185  \n3    Charts/img_503_bar_12_month.PNG         1   0.001246  \n4    Charts/img_504_bar_12_month.PNG         2   0.127726  \n..                               ...       ...        ...  \n495  Charts/img_495_bar_12_month.PNG         0  -0.120906  \n496  Charts/img_496_bar_12_month.PNG         0  -0.038409  \n497  Charts/img_497_bar_12_month.PNG         2   0.087341  \n498  Charts/img_498_bar_12_month.PNG         1   0.006953  \n499  Charts/img_499_bar_12_month.PNG         2   0.032715  \n\n[3000 rows x 17 columns]",
      "text/html": "<div>\n<style scoped>\n    .dataframe tbody tr th:only-of-type {\n        vertical-align: middle;\n    }\n\n    .dataframe tbody tr th {\n        vertical-align: top;\n    }\n\n    .dataframe thead th {\n        text-align: right;\n    }\n</style>\n<table border=\"1\" class=\"dataframe\">\n  <thead>\n    <tr style=\"text-align: right;\">\n      <th></th>\n      <th>asset_file</th>\n      <th>date</th>\n      <th>stock</th>\n      <th>1_month_return</th>\n      <th>6_month_return</th>\n      <th>12_month_return</th>\n      <th>1_month_volatility</th>\n      <th>6_month_volatility</th>\n      <th>12_month_volatility</th>\n      <th>1_month_img</th>\n      <th>6_month_img</th>\n      <th>12_month_img</th>\n      <th>1_month_img_bar</th>\n      <th>6_month_img_bar</th>\n      <th>12_month_img_bar</th>\n      <th>label_1m</th>\n      <th>1m_return</th>\n    </tr>\n  </thead>\n  <tbody>\n    <tr>\n      <th>0</th>\n      <td>Data/Stocks\\ncr.us.txt</td>\n      <td>2004-04-05</td>\n      <td>1</td>\n      <td>0.000439</td>\n      <td>0.317341</td>\n      <td>1.388889</td>\n      <td>0.017516</td>\n      <td>0.016031</td>\n      <td>0.023119</td>\n      <td>Charts/img_500_1_month.PNG</td>\n      <td>Charts/img_500_6_month.PNG</td>\n      <td>Charts/img_500_12_month.PNG</td>\n      <td>Charts/img_500_bar_1_month.PNG</td>\n      <td>Charts/img_500_bar_6_month.PNG</td>\n      <td>Charts/img_500_bar_12_month.PNG</td>\n      <td>0</td>\n      <td>-0.013871</td>\n    </tr>\n    <tr>\n      <th>1</th>\n      <td>Data/Stocks\\chfn.us.txt</td>\n      <td>2013-05-31</td>\n      <td>1</td>\n      <td>-0.001997</td>\n      <td>0.284303</td>\n      <td>0.399270</td>\n      <td>0.004603</td>\n      <td>0.009990</td>\n      <td>0.017845</td>\n      <td>Charts/img_501_1_month.PNG</td>\n      <td>Charts/img_501_6_month.PNG</td>\n      <td>Charts/img_501_12_month.PNG</td>\n      <td>Charts/img_501_bar_1_month.PNG</td>\n      <td>Charts/img_501_bar_6_month.PNG</td>\n      <td>Charts/img_501_bar_12_month.PNG</td>\n      <td>2</td>\n      <td>0.015084</td>\n    </tr>\n    <tr>\n      <th>2</th>\n      <td>Data/Stocks\\tmst.us.txt</td>\n      <td>2016-01-05</td>\n      <td>1</td>\n      <td>-0.151767</td>\n      <td>-0.657503</td>\n      <td>-0.770941</td>\n      <td>0.054340</td>\n      <td>0.050027</td>\n      <td>0.039493</td>\n      <td>Charts/img_502_1_month.PNG</td>\n      <td>Charts/img_502_6_month.PNG</td>\n      <td>Charts/img_502_12_month.PNG</td>\n      <td>Charts/img_502_bar_1_month.PNG</td>\n      <td>Charts/img_502_bar_6_month.PNG</td>\n      <td>Charts/img_502_bar_12_month.PNG</td>\n      <td>0</td>\n      <td>-0.066185</td>\n    </tr>\n    <tr>\n      <th>3</th>\n      <td>Data/Stocks\\gjp.us.txt</td>\n      <td>2012-08-16</td>\n      <td>1</td>\n      <td>-0.053945</td>\n      <td>-0.075769</td>\n      <td>0.000470</td>\n      <td>0.015497</td>\n      <td>0.013264</td>\n      <td>0.016023</td>\n      <td>Charts/img_503_1_month.PNG</td>\n      <td>Charts/img_503_6_month.PNG</td>\n      <td>Charts/img_503_12_month.PNG</td>\n      <td>Charts/img_503_bar_1_month.PNG</td>\n      <td>Charts/img_503_bar_6_month.PNG</td>\n      <td>Charts/img_503_bar_12_month.PNG</td>\n      <td>1</td>\n      <td>0.001246</td>\n    </tr>\n    <tr>\n      <th>4</th>\n      <td>Data/Stocks\\hvt-a.us.txt</td>\n      <td>2011-09-27</td>\n      <td>1</td>\n      <td>-0.104041</td>\n      <td>-0.224486</td>\n      <td>-0.056672</td>\n      <td>0.040486</td>\n      <td>0.039216</td>\n      <td>0.033105</td>\n      <td>Charts/img_504_1_month.PNG</td>\n      <td>Charts/img_504_6_month.PNG</td>\n      <td>Charts/img_504_12_month.PNG</td>\n      <td>Charts/img_504_bar_1_month.PNG</td>\n      <td>Charts/img_504_bar_6_month.PNG</td>\n      <td>Charts/img_504_bar_12_month.PNG</td>\n      <td>2</td>\n      <td>0.127726</td>\n    </tr>\n    <tr>\n      <th>...</th>\n      <td>...</td>\n      <td>...</td>\n      <td>...</td>\n      <td>...</td>\n      <td>...</td>\n      <td>...</td>\n      <td>...</td>\n      <td>...</td>\n      <td>...</td>\n      <td>...</td>\n      <td>...</td>\n      <td>...</td>\n      <td>...</td>\n      <td>...</td>\n      <td>...</td>\n      <td>...</td>\n      <td>...</td>\n    </tr>\n    <tr>\n      <th>495</th>\n      <td>Data/Stocks\\tnp.us.txt</td>\n      <td>2015-08-05</td>\n      <td>1</td>\n      <td>-0.025786</td>\n      <td>0.298581</td>\n      <td>0.456090</td>\n      <td>0.025101</td>\n      <td>0.021265</td>\n      <td>0.026575</td>\n      <td>Charts/img_495_1_month.PNG</td>\n      <td>Charts/img_495_6_month.PNG</td>\n      <td>Charts/img_495_12_month.PNG</td>\n      <td>Charts/img_495_bar_1_month.PNG</td>\n      <td>Charts/img_495_bar_6_month.PNG</td>\n      <td>Charts/img_495_bar_12_month.PNG</td>\n      <td>0</td>\n      <td>-0.120906</td>\n    </tr>\n    <tr>\n      <th>496</th>\n      <td>Data/Stocks\\srv.us.txt</td>\n      <td>2012-04-25</td>\n      <td>1</td>\n      <td>-0.086736</td>\n      <td>0.034882</td>\n      <td>-0.019129</td>\n      <td>0.010973</td>\n      <td>0.011807</td>\n      <td>0.020147</td>\n      <td>Charts/img_496_1_month.PNG</td>\n      <td>Charts/img_496_6_month.PNG</td>\n      <td>Charts/img_496_12_month.PNG</td>\n      <td>Charts/img_496_bar_1_month.PNG</td>\n      <td>Charts/img_496_bar_6_month.PNG</td>\n      <td>Charts/img_496_bar_12_month.PNG</td>\n      <td>0</td>\n      <td>-0.038409</td>\n    </tr>\n    <tr>\n      <th>497</th>\n      <td>Data/ETFs\\ddm.us.txt</td>\n      <td>2013-04-16</td>\n      <td>0</td>\n      <td>0.011379</td>\n      <td>0.175601</td>\n      <td>0.308548</td>\n      <td>0.013038</td>\n      <td>0.013851</td>\n      <td>0.014707</td>\n      <td>Charts/img_497_1_month.PNG</td>\n      <td>Charts/img_497_6_month.PNG</td>\n      <td>Charts/img_497_12_month.PNG</td>\n      <td>Charts/img_497_bar_1_month.PNG</td>\n      <td>Charts/img_497_bar_6_month.PNG</td>\n      <td>Charts/img_497_bar_12_month.PNG</td>\n      <td>2</td>\n      <td>0.087341</td>\n    </tr>\n    <tr>\n      <th>498</th>\n      <td>Data/Stocks\\sptn.us.txt</td>\n      <td>2015-11-30</td>\n      <td>1</td>\n      <td>-0.180311</td>\n      <td>-0.284739</td>\n      <td>-0.001140</td>\n      <td>0.035719</td>\n      <td>0.021547</td>\n      <td>0.018126</td>\n      <td>Charts/img_498_1_month.PNG</td>\n      <td>Charts/img_498_6_month.PNG</td>\n      <td>Charts/img_498_12_month.PNG</td>\n      <td>Charts/img_498_bar_1_month.PNG</td>\n      <td>Charts/img_498_bar_6_month.PNG</td>\n      <td>Charts/img_498_bar_12_month.PNG</td>\n      <td>1</td>\n      <td>0.006953</td>\n    </tr>\n    <tr>\n      <th>499</th>\n      <td>Data/Stocks\\sce_g.us.txt</td>\n      <td>2014-04-11</td>\n      <td>1</td>\n      <td>0.010147</td>\n      <td>0.116463</td>\n      <td>-0.111869</td>\n      <td>0.004651</td>\n      <td>0.006416</td>\n      <td>0.010767</td>\n      <td>Charts/img_499_1_month.PNG</td>\n      <td>Charts/img_499_6_month.PNG</td>\n      <td>Charts/img_499_12_month.PNG</td>\n      <td>Charts/img_499_bar_1_month.PNG</td>\n      <td>Charts/img_499_bar_6_month.PNG</td>\n      <td>Charts/img_499_bar_12_month.PNG</td>\n      <td>2</td>\n      <td>0.032715</td>\n    </tr>\n  </tbody>\n</table>\n<p>3000 rows × 17 columns</p>\n</div>"
     },
     "execution_count": 15,
     "metadata": {},
     "output_type": "execute_result"
    },
    {
     "data": {
      "text/plain": "<Figure size 432x288 with 0 Axes>"
     },
     "metadata": {},
     "output_type": "display_data"
    }
   ],
   "source": [
    "construct_many_rand_observations(3000)"
   ],
   "metadata": {
    "collapsed": false,
    "pycharm": {
     "name": "#%%\n"
    }
   }
  },
  {
   "cell_type": "code",
   "execution_count": 16,
   "outputs": [
    {
     "data": {
      "text/plain": "                   asset_file        date  stock  1_month_return  \\\n0      Data/Stocks\\ncr.us.txt  2004-04-05      1        0.000439   \n1     Data/Stocks\\chfn.us.txt  2013-05-31      1       -0.001997   \n2     Data/Stocks\\tmst.us.txt  2016-01-05      1       -0.151767   \n3      Data/Stocks\\gjp.us.txt  2012-08-16      1       -0.053945   \n4    Data/Stocks\\hvt-a.us.txt  2011-09-27      1       -0.104041   \n..                        ...         ...    ...             ...   \n495   Data/Stocks\\clro.us.txt  2012-10-04      1       -0.002551   \n496      Data/ETFs\\rwl.us.txt  2010-06-01      0       -0.071432   \n497     Data/ETFs\\cape.us.txt  2016-11-28      0        0.052661   \n498   Data/Stocks\\hnna.us.txt  2015-08-26      1        0.254485   \n499    Data/Stocks\\cai.us.txt  2011-03-14      1        0.165301   \n\n     6_month_return  12_month_return  1_month_volatility  6_month_volatility  \\\n0          0.317341         1.388889            0.017516            0.016031   \n1          0.284303         0.399270            0.004603            0.009990   \n2         -0.657503        -0.770941            0.054340            0.050027   \n3         -0.075769         0.000470            0.015497            0.013264   \n4         -0.224486        -0.056672            0.040486            0.039216   \n..              ...              ...                 ...                 ...   \n495       -0.029221        -0.197224            0.011883            0.025439   \n496        0.036265         0.201913            0.020085            0.011215   \n497        0.111960         0.159411            0.006238            0.007575   \n498        0.058200         0.389687            0.028195            0.024082   \n499        0.657300         1.108108            0.047332            0.029036   \n\n     12_month_volatility                  1_month_img  \\\n0               0.023119   Charts/img_500_1_month.PNG   \n1               0.017845   Charts/img_501_1_month.PNG   \n2               0.039493   Charts/img_502_1_month.PNG   \n3               0.016023   Charts/img_503_1_month.PNG   \n4               0.033105   Charts/img_504_1_month.PNG   \n..                   ...                          ...   \n495             0.027060  Charts/img_5995_1_month.PNG   \n496             0.011805  Charts/img_5996_1_month.PNG   \n497             0.008513  Charts/img_5997_1_month.PNG   \n498             0.027321  Charts/img_5998_1_month.PNG   \n499             0.037630  Charts/img_5999_1_month.PNG   \n\n                     6_month_img                  12_month_img  \\\n0     Charts/img_500_6_month.PNG   Charts/img_500_12_month.PNG   \n1     Charts/img_501_6_month.PNG   Charts/img_501_12_month.PNG   \n2     Charts/img_502_6_month.PNG   Charts/img_502_12_month.PNG   \n3     Charts/img_503_6_month.PNG   Charts/img_503_12_month.PNG   \n4     Charts/img_504_6_month.PNG   Charts/img_504_12_month.PNG   \n..                           ...                           ...   \n495  Charts/img_5995_6_month.PNG  Charts/img_5995_12_month.PNG   \n496  Charts/img_5996_6_month.PNG  Charts/img_5996_12_month.PNG   \n497  Charts/img_5997_6_month.PNG  Charts/img_5997_12_month.PNG   \n498  Charts/img_5998_6_month.PNG  Charts/img_5998_12_month.PNG   \n499  Charts/img_5999_6_month.PNG  Charts/img_5999_12_month.PNG   \n\n                     1_month_img_bar                  6_month_img_bar  \\\n0     Charts/img_500_bar_1_month.PNG   Charts/img_500_bar_6_month.PNG   \n1     Charts/img_501_bar_1_month.PNG   Charts/img_501_bar_6_month.PNG   \n2     Charts/img_502_bar_1_month.PNG   Charts/img_502_bar_6_month.PNG   \n3     Charts/img_503_bar_1_month.PNG   Charts/img_503_bar_6_month.PNG   \n4     Charts/img_504_bar_1_month.PNG   Charts/img_504_bar_6_month.PNG   \n..                               ...                              ...   \n495  Charts/img_5995_bar_1_month.PNG  Charts/img_5995_bar_6_month.PNG   \n496  Charts/img_5996_bar_1_month.PNG  Charts/img_5996_bar_6_month.PNG   \n497  Charts/img_5997_bar_1_month.PNG  Charts/img_5997_bar_6_month.PNG   \n498  Charts/img_5998_bar_1_month.PNG  Charts/img_5998_bar_6_month.PNG   \n499  Charts/img_5999_bar_1_month.PNG  Charts/img_5999_bar_6_month.PNG   \n\n                     12_month_img_bar  label_1m  1m_return  \n0     Charts/img_500_bar_12_month.PNG         0  -0.013871  \n1     Charts/img_501_bar_12_month.PNG         2   0.015084  \n2     Charts/img_502_bar_12_month.PNG         0  -0.066185  \n3     Charts/img_503_bar_12_month.PNG         1   0.001246  \n4     Charts/img_504_bar_12_month.PNG         2   0.127726  \n..                                ...       ...        ...  \n495  Charts/img_5995_bar_12_month.PNG         2   0.086238  \n496  Charts/img_5996_bar_12_month.PNG         0  -0.057502  \n497  Charts/img_5997_bar_12_month.PNG         2   0.027056  \n498  Charts/img_5998_bar_12_month.PNG         0  -0.020751  \n499  Charts/img_5999_bar_12_month.PNG         2   0.020202  \n\n[6000 rows x 17 columns]",
      "text/html": "<div>\n<style scoped>\n    .dataframe tbody tr th:only-of-type {\n        vertical-align: middle;\n    }\n\n    .dataframe tbody tr th {\n        vertical-align: top;\n    }\n\n    .dataframe thead th {\n        text-align: right;\n    }\n</style>\n<table border=\"1\" class=\"dataframe\">\n  <thead>\n    <tr style=\"text-align: right;\">\n      <th></th>\n      <th>asset_file</th>\n      <th>date</th>\n      <th>stock</th>\n      <th>1_month_return</th>\n      <th>6_month_return</th>\n      <th>12_month_return</th>\n      <th>1_month_volatility</th>\n      <th>6_month_volatility</th>\n      <th>12_month_volatility</th>\n      <th>1_month_img</th>\n      <th>6_month_img</th>\n      <th>12_month_img</th>\n      <th>1_month_img_bar</th>\n      <th>6_month_img_bar</th>\n      <th>12_month_img_bar</th>\n      <th>label_1m</th>\n      <th>1m_return</th>\n    </tr>\n  </thead>\n  <tbody>\n    <tr>\n      <th>0</th>\n      <td>Data/Stocks\\ncr.us.txt</td>\n      <td>2004-04-05</td>\n      <td>1</td>\n      <td>0.000439</td>\n      <td>0.317341</td>\n      <td>1.388889</td>\n      <td>0.017516</td>\n      <td>0.016031</td>\n      <td>0.023119</td>\n      <td>Charts/img_500_1_month.PNG</td>\n      <td>Charts/img_500_6_month.PNG</td>\n      <td>Charts/img_500_12_month.PNG</td>\n      <td>Charts/img_500_bar_1_month.PNG</td>\n      <td>Charts/img_500_bar_6_month.PNG</td>\n      <td>Charts/img_500_bar_12_month.PNG</td>\n      <td>0</td>\n      <td>-0.013871</td>\n    </tr>\n    <tr>\n      <th>1</th>\n      <td>Data/Stocks\\chfn.us.txt</td>\n      <td>2013-05-31</td>\n      <td>1</td>\n      <td>-0.001997</td>\n      <td>0.284303</td>\n      <td>0.399270</td>\n      <td>0.004603</td>\n      <td>0.009990</td>\n      <td>0.017845</td>\n      <td>Charts/img_501_1_month.PNG</td>\n      <td>Charts/img_501_6_month.PNG</td>\n      <td>Charts/img_501_12_month.PNG</td>\n      <td>Charts/img_501_bar_1_month.PNG</td>\n      <td>Charts/img_501_bar_6_month.PNG</td>\n      <td>Charts/img_501_bar_12_month.PNG</td>\n      <td>2</td>\n      <td>0.015084</td>\n    </tr>\n    <tr>\n      <th>2</th>\n      <td>Data/Stocks\\tmst.us.txt</td>\n      <td>2016-01-05</td>\n      <td>1</td>\n      <td>-0.151767</td>\n      <td>-0.657503</td>\n      <td>-0.770941</td>\n      <td>0.054340</td>\n      <td>0.050027</td>\n      <td>0.039493</td>\n      <td>Charts/img_502_1_month.PNG</td>\n      <td>Charts/img_502_6_month.PNG</td>\n      <td>Charts/img_502_12_month.PNG</td>\n      <td>Charts/img_502_bar_1_month.PNG</td>\n      <td>Charts/img_502_bar_6_month.PNG</td>\n      <td>Charts/img_502_bar_12_month.PNG</td>\n      <td>0</td>\n      <td>-0.066185</td>\n    </tr>\n    <tr>\n      <th>3</th>\n      <td>Data/Stocks\\gjp.us.txt</td>\n      <td>2012-08-16</td>\n      <td>1</td>\n      <td>-0.053945</td>\n      <td>-0.075769</td>\n      <td>0.000470</td>\n      <td>0.015497</td>\n      <td>0.013264</td>\n      <td>0.016023</td>\n      <td>Charts/img_503_1_month.PNG</td>\n      <td>Charts/img_503_6_month.PNG</td>\n      <td>Charts/img_503_12_month.PNG</td>\n      <td>Charts/img_503_bar_1_month.PNG</td>\n      <td>Charts/img_503_bar_6_month.PNG</td>\n      <td>Charts/img_503_bar_12_month.PNG</td>\n      <td>1</td>\n      <td>0.001246</td>\n    </tr>\n    <tr>\n      <th>4</th>\n      <td>Data/Stocks\\hvt-a.us.txt</td>\n      <td>2011-09-27</td>\n      <td>1</td>\n      <td>-0.104041</td>\n      <td>-0.224486</td>\n      <td>-0.056672</td>\n      <td>0.040486</td>\n      <td>0.039216</td>\n      <td>0.033105</td>\n      <td>Charts/img_504_1_month.PNG</td>\n      <td>Charts/img_504_6_month.PNG</td>\n      <td>Charts/img_504_12_month.PNG</td>\n      <td>Charts/img_504_bar_1_month.PNG</td>\n      <td>Charts/img_504_bar_6_month.PNG</td>\n      <td>Charts/img_504_bar_12_month.PNG</td>\n      <td>2</td>\n      <td>0.127726</td>\n    </tr>\n    <tr>\n      <th>...</th>\n      <td>...</td>\n      <td>...</td>\n      <td>...</td>\n      <td>...</td>\n      <td>...</td>\n      <td>...</td>\n      <td>...</td>\n      <td>...</td>\n      <td>...</td>\n      <td>...</td>\n      <td>...</td>\n      <td>...</td>\n      <td>...</td>\n      <td>...</td>\n      <td>...</td>\n      <td>...</td>\n      <td>...</td>\n    </tr>\n    <tr>\n      <th>495</th>\n      <td>Data/Stocks\\clro.us.txt</td>\n      <td>2012-10-04</td>\n      <td>1</td>\n      <td>-0.002551</td>\n      <td>-0.029221</td>\n      <td>-0.197224</td>\n      <td>0.011883</td>\n      <td>0.025439</td>\n      <td>0.027060</td>\n      <td>Charts/img_5995_1_month.PNG</td>\n      <td>Charts/img_5995_6_month.PNG</td>\n      <td>Charts/img_5995_12_month.PNG</td>\n      <td>Charts/img_5995_bar_1_month.PNG</td>\n      <td>Charts/img_5995_bar_6_month.PNG</td>\n      <td>Charts/img_5995_bar_12_month.PNG</td>\n      <td>2</td>\n      <td>0.086238</td>\n    </tr>\n    <tr>\n      <th>496</th>\n      <td>Data/ETFs\\rwl.us.txt</td>\n      <td>2010-06-01</td>\n      <td>0</td>\n      <td>-0.071432</td>\n      <td>0.036265</td>\n      <td>0.201913</td>\n      <td>0.020085</td>\n      <td>0.011215</td>\n      <td>0.011805</td>\n      <td>Charts/img_5996_1_month.PNG</td>\n      <td>Charts/img_5996_6_month.PNG</td>\n      <td>Charts/img_5996_12_month.PNG</td>\n      <td>Charts/img_5996_bar_1_month.PNG</td>\n      <td>Charts/img_5996_bar_6_month.PNG</td>\n      <td>Charts/img_5996_bar_12_month.PNG</td>\n      <td>0</td>\n      <td>-0.057502</td>\n    </tr>\n    <tr>\n      <th>497</th>\n      <td>Data/ETFs\\cape.us.txt</td>\n      <td>2016-11-28</td>\n      <td>0</td>\n      <td>0.052661</td>\n      <td>0.111960</td>\n      <td>0.159411</td>\n      <td>0.006238</td>\n      <td>0.007575</td>\n      <td>0.008513</td>\n      <td>Charts/img_5997_1_month.PNG</td>\n      <td>Charts/img_5997_6_month.PNG</td>\n      <td>Charts/img_5997_12_month.PNG</td>\n      <td>Charts/img_5997_bar_1_month.PNG</td>\n      <td>Charts/img_5997_bar_6_month.PNG</td>\n      <td>Charts/img_5997_bar_12_month.PNG</td>\n      <td>2</td>\n      <td>0.027056</td>\n    </tr>\n    <tr>\n      <th>498</th>\n      <td>Data/Stocks\\hnna.us.txt</td>\n      <td>2015-08-26</td>\n      <td>1</td>\n      <td>0.254485</td>\n      <td>0.058200</td>\n      <td>0.389687</td>\n      <td>0.028195</td>\n      <td>0.024082</td>\n      <td>0.027321</td>\n      <td>Charts/img_5998_1_month.PNG</td>\n      <td>Charts/img_5998_6_month.PNG</td>\n      <td>Charts/img_5998_12_month.PNG</td>\n      <td>Charts/img_5998_bar_1_month.PNG</td>\n      <td>Charts/img_5998_bar_6_month.PNG</td>\n      <td>Charts/img_5998_bar_12_month.PNG</td>\n      <td>0</td>\n      <td>-0.020751</td>\n    </tr>\n    <tr>\n      <th>499</th>\n      <td>Data/Stocks\\cai.us.txt</td>\n      <td>2011-03-14</td>\n      <td>1</td>\n      <td>0.165301</td>\n      <td>0.657300</td>\n      <td>1.108108</td>\n      <td>0.047332</td>\n      <td>0.029036</td>\n      <td>0.037630</td>\n      <td>Charts/img_5999_1_month.PNG</td>\n      <td>Charts/img_5999_6_month.PNG</td>\n      <td>Charts/img_5999_12_month.PNG</td>\n      <td>Charts/img_5999_bar_1_month.PNG</td>\n      <td>Charts/img_5999_bar_6_month.PNG</td>\n      <td>Charts/img_5999_bar_12_month.PNG</td>\n      <td>2</td>\n      <td>0.020202</td>\n    </tr>\n  </tbody>\n</table>\n<p>6000 rows × 17 columns</p>\n</div>"
     },
     "execution_count": 16,
     "metadata": {},
     "output_type": "execute_result"
    },
    {
     "data": {
      "text/plain": "<Figure size 432x288 with 0 Axes>"
     },
     "metadata": {},
     "output_type": "display_data"
    }
   ],
   "source": [
    "construct_many_rand_observations(3000, 3000)"
   ],
   "metadata": {
    "collapsed": false,
    "pycharm": {
     "name": "#%%\n"
    }
   }
  },
  {
   "cell_type": "code",
   "execution_count": 17,
   "outputs": [
    {
     "data": {
      "text/plain": "                   asset_file        date  stock  1_month_return  \\\n0      Data/Stocks\\ncr.us.txt  2004-04-05      1        0.000439   \n1     Data/Stocks\\chfn.us.txt  2013-05-31      1       -0.001997   \n2     Data/Stocks\\tmst.us.txt  2016-01-05      1       -0.151767   \n3      Data/Stocks\\gjp.us.txt  2012-08-16      1       -0.053945   \n4    Data/Stocks\\hvt-a.us.txt  2011-09-27      1       -0.104041   \n..                        ...         ...    ...             ...   \n495    Data/Stocks\\hpi.us.txt  2006-07-03      1        0.004950   \n496   Data/Stocks\\srdx.us.txt  2015-02-02      1        0.036635   \n497    Data/Stocks\\tgt.us.txt  1999-01-22      1        0.206011   \n498   Data/Stocks\\sncr.us.txt  2016-03-07      1        0.203871   \n499   Data/Stocks\\exac.us.txt  2010-02-11      1       -0.122713   \n\n     6_month_return  12_month_return  1_month_volatility  6_month_volatility  \\\n0          0.317341         1.388889            0.017516            0.016031   \n1          0.284303         0.399270            0.004603            0.009990   \n2         -0.657503        -0.770941            0.054340            0.050027   \n3         -0.075769         0.000470            0.015497            0.013264   \n4         -0.224486        -0.056672            0.040486            0.039216   \n..              ...              ...                 ...                 ...   \n495        0.032584        -0.029432            0.004578            0.005252   \n496        0.096126        -0.059885            0.018967            0.015438   \n497        0.215111         0.651367            0.022833            0.037480   \n498       -0.256612        -0.355458            0.023538            0.032191   \n499        0.070959         0.104336            0.023344            0.024484   \n\n     12_month_volatility                  1_month_img  \\\n0               0.023119   Charts/img_500_1_month.PNG   \n1               0.017845   Charts/img_501_1_month.PNG   \n2               0.039493   Charts/img_502_1_month.PNG   \n3               0.016023   Charts/img_503_1_month.PNG   \n4               0.033105   Charts/img_504_1_month.PNG   \n..                   ...                          ...   \n495             0.005911  Charts/img_8995_1_month.PNG   \n496             0.016722  Charts/img_8996_1_month.PNG   \n497             0.029076  Charts/img_8997_1_month.PNG   \n498             0.028493  Charts/img_8998_1_month.PNG   \n499             0.031833  Charts/img_8999_1_month.PNG   \n\n                     6_month_img                  12_month_img  \\\n0     Charts/img_500_6_month.PNG   Charts/img_500_12_month.PNG   \n1     Charts/img_501_6_month.PNG   Charts/img_501_12_month.PNG   \n2     Charts/img_502_6_month.PNG   Charts/img_502_12_month.PNG   \n3     Charts/img_503_6_month.PNG   Charts/img_503_12_month.PNG   \n4     Charts/img_504_6_month.PNG   Charts/img_504_12_month.PNG   \n..                           ...                           ...   \n495  Charts/img_8995_6_month.PNG  Charts/img_8995_12_month.PNG   \n496  Charts/img_8996_6_month.PNG  Charts/img_8996_12_month.PNG   \n497  Charts/img_8997_6_month.PNG  Charts/img_8997_12_month.PNG   \n498  Charts/img_8998_6_month.PNG  Charts/img_8998_12_month.PNG   \n499  Charts/img_8999_6_month.PNG  Charts/img_8999_12_month.PNG   \n\n                     1_month_img_bar                  6_month_img_bar  \\\n0     Charts/img_500_bar_1_month.PNG   Charts/img_500_bar_6_month.PNG   \n1     Charts/img_501_bar_1_month.PNG   Charts/img_501_bar_6_month.PNG   \n2     Charts/img_502_bar_1_month.PNG   Charts/img_502_bar_6_month.PNG   \n3     Charts/img_503_bar_1_month.PNG   Charts/img_503_bar_6_month.PNG   \n4     Charts/img_504_bar_1_month.PNG   Charts/img_504_bar_6_month.PNG   \n..                               ...                              ...   \n495  Charts/img_8995_bar_1_month.PNG  Charts/img_8995_bar_6_month.PNG   \n496  Charts/img_8996_bar_1_month.PNG  Charts/img_8996_bar_6_month.PNG   \n497  Charts/img_8997_bar_1_month.PNG  Charts/img_8997_bar_6_month.PNG   \n498  Charts/img_8998_bar_1_month.PNG  Charts/img_8998_bar_6_month.PNG   \n499  Charts/img_8999_bar_1_month.PNG  Charts/img_8999_bar_6_month.PNG   \n\n                     12_month_img_bar  label_1m  1m_return  \n0     Charts/img_500_bar_12_month.PNG         0  -0.013871  \n1     Charts/img_501_bar_12_month.PNG         2   0.015084  \n2     Charts/img_502_bar_12_month.PNG         0  -0.066185  \n3     Charts/img_503_bar_12_month.PNG         1   0.001246  \n4     Charts/img_504_bar_12_month.PNG         2   0.127726  \n..                                ...       ...        ...  \n495  Charts/img_8995_bar_12_month.PNG         2   0.041791  \n496  Charts/img_8996_bar_12_month.PNG         2   0.039059  \n497  Charts/img_8997_bar_12_month.PNG         2   0.059405  \n498  Charts/img_8998_bar_12_month.PNG         2   0.071477  \n499  Charts/img_8999_bar_12_month.PNG         2   0.176647  \n\n[9000 rows x 17 columns]",
      "text/html": "<div>\n<style scoped>\n    .dataframe tbody tr th:only-of-type {\n        vertical-align: middle;\n    }\n\n    .dataframe tbody tr th {\n        vertical-align: top;\n    }\n\n    .dataframe thead th {\n        text-align: right;\n    }\n</style>\n<table border=\"1\" class=\"dataframe\">\n  <thead>\n    <tr style=\"text-align: right;\">\n      <th></th>\n      <th>asset_file</th>\n      <th>date</th>\n      <th>stock</th>\n      <th>1_month_return</th>\n      <th>6_month_return</th>\n      <th>12_month_return</th>\n      <th>1_month_volatility</th>\n      <th>6_month_volatility</th>\n      <th>12_month_volatility</th>\n      <th>1_month_img</th>\n      <th>6_month_img</th>\n      <th>12_month_img</th>\n      <th>1_month_img_bar</th>\n      <th>6_month_img_bar</th>\n      <th>12_month_img_bar</th>\n      <th>label_1m</th>\n      <th>1m_return</th>\n    </tr>\n  </thead>\n  <tbody>\n    <tr>\n      <th>0</th>\n      <td>Data/Stocks\\ncr.us.txt</td>\n      <td>2004-04-05</td>\n      <td>1</td>\n      <td>0.000439</td>\n      <td>0.317341</td>\n      <td>1.388889</td>\n      <td>0.017516</td>\n      <td>0.016031</td>\n      <td>0.023119</td>\n      <td>Charts/img_500_1_month.PNG</td>\n      <td>Charts/img_500_6_month.PNG</td>\n      <td>Charts/img_500_12_month.PNG</td>\n      <td>Charts/img_500_bar_1_month.PNG</td>\n      <td>Charts/img_500_bar_6_month.PNG</td>\n      <td>Charts/img_500_bar_12_month.PNG</td>\n      <td>0</td>\n      <td>-0.013871</td>\n    </tr>\n    <tr>\n      <th>1</th>\n      <td>Data/Stocks\\chfn.us.txt</td>\n      <td>2013-05-31</td>\n      <td>1</td>\n      <td>-0.001997</td>\n      <td>0.284303</td>\n      <td>0.399270</td>\n      <td>0.004603</td>\n      <td>0.009990</td>\n      <td>0.017845</td>\n      <td>Charts/img_501_1_month.PNG</td>\n      <td>Charts/img_501_6_month.PNG</td>\n      <td>Charts/img_501_12_month.PNG</td>\n      <td>Charts/img_501_bar_1_month.PNG</td>\n      <td>Charts/img_501_bar_6_month.PNG</td>\n      <td>Charts/img_501_bar_12_month.PNG</td>\n      <td>2</td>\n      <td>0.015084</td>\n    </tr>\n    <tr>\n      <th>2</th>\n      <td>Data/Stocks\\tmst.us.txt</td>\n      <td>2016-01-05</td>\n      <td>1</td>\n      <td>-0.151767</td>\n      <td>-0.657503</td>\n      <td>-0.770941</td>\n      <td>0.054340</td>\n      <td>0.050027</td>\n      <td>0.039493</td>\n      <td>Charts/img_502_1_month.PNG</td>\n      <td>Charts/img_502_6_month.PNG</td>\n      <td>Charts/img_502_12_month.PNG</td>\n      <td>Charts/img_502_bar_1_month.PNG</td>\n      <td>Charts/img_502_bar_6_month.PNG</td>\n      <td>Charts/img_502_bar_12_month.PNG</td>\n      <td>0</td>\n      <td>-0.066185</td>\n    </tr>\n    <tr>\n      <th>3</th>\n      <td>Data/Stocks\\gjp.us.txt</td>\n      <td>2012-08-16</td>\n      <td>1</td>\n      <td>-0.053945</td>\n      <td>-0.075769</td>\n      <td>0.000470</td>\n      <td>0.015497</td>\n      <td>0.013264</td>\n      <td>0.016023</td>\n      <td>Charts/img_503_1_month.PNG</td>\n      <td>Charts/img_503_6_month.PNG</td>\n      <td>Charts/img_503_12_month.PNG</td>\n      <td>Charts/img_503_bar_1_month.PNG</td>\n      <td>Charts/img_503_bar_6_month.PNG</td>\n      <td>Charts/img_503_bar_12_month.PNG</td>\n      <td>1</td>\n      <td>0.001246</td>\n    </tr>\n    <tr>\n      <th>4</th>\n      <td>Data/Stocks\\hvt-a.us.txt</td>\n      <td>2011-09-27</td>\n      <td>1</td>\n      <td>-0.104041</td>\n      <td>-0.224486</td>\n      <td>-0.056672</td>\n      <td>0.040486</td>\n      <td>0.039216</td>\n      <td>0.033105</td>\n      <td>Charts/img_504_1_month.PNG</td>\n      <td>Charts/img_504_6_month.PNG</td>\n      <td>Charts/img_504_12_month.PNG</td>\n      <td>Charts/img_504_bar_1_month.PNG</td>\n      <td>Charts/img_504_bar_6_month.PNG</td>\n      <td>Charts/img_504_bar_12_month.PNG</td>\n      <td>2</td>\n      <td>0.127726</td>\n    </tr>\n    <tr>\n      <th>...</th>\n      <td>...</td>\n      <td>...</td>\n      <td>...</td>\n      <td>...</td>\n      <td>...</td>\n      <td>...</td>\n      <td>...</td>\n      <td>...</td>\n      <td>...</td>\n      <td>...</td>\n      <td>...</td>\n      <td>...</td>\n      <td>...</td>\n      <td>...</td>\n      <td>...</td>\n      <td>...</td>\n      <td>...</td>\n    </tr>\n    <tr>\n      <th>495</th>\n      <td>Data/Stocks\\hpi.us.txt</td>\n      <td>2006-07-03</td>\n      <td>1</td>\n      <td>0.004950</td>\n      <td>0.032584</td>\n      <td>-0.029432</td>\n      <td>0.004578</td>\n      <td>0.005252</td>\n      <td>0.005911</td>\n      <td>Charts/img_8995_1_month.PNG</td>\n      <td>Charts/img_8995_6_month.PNG</td>\n      <td>Charts/img_8995_12_month.PNG</td>\n      <td>Charts/img_8995_bar_1_month.PNG</td>\n      <td>Charts/img_8995_bar_6_month.PNG</td>\n      <td>Charts/img_8995_bar_12_month.PNG</td>\n      <td>2</td>\n      <td>0.041791</td>\n    </tr>\n    <tr>\n      <th>496</th>\n      <td>Data/Stocks\\srdx.us.txt</td>\n      <td>2015-02-02</td>\n      <td>1</td>\n      <td>0.036635</td>\n      <td>0.096126</td>\n      <td>-0.059885</td>\n      <td>0.018967</td>\n      <td>0.015438</td>\n      <td>0.016722</td>\n      <td>Charts/img_8996_1_month.PNG</td>\n      <td>Charts/img_8996_6_month.PNG</td>\n      <td>Charts/img_8996_12_month.PNG</td>\n      <td>Charts/img_8996_bar_1_month.PNG</td>\n      <td>Charts/img_8996_bar_6_month.PNG</td>\n      <td>Charts/img_8996_bar_12_month.PNG</td>\n      <td>2</td>\n      <td>0.039059</td>\n    </tr>\n    <tr>\n      <th>497</th>\n      <td>Data/Stocks\\tgt.us.txt</td>\n      <td>1999-01-22</td>\n      <td>1</td>\n      <td>0.206011</td>\n      <td>0.215111</td>\n      <td>0.651367</td>\n      <td>0.022833</td>\n      <td>0.037480</td>\n      <td>0.029076</td>\n      <td>Charts/img_8997_1_month.PNG</td>\n      <td>Charts/img_8997_6_month.PNG</td>\n      <td>Charts/img_8997_12_month.PNG</td>\n      <td>Charts/img_8997_bar_1_month.PNG</td>\n      <td>Charts/img_8997_bar_6_month.PNG</td>\n      <td>Charts/img_8997_bar_12_month.PNG</td>\n      <td>2</td>\n      <td>0.059405</td>\n    </tr>\n    <tr>\n      <th>498</th>\n      <td>Data/Stocks\\sncr.us.txt</td>\n      <td>2016-03-07</td>\n      <td>1</td>\n      <td>0.203871</td>\n      <td>-0.256612</td>\n      <td>-0.355458</td>\n      <td>0.023538</td>\n      <td>0.032191</td>\n      <td>0.028493</td>\n      <td>Charts/img_8998_1_month.PNG</td>\n      <td>Charts/img_8998_6_month.PNG</td>\n      <td>Charts/img_8998_12_month.PNG</td>\n      <td>Charts/img_8998_bar_1_month.PNG</td>\n      <td>Charts/img_8998_bar_6_month.PNG</td>\n      <td>Charts/img_8998_bar_12_month.PNG</td>\n      <td>2</td>\n      <td>0.071477</td>\n    </tr>\n    <tr>\n      <th>499</th>\n      <td>Data/Stocks\\exac.us.txt</td>\n      <td>2010-02-11</td>\n      <td>1</td>\n      <td>-0.122713</td>\n      <td>0.070959</td>\n      <td>0.104336</td>\n      <td>0.023344</td>\n      <td>0.024484</td>\n      <td>0.031833</td>\n      <td>Charts/img_8999_1_month.PNG</td>\n      <td>Charts/img_8999_6_month.PNG</td>\n      <td>Charts/img_8999_12_month.PNG</td>\n      <td>Charts/img_8999_bar_1_month.PNG</td>\n      <td>Charts/img_8999_bar_6_month.PNG</td>\n      <td>Charts/img_8999_bar_12_month.PNG</td>\n      <td>2</td>\n      <td>0.176647</td>\n    </tr>\n  </tbody>\n</table>\n<p>9000 rows × 17 columns</p>\n</div>"
     },
     "execution_count": 17,
     "metadata": {},
     "output_type": "execute_result"
    },
    {
     "data": {
      "text/plain": "<Figure size 432x288 with 0 Axes>"
     },
     "metadata": {},
     "output_type": "display_data"
    }
   ],
   "source": [
    "construct_many_rand_observations(3000, 6000)"
   ],
   "metadata": {
    "collapsed": false,
    "pycharm": {
     "name": "#%%\n"
    }
   }
  },
  {
   "cell_type": "code",
   "execution_count": 18,
   "outputs": [
    {
     "data": {
      "text/plain": "                   asset_file        date  stock  1_month_return  \\\n0      Data/Stocks\\ncr.us.txt  2004-04-05      1        0.000439   \n1     Data/Stocks\\chfn.us.txt  2013-05-31      1       -0.001997   \n2     Data/Stocks\\tmst.us.txt  2016-01-05      1       -0.151767   \n3      Data/Stocks\\gjp.us.txt  2012-08-16      1       -0.053945   \n4    Data/Stocks\\hvt-a.us.txt  2011-09-27      1       -0.104041   \n..                        ...         ...    ...             ...   \n495    Data/Stocks\\sfl.us.txt  2008-01-24      1       -0.157712   \n496  Data/Stocks\\belfa.us.txt  2010-08-18      1        0.201255   \n497   Data/Stocks\\evhc.us.txt  2014-09-02      1        0.047564   \n498    Data/Stocks\\snp.us.txt  2010-07-21      1       -0.045617   \n499   Data/Stocks\\susa.us.txt  2016-03-22      1        0.075041   \n\n     6_month_return  12_month_return  1_month_volatility  6_month_volatility  \\\n0          0.317341         1.388889            0.017516            0.016031   \n1          0.284303         0.399270            0.004603            0.009990   \n2         -0.657503        -0.770941            0.054340            0.050027   \n3         -0.075769         0.000470            0.015497            0.013264   \n4         -0.224486        -0.056672            0.040486            0.039216   \n..              ...              ...                 ...                 ...   \n495       -0.122881         0.014062            0.018766            0.024021   \n496        0.056782         0.345961            0.051319            0.035508   \n497        0.074978         0.393275            0.008937            0.015356   \n498       -0.006414        -0.041886            0.014021            0.017807   \n499        0.083046        -0.014023            0.007646            0.010423   \n\n     12_month_volatility                  1_month_img  \\\n0               0.023119   Charts/img_500_1_month.PNG   \n1               0.017845   Charts/img_501_1_month.PNG   \n2               0.039493   Charts/img_502_1_month.PNG   \n3               0.016023   Charts/img_503_1_month.PNG   \n4               0.033105   Charts/img_504_1_month.PNG   \n..                   ...                          ...   \n495             0.020691  Charts/img_9495_1_month.PNG   \n496             0.033319  Charts/img_9496_1_month.PNG   \n497             0.017374  Charts/img_9497_1_month.PNG   \n498             0.019190  Charts/img_9498_1_month.PNG   \n499             0.010038  Charts/img_9499_1_month.PNG   \n\n                     6_month_img                  12_month_img  \\\n0     Charts/img_500_6_month.PNG   Charts/img_500_12_month.PNG   \n1     Charts/img_501_6_month.PNG   Charts/img_501_12_month.PNG   \n2     Charts/img_502_6_month.PNG   Charts/img_502_12_month.PNG   \n3     Charts/img_503_6_month.PNG   Charts/img_503_12_month.PNG   \n4     Charts/img_504_6_month.PNG   Charts/img_504_12_month.PNG   \n..                           ...                           ...   \n495  Charts/img_9495_6_month.PNG  Charts/img_9495_12_month.PNG   \n496  Charts/img_9496_6_month.PNG  Charts/img_9496_12_month.PNG   \n497  Charts/img_9497_6_month.PNG  Charts/img_9497_12_month.PNG   \n498  Charts/img_9498_6_month.PNG  Charts/img_9498_12_month.PNG   \n499  Charts/img_9499_6_month.PNG  Charts/img_9499_12_month.PNG   \n\n                     1_month_img_bar                  6_month_img_bar  \\\n0     Charts/img_500_bar_1_month.PNG   Charts/img_500_bar_6_month.PNG   \n1     Charts/img_501_bar_1_month.PNG   Charts/img_501_bar_6_month.PNG   \n2     Charts/img_502_bar_1_month.PNG   Charts/img_502_bar_6_month.PNG   \n3     Charts/img_503_bar_1_month.PNG   Charts/img_503_bar_6_month.PNG   \n4     Charts/img_504_bar_1_month.PNG   Charts/img_504_bar_6_month.PNG   \n..                               ...                              ...   \n495  Charts/img_9495_bar_1_month.PNG  Charts/img_9495_bar_6_month.PNG   \n496  Charts/img_9496_bar_1_month.PNG  Charts/img_9496_bar_6_month.PNG   \n497  Charts/img_9497_bar_1_month.PNG  Charts/img_9497_bar_6_month.PNG   \n498  Charts/img_9498_bar_1_month.PNG  Charts/img_9498_bar_6_month.PNG   \n499  Charts/img_9499_bar_1_month.PNG  Charts/img_9499_bar_6_month.PNG   \n\n                     12_month_img_bar  label_1m  1m_return  \n0     Charts/img_500_bar_12_month.PNG         0  -0.013871  \n1     Charts/img_501_bar_12_month.PNG         2   0.015084  \n2     Charts/img_502_bar_12_month.PNG         0  -0.066185  \n3     Charts/img_503_bar_12_month.PNG         1   0.001246  \n4     Charts/img_504_bar_12_month.PNG         2   0.127726  \n..                                ...       ...        ...  \n495  Charts/img_9495_bar_12_month.PNG         2   0.104579  \n496  Charts/img_9496_bar_12_month.PNG         2   0.012205  \n497  Charts/img_9497_bar_12_month.PNG         0  -0.047149  \n498  Charts/img_9498_bar_12_month.PNG         2   0.040489  \n499  Charts/img_9499_bar_12_month.PNG         2   0.024414  \n\n[12000 rows x 17 columns]",
      "text/html": "<div>\n<style scoped>\n    .dataframe tbody tr th:only-of-type {\n        vertical-align: middle;\n    }\n\n    .dataframe tbody tr th {\n        vertical-align: top;\n    }\n\n    .dataframe thead th {\n        text-align: right;\n    }\n</style>\n<table border=\"1\" class=\"dataframe\">\n  <thead>\n    <tr style=\"text-align: right;\">\n      <th></th>\n      <th>asset_file</th>\n      <th>date</th>\n      <th>stock</th>\n      <th>1_month_return</th>\n      <th>6_month_return</th>\n      <th>12_month_return</th>\n      <th>1_month_volatility</th>\n      <th>6_month_volatility</th>\n      <th>12_month_volatility</th>\n      <th>1_month_img</th>\n      <th>6_month_img</th>\n      <th>12_month_img</th>\n      <th>1_month_img_bar</th>\n      <th>6_month_img_bar</th>\n      <th>12_month_img_bar</th>\n      <th>label_1m</th>\n      <th>1m_return</th>\n    </tr>\n  </thead>\n  <tbody>\n    <tr>\n      <th>0</th>\n      <td>Data/Stocks\\ncr.us.txt</td>\n      <td>2004-04-05</td>\n      <td>1</td>\n      <td>0.000439</td>\n      <td>0.317341</td>\n      <td>1.388889</td>\n      <td>0.017516</td>\n      <td>0.016031</td>\n      <td>0.023119</td>\n      <td>Charts/img_500_1_month.PNG</td>\n      <td>Charts/img_500_6_month.PNG</td>\n      <td>Charts/img_500_12_month.PNG</td>\n      <td>Charts/img_500_bar_1_month.PNG</td>\n      <td>Charts/img_500_bar_6_month.PNG</td>\n      <td>Charts/img_500_bar_12_month.PNG</td>\n      <td>0</td>\n      <td>-0.013871</td>\n    </tr>\n    <tr>\n      <th>1</th>\n      <td>Data/Stocks\\chfn.us.txt</td>\n      <td>2013-05-31</td>\n      <td>1</td>\n      <td>-0.001997</td>\n      <td>0.284303</td>\n      <td>0.399270</td>\n      <td>0.004603</td>\n      <td>0.009990</td>\n      <td>0.017845</td>\n      <td>Charts/img_501_1_month.PNG</td>\n      <td>Charts/img_501_6_month.PNG</td>\n      <td>Charts/img_501_12_month.PNG</td>\n      <td>Charts/img_501_bar_1_month.PNG</td>\n      <td>Charts/img_501_bar_6_month.PNG</td>\n      <td>Charts/img_501_bar_12_month.PNG</td>\n      <td>2</td>\n      <td>0.015084</td>\n    </tr>\n    <tr>\n      <th>2</th>\n      <td>Data/Stocks\\tmst.us.txt</td>\n      <td>2016-01-05</td>\n      <td>1</td>\n      <td>-0.151767</td>\n      <td>-0.657503</td>\n      <td>-0.770941</td>\n      <td>0.054340</td>\n      <td>0.050027</td>\n      <td>0.039493</td>\n      <td>Charts/img_502_1_month.PNG</td>\n      <td>Charts/img_502_6_month.PNG</td>\n      <td>Charts/img_502_12_month.PNG</td>\n      <td>Charts/img_502_bar_1_month.PNG</td>\n      <td>Charts/img_502_bar_6_month.PNG</td>\n      <td>Charts/img_502_bar_12_month.PNG</td>\n      <td>0</td>\n      <td>-0.066185</td>\n    </tr>\n    <tr>\n      <th>3</th>\n      <td>Data/Stocks\\gjp.us.txt</td>\n      <td>2012-08-16</td>\n      <td>1</td>\n      <td>-0.053945</td>\n      <td>-0.075769</td>\n      <td>0.000470</td>\n      <td>0.015497</td>\n      <td>0.013264</td>\n      <td>0.016023</td>\n      <td>Charts/img_503_1_month.PNG</td>\n      <td>Charts/img_503_6_month.PNG</td>\n      <td>Charts/img_503_12_month.PNG</td>\n      <td>Charts/img_503_bar_1_month.PNG</td>\n      <td>Charts/img_503_bar_6_month.PNG</td>\n      <td>Charts/img_503_bar_12_month.PNG</td>\n      <td>1</td>\n      <td>0.001246</td>\n    </tr>\n    <tr>\n      <th>4</th>\n      <td>Data/Stocks\\hvt-a.us.txt</td>\n      <td>2011-09-27</td>\n      <td>1</td>\n      <td>-0.104041</td>\n      <td>-0.224486</td>\n      <td>-0.056672</td>\n      <td>0.040486</td>\n      <td>0.039216</td>\n      <td>0.033105</td>\n      <td>Charts/img_504_1_month.PNG</td>\n      <td>Charts/img_504_6_month.PNG</td>\n      <td>Charts/img_504_12_month.PNG</td>\n      <td>Charts/img_504_bar_1_month.PNG</td>\n      <td>Charts/img_504_bar_6_month.PNG</td>\n      <td>Charts/img_504_bar_12_month.PNG</td>\n      <td>2</td>\n      <td>0.127726</td>\n    </tr>\n    <tr>\n      <th>...</th>\n      <td>...</td>\n      <td>...</td>\n      <td>...</td>\n      <td>...</td>\n      <td>...</td>\n      <td>...</td>\n      <td>...</td>\n      <td>...</td>\n      <td>...</td>\n      <td>...</td>\n      <td>...</td>\n      <td>...</td>\n      <td>...</td>\n      <td>...</td>\n      <td>...</td>\n      <td>...</td>\n      <td>...</td>\n    </tr>\n    <tr>\n      <th>495</th>\n      <td>Data/Stocks\\sfl.us.txt</td>\n      <td>2008-01-24</td>\n      <td>1</td>\n      <td>-0.157712</td>\n      <td>-0.122881</td>\n      <td>0.014062</td>\n      <td>0.018766</td>\n      <td>0.024021</td>\n      <td>0.020691</td>\n      <td>Charts/img_9495_1_month.PNG</td>\n      <td>Charts/img_9495_6_month.PNG</td>\n      <td>Charts/img_9495_12_month.PNG</td>\n      <td>Charts/img_9495_bar_1_month.PNG</td>\n      <td>Charts/img_9495_bar_6_month.PNG</td>\n      <td>Charts/img_9495_bar_12_month.PNG</td>\n      <td>2</td>\n      <td>0.104579</td>\n    </tr>\n    <tr>\n      <th>496</th>\n      <td>Data/Stocks\\belfa.us.txt</td>\n      <td>2010-08-18</td>\n      <td>1</td>\n      <td>0.201255</td>\n      <td>0.056782</td>\n      <td>0.345961</td>\n      <td>0.051319</td>\n      <td>0.035508</td>\n      <td>0.033319</td>\n      <td>Charts/img_9496_1_month.PNG</td>\n      <td>Charts/img_9496_6_month.PNG</td>\n      <td>Charts/img_9496_12_month.PNG</td>\n      <td>Charts/img_9496_bar_1_month.PNG</td>\n      <td>Charts/img_9496_bar_6_month.PNG</td>\n      <td>Charts/img_9496_bar_12_month.PNG</td>\n      <td>2</td>\n      <td>0.012205</td>\n    </tr>\n    <tr>\n      <th>497</th>\n      <td>Data/Stocks\\evhc.us.txt</td>\n      <td>2014-09-02</td>\n      <td>1</td>\n      <td>0.047564</td>\n      <td>0.074978</td>\n      <td>0.393275</td>\n      <td>0.008937</td>\n      <td>0.015356</td>\n      <td>0.017374</td>\n      <td>Charts/img_9497_1_month.PNG</td>\n      <td>Charts/img_9497_6_month.PNG</td>\n      <td>Charts/img_9497_12_month.PNG</td>\n      <td>Charts/img_9497_bar_1_month.PNG</td>\n      <td>Charts/img_9497_bar_6_month.PNG</td>\n      <td>Charts/img_9497_bar_12_month.PNG</td>\n      <td>0</td>\n      <td>-0.047149</td>\n    </tr>\n    <tr>\n      <th>498</th>\n      <td>Data/Stocks\\snp.us.txt</td>\n      <td>2010-07-21</td>\n      <td>1</td>\n      <td>-0.045617</td>\n      <td>-0.006414</td>\n      <td>-0.041886</td>\n      <td>0.014021</td>\n      <td>0.017807</td>\n      <td>0.019190</td>\n      <td>Charts/img_9498_1_month.PNG</td>\n      <td>Charts/img_9498_6_month.PNG</td>\n      <td>Charts/img_9498_12_month.PNG</td>\n      <td>Charts/img_9498_bar_1_month.PNG</td>\n      <td>Charts/img_9498_bar_6_month.PNG</td>\n      <td>Charts/img_9498_bar_12_month.PNG</td>\n      <td>2</td>\n      <td>0.040489</td>\n    </tr>\n    <tr>\n      <th>499</th>\n      <td>Data/Stocks\\susa.us.txt</td>\n      <td>2016-03-22</td>\n      <td>1</td>\n      <td>0.075041</td>\n      <td>0.083046</td>\n      <td>-0.014023</td>\n      <td>0.007646</td>\n      <td>0.010423</td>\n      <td>0.010038</td>\n      <td>Charts/img_9499_1_month.PNG</td>\n      <td>Charts/img_9499_6_month.PNG</td>\n      <td>Charts/img_9499_12_month.PNG</td>\n      <td>Charts/img_9499_bar_1_month.PNG</td>\n      <td>Charts/img_9499_bar_6_month.PNG</td>\n      <td>Charts/img_9499_bar_12_month.PNG</td>\n      <td>2</td>\n      <td>0.024414</td>\n    </tr>\n  </tbody>\n</table>\n<p>12000 rows × 17 columns</p>\n</div>"
     },
     "execution_count": 18,
     "metadata": {},
     "output_type": "execute_result"
    },
    {
     "data": {
      "text/plain": "<Figure size 432x288 with 0 Axes>"
     },
     "metadata": {},
     "output_type": "display_data"
    }
   ],
   "source": [
    "construct_many_rand_observations(3000, 9000)"
   ],
   "metadata": {
    "collapsed": false,
    "pycharm": {
     "name": "#%%\n"
    }
   }
  },
  {
   "cell_type": "code",
   "execution_count": 19,
   "outputs": [
    {
     "data": {
      "text/plain": "                   asset_file        date  stock  1_month_return  \\\n0      Data/Stocks\\ncr.us.txt  2004-04-05      1        0.000439   \n1     Data/Stocks\\chfn.us.txt  2013-05-31      1       -0.001997   \n2     Data/Stocks\\tmst.us.txt  2016-01-05      1       -0.151767   \n3      Data/Stocks\\gjp.us.txt  2012-08-16      1       -0.053945   \n4    Data/Stocks\\hvt-a.us.txt  2011-09-27      1       -0.104041   \n..                        ...         ...    ...             ...   \n495    Data/Stocks\\sfl.us.txt  2008-01-24      1       -0.157712   \n496  Data/Stocks\\belfa.us.txt  2010-08-18      1        0.201255   \n497   Data/Stocks\\evhc.us.txt  2014-09-02      1        0.047564   \n498    Data/Stocks\\snp.us.txt  2010-07-21      1       -0.045617   \n499   Data/Stocks\\susa.us.txt  2016-03-22      1        0.075041   \n\n     6_month_return  12_month_return  1_month_volatility  6_month_volatility  \\\n0          0.317341         1.388889            0.017516            0.016031   \n1          0.284303         0.399270            0.004603            0.009990   \n2         -0.657503        -0.770941            0.054340            0.050027   \n3         -0.075769         0.000470            0.015497            0.013264   \n4         -0.224486        -0.056672            0.040486            0.039216   \n..              ...              ...                 ...                 ...   \n495       -0.122881         0.014062            0.018766            0.024021   \n496        0.056782         0.345961            0.051319            0.035508   \n497        0.074978         0.393275            0.008937            0.015356   \n498       -0.006414        -0.041886            0.014021            0.017807   \n499        0.083046        -0.014023            0.007646            0.010423   \n\n     12_month_volatility                  1_month_img  \\\n0               0.023119   Charts/img_500_1_month.PNG   \n1               0.017845   Charts/img_501_1_month.PNG   \n2               0.039493   Charts/img_502_1_month.PNG   \n3               0.016023   Charts/img_503_1_month.PNG   \n4               0.033105   Charts/img_504_1_month.PNG   \n..                   ...                          ...   \n495             0.020691  Charts/img_9495_1_month.PNG   \n496             0.033319  Charts/img_9496_1_month.PNG   \n497             0.017374  Charts/img_9497_1_month.PNG   \n498             0.019190  Charts/img_9498_1_month.PNG   \n499             0.010038  Charts/img_9499_1_month.PNG   \n\n                     6_month_img                  12_month_img  \\\n0     Charts/img_500_6_month.PNG   Charts/img_500_12_month.PNG   \n1     Charts/img_501_6_month.PNG   Charts/img_501_12_month.PNG   \n2     Charts/img_502_6_month.PNG   Charts/img_502_12_month.PNG   \n3     Charts/img_503_6_month.PNG   Charts/img_503_12_month.PNG   \n4     Charts/img_504_6_month.PNG   Charts/img_504_12_month.PNG   \n..                           ...                           ...   \n495  Charts/img_9495_6_month.PNG  Charts/img_9495_12_month.PNG   \n496  Charts/img_9496_6_month.PNG  Charts/img_9496_12_month.PNG   \n497  Charts/img_9497_6_month.PNG  Charts/img_9497_12_month.PNG   \n498  Charts/img_9498_6_month.PNG  Charts/img_9498_12_month.PNG   \n499  Charts/img_9499_6_month.PNG  Charts/img_9499_12_month.PNG   \n\n                     1_month_img_bar                  6_month_img_bar  \\\n0     Charts/img_500_bar_1_month.PNG   Charts/img_500_bar_6_month.PNG   \n1     Charts/img_501_bar_1_month.PNG   Charts/img_501_bar_6_month.PNG   \n2     Charts/img_502_bar_1_month.PNG   Charts/img_502_bar_6_month.PNG   \n3     Charts/img_503_bar_1_month.PNG   Charts/img_503_bar_6_month.PNG   \n4     Charts/img_504_bar_1_month.PNG   Charts/img_504_bar_6_month.PNG   \n..                               ...                              ...   \n495  Charts/img_9495_bar_1_month.PNG  Charts/img_9495_bar_6_month.PNG   \n496  Charts/img_9496_bar_1_month.PNG  Charts/img_9496_bar_6_month.PNG   \n497  Charts/img_9497_bar_1_month.PNG  Charts/img_9497_bar_6_month.PNG   \n498  Charts/img_9498_bar_1_month.PNG  Charts/img_9498_bar_6_month.PNG   \n499  Charts/img_9499_bar_1_month.PNG  Charts/img_9499_bar_6_month.PNG   \n\n                     12_month_img_bar  label_1m  1m_return  \n0     Charts/img_500_bar_12_month.PNG         0  -0.013871  \n1     Charts/img_501_bar_12_month.PNG         2   0.015084  \n2     Charts/img_502_bar_12_month.PNG         0  -0.066185  \n3     Charts/img_503_bar_12_month.PNG         1   0.001246  \n4     Charts/img_504_bar_12_month.PNG         2   0.127726  \n..                                ...       ...        ...  \n495  Charts/img_9495_bar_12_month.PNG         2   0.104579  \n496  Charts/img_9496_bar_12_month.PNG         2   0.012205  \n497  Charts/img_9497_bar_12_month.PNG         0  -0.047149  \n498  Charts/img_9498_bar_12_month.PNG         2   0.040489  \n499  Charts/img_9499_bar_12_month.PNG         2   0.024414  \n\n[15000 rows x 17 columns]",
      "text/html": "<div>\n<style scoped>\n    .dataframe tbody tr th:only-of-type {\n        vertical-align: middle;\n    }\n\n    .dataframe tbody tr th {\n        vertical-align: top;\n    }\n\n    .dataframe thead th {\n        text-align: right;\n    }\n</style>\n<table border=\"1\" class=\"dataframe\">\n  <thead>\n    <tr style=\"text-align: right;\">\n      <th></th>\n      <th>asset_file</th>\n      <th>date</th>\n      <th>stock</th>\n      <th>1_month_return</th>\n      <th>6_month_return</th>\n      <th>12_month_return</th>\n      <th>1_month_volatility</th>\n      <th>6_month_volatility</th>\n      <th>12_month_volatility</th>\n      <th>1_month_img</th>\n      <th>6_month_img</th>\n      <th>12_month_img</th>\n      <th>1_month_img_bar</th>\n      <th>6_month_img_bar</th>\n      <th>12_month_img_bar</th>\n      <th>label_1m</th>\n      <th>1m_return</th>\n    </tr>\n  </thead>\n  <tbody>\n    <tr>\n      <th>0</th>\n      <td>Data/Stocks\\ncr.us.txt</td>\n      <td>2004-04-05</td>\n      <td>1</td>\n      <td>0.000439</td>\n      <td>0.317341</td>\n      <td>1.388889</td>\n      <td>0.017516</td>\n      <td>0.016031</td>\n      <td>0.023119</td>\n      <td>Charts/img_500_1_month.PNG</td>\n      <td>Charts/img_500_6_month.PNG</td>\n      <td>Charts/img_500_12_month.PNG</td>\n      <td>Charts/img_500_bar_1_month.PNG</td>\n      <td>Charts/img_500_bar_6_month.PNG</td>\n      <td>Charts/img_500_bar_12_month.PNG</td>\n      <td>0</td>\n      <td>-0.013871</td>\n    </tr>\n    <tr>\n      <th>1</th>\n      <td>Data/Stocks\\chfn.us.txt</td>\n      <td>2013-05-31</td>\n      <td>1</td>\n      <td>-0.001997</td>\n      <td>0.284303</td>\n      <td>0.399270</td>\n      <td>0.004603</td>\n      <td>0.009990</td>\n      <td>0.017845</td>\n      <td>Charts/img_501_1_month.PNG</td>\n      <td>Charts/img_501_6_month.PNG</td>\n      <td>Charts/img_501_12_month.PNG</td>\n      <td>Charts/img_501_bar_1_month.PNG</td>\n      <td>Charts/img_501_bar_6_month.PNG</td>\n      <td>Charts/img_501_bar_12_month.PNG</td>\n      <td>2</td>\n      <td>0.015084</td>\n    </tr>\n    <tr>\n      <th>2</th>\n      <td>Data/Stocks\\tmst.us.txt</td>\n      <td>2016-01-05</td>\n      <td>1</td>\n      <td>-0.151767</td>\n      <td>-0.657503</td>\n      <td>-0.770941</td>\n      <td>0.054340</td>\n      <td>0.050027</td>\n      <td>0.039493</td>\n      <td>Charts/img_502_1_month.PNG</td>\n      <td>Charts/img_502_6_month.PNG</td>\n      <td>Charts/img_502_12_month.PNG</td>\n      <td>Charts/img_502_bar_1_month.PNG</td>\n      <td>Charts/img_502_bar_6_month.PNG</td>\n      <td>Charts/img_502_bar_12_month.PNG</td>\n      <td>0</td>\n      <td>-0.066185</td>\n    </tr>\n    <tr>\n      <th>3</th>\n      <td>Data/Stocks\\gjp.us.txt</td>\n      <td>2012-08-16</td>\n      <td>1</td>\n      <td>-0.053945</td>\n      <td>-0.075769</td>\n      <td>0.000470</td>\n      <td>0.015497</td>\n      <td>0.013264</td>\n      <td>0.016023</td>\n      <td>Charts/img_503_1_month.PNG</td>\n      <td>Charts/img_503_6_month.PNG</td>\n      <td>Charts/img_503_12_month.PNG</td>\n      <td>Charts/img_503_bar_1_month.PNG</td>\n      <td>Charts/img_503_bar_6_month.PNG</td>\n      <td>Charts/img_503_bar_12_month.PNG</td>\n      <td>1</td>\n      <td>0.001246</td>\n    </tr>\n    <tr>\n      <th>4</th>\n      <td>Data/Stocks\\hvt-a.us.txt</td>\n      <td>2011-09-27</td>\n      <td>1</td>\n      <td>-0.104041</td>\n      <td>-0.224486</td>\n      <td>-0.056672</td>\n      <td>0.040486</td>\n      <td>0.039216</td>\n      <td>0.033105</td>\n      <td>Charts/img_504_1_month.PNG</td>\n      <td>Charts/img_504_6_month.PNG</td>\n      <td>Charts/img_504_12_month.PNG</td>\n      <td>Charts/img_504_bar_1_month.PNG</td>\n      <td>Charts/img_504_bar_6_month.PNG</td>\n      <td>Charts/img_504_bar_12_month.PNG</td>\n      <td>2</td>\n      <td>0.127726</td>\n    </tr>\n    <tr>\n      <th>...</th>\n      <td>...</td>\n      <td>...</td>\n      <td>...</td>\n      <td>...</td>\n      <td>...</td>\n      <td>...</td>\n      <td>...</td>\n      <td>...</td>\n      <td>...</td>\n      <td>...</td>\n      <td>...</td>\n      <td>...</td>\n      <td>...</td>\n      <td>...</td>\n      <td>...</td>\n      <td>...</td>\n      <td>...</td>\n    </tr>\n    <tr>\n      <th>495</th>\n      <td>Data/Stocks\\sfl.us.txt</td>\n      <td>2008-01-24</td>\n      <td>1</td>\n      <td>-0.157712</td>\n      <td>-0.122881</td>\n      <td>0.014062</td>\n      <td>0.018766</td>\n      <td>0.024021</td>\n      <td>0.020691</td>\n      <td>Charts/img_9495_1_month.PNG</td>\n      <td>Charts/img_9495_6_month.PNG</td>\n      <td>Charts/img_9495_12_month.PNG</td>\n      <td>Charts/img_9495_bar_1_month.PNG</td>\n      <td>Charts/img_9495_bar_6_month.PNG</td>\n      <td>Charts/img_9495_bar_12_month.PNG</td>\n      <td>2</td>\n      <td>0.104579</td>\n    </tr>\n    <tr>\n      <th>496</th>\n      <td>Data/Stocks\\belfa.us.txt</td>\n      <td>2010-08-18</td>\n      <td>1</td>\n      <td>0.201255</td>\n      <td>0.056782</td>\n      <td>0.345961</td>\n      <td>0.051319</td>\n      <td>0.035508</td>\n      <td>0.033319</td>\n      <td>Charts/img_9496_1_month.PNG</td>\n      <td>Charts/img_9496_6_month.PNG</td>\n      <td>Charts/img_9496_12_month.PNG</td>\n      <td>Charts/img_9496_bar_1_month.PNG</td>\n      <td>Charts/img_9496_bar_6_month.PNG</td>\n      <td>Charts/img_9496_bar_12_month.PNG</td>\n      <td>2</td>\n      <td>0.012205</td>\n    </tr>\n    <tr>\n      <th>497</th>\n      <td>Data/Stocks\\evhc.us.txt</td>\n      <td>2014-09-02</td>\n      <td>1</td>\n      <td>0.047564</td>\n      <td>0.074978</td>\n      <td>0.393275</td>\n      <td>0.008937</td>\n      <td>0.015356</td>\n      <td>0.017374</td>\n      <td>Charts/img_9497_1_month.PNG</td>\n      <td>Charts/img_9497_6_month.PNG</td>\n      <td>Charts/img_9497_12_month.PNG</td>\n      <td>Charts/img_9497_bar_1_month.PNG</td>\n      <td>Charts/img_9497_bar_6_month.PNG</td>\n      <td>Charts/img_9497_bar_12_month.PNG</td>\n      <td>0</td>\n      <td>-0.047149</td>\n    </tr>\n    <tr>\n      <th>498</th>\n      <td>Data/Stocks\\snp.us.txt</td>\n      <td>2010-07-21</td>\n      <td>1</td>\n      <td>-0.045617</td>\n      <td>-0.006414</td>\n      <td>-0.041886</td>\n      <td>0.014021</td>\n      <td>0.017807</td>\n      <td>0.019190</td>\n      <td>Charts/img_9498_1_month.PNG</td>\n      <td>Charts/img_9498_6_month.PNG</td>\n      <td>Charts/img_9498_12_month.PNG</td>\n      <td>Charts/img_9498_bar_1_month.PNG</td>\n      <td>Charts/img_9498_bar_6_month.PNG</td>\n      <td>Charts/img_9498_bar_12_month.PNG</td>\n      <td>2</td>\n      <td>0.040489</td>\n    </tr>\n    <tr>\n      <th>499</th>\n      <td>Data/Stocks\\susa.us.txt</td>\n      <td>2016-03-22</td>\n      <td>1</td>\n      <td>0.075041</td>\n      <td>0.083046</td>\n      <td>-0.014023</td>\n      <td>0.007646</td>\n      <td>0.010423</td>\n      <td>0.010038</td>\n      <td>Charts/img_9499_1_month.PNG</td>\n      <td>Charts/img_9499_6_month.PNG</td>\n      <td>Charts/img_9499_12_month.PNG</td>\n      <td>Charts/img_9499_bar_1_month.PNG</td>\n      <td>Charts/img_9499_bar_6_month.PNG</td>\n      <td>Charts/img_9499_bar_12_month.PNG</td>\n      <td>2</td>\n      <td>0.024414</td>\n    </tr>\n  </tbody>\n</table>\n<p>15000 rows × 17 columns</p>\n</div>"
     },
     "execution_count": 19,
     "metadata": {},
     "output_type": "execute_result"
    },
    {
     "data": {
      "text/plain": "<Figure size 432x288 with 0 Axes>"
     },
     "metadata": {},
     "output_type": "display_data"
    }
   ],
   "source": [
    "construct_many_rand_observations(3000, 12000)"
   ],
   "metadata": {
    "collapsed": false,
    "pycharm": {
     "name": "#%%\n"
    }
   }
  },
  {
   "cell_type": "code",
   "execution_count": 20,
   "outputs": [
    {
     "data": {
      "text/plain": "                   asset_file        date  stock  1_month_return  \\\n0      Data/Stocks\\ncr.us.txt  2004-04-05      1        0.000439   \n1     Data/Stocks\\chfn.us.txt  2013-05-31      1       -0.001997   \n2     Data/Stocks\\tmst.us.txt  2016-01-05      1       -0.151767   \n3      Data/Stocks\\gjp.us.txt  2012-08-16      1       -0.053945   \n4    Data/Stocks\\hvt-a.us.txt  2011-09-27      1       -0.104041   \n..                        ...         ...    ...             ...   \n495    Data/Stocks\\sfl.us.txt  2008-01-24      1       -0.157712   \n496  Data/Stocks\\belfa.us.txt  2010-08-18      1        0.201255   \n497   Data/Stocks\\evhc.us.txt  2014-09-02      1        0.047564   \n498    Data/Stocks\\snp.us.txt  2010-07-21      1       -0.045617   \n499   Data/Stocks\\susa.us.txt  2016-03-22      1        0.075041   \n\n     6_month_return  12_month_return  1_month_volatility  6_month_volatility  \\\n0          0.317341         1.388889            0.017516            0.016031   \n1          0.284303         0.399270            0.004603            0.009990   \n2         -0.657503        -0.770941            0.054340            0.050027   \n3         -0.075769         0.000470            0.015497            0.013264   \n4         -0.224486        -0.056672            0.040486            0.039216   \n..              ...              ...                 ...                 ...   \n495       -0.122881         0.014062            0.018766            0.024021   \n496        0.056782         0.345961            0.051319            0.035508   \n497        0.074978         0.393275            0.008937            0.015356   \n498       -0.006414        -0.041886            0.014021            0.017807   \n499        0.083046        -0.014023            0.007646            0.010423   \n\n     12_month_volatility                  1_month_img  \\\n0               0.023119   Charts/img_500_1_month.PNG   \n1               0.017845   Charts/img_501_1_month.PNG   \n2               0.039493   Charts/img_502_1_month.PNG   \n3               0.016023   Charts/img_503_1_month.PNG   \n4               0.033105   Charts/img_504_1_month.PNG   \n..                   ...                          ...   \n495             0.020691  Charts/img_9495_1_month.PNG   \n496             0.033319  Charts/img_9496_1_month.PNG   \n497             0.017374  Charts/img_9497_1_month.PNG   \n498             0.019190  Charts/img_9498_1_month.PNG   \n499             0.010038  Charts/img_9499_1_month.PNG   \n\n                     6_month_img                  12_month_img  \\\n0     Charts/img_500_6_month.PNG   Charts/img_500_12_month.PNG   \n1     Charts/img_501_6_month.PNG   Charts/img_501_12_month.PNG   \n2     Charts/img_502_6_month.PNG   Charts/img_502_12_month.PNG   \n3     Charts/img_503_6_month.PNG   Charts/img_503_12_month.PNG   \n4     Charts/img_504_6_month.PNG   Charts/img_504_12_month.PNG   \n..                           ...                           ...   \n495  Charts/img_9495_6_month.PNG  Charts/img_9495_12_month.PNG   \n496  Charts/img_9496_6_month.PNG  Charts/img_9496_12_month.PNG   \n497  Charts/img_9497_6_month.PNG  Charts/img_9497_12_month.PNG   \n498  Charts/img_9498_6_month.PNG  Charts/img_9498_12_month.PNG   \n499  Charts/img_9499_6_month.PNG  Charts/img_9499_12_month.PNG   \n\n                     1_month_img_bar                  6_month_img_bar  \\\n0     Charts/img_500_bar_1_month.PNG   Charts/img_500_bar_6_month.PNG   \n1     Charts/img_501_bar_1_month.PNG   Charts/img_501_bar_6_month.PNG   \n2     Charts/img_502_bar_1_month.PNG   Charts/img_502_bar_6_month.PNG   \n3     Charts/img_503_bar_1_month.PNG   Charts/img_503_bar_6_month.PNG   \n4     Charts/img_504_bar_1_month.PNG   Charts/img_504_bar_6_month.PNG   \n..                               ...                              ...   \n495  Charts/img_9495_bar_1_month.PNG  Charts/img_9495_bar_6_month.PNG   \n496  Charts/img_9496_bar_1_month.PNG  Charts/img_9496_bar_6_month.PNG   \n497  Charts/img_9497_bar_1_month.PNG  Charts/img_9497_bar_6_month.PNG   \n498  Charts/img_9498_bar_1_month.PNG  Charts/img_9498_bar_6_month.PNG   \n499  Charts/img_9499_bar_1_month.PNG  Charts/img_9499_bar_6_month.PNG   \n\n                     12_month_img_bar  label_1m  1m_return  \n0     Charts/img_500_bar_12_month.PNG         0  -0.013871  \n1     Charts/img_501_bar_12_month.PNG         2   0.015084  \n2     Charts/img_502_bar_12_month.PNG         0  -0.066185  \n3     Charts/img_503_bar_12_month.PNG         1   0.001246  \n4     Charts/img_504_bar_12_month.PNG         2   0.127726  \n..                                ...       ...        ...  \n495  Charts/img_9495_bar_12_month.PNG         2   0.104579  \n496  Charts/img_9496_bar_12_month.PNG         2   0.012205  \n497  Charts/img_9497_bar_12_month.PNG         0  -0.047149  \n498  Charts/img_9498_bar_12_month.PNG         2   0.040489  \n499  Charts/img_9499_bar_12_month.PNG         2   0.024414  \n\n[18000 rows x 17 columns]",
      "text/html": "<div>\n<style scoped>\n    .dataframe tbody tr th:only-of-type {\n        vertical-align: middle;\n    }\n\n    .dataframe tbody tr th {\n        vertical-align: top;\n    }\n\n    .dataframe thead th {\n        text-align: right;\n    }\n</style>\n<table border=\"1\" class=\"dataframe\">\n  <thead>\n    <tr style=\"text-align: right;\">\n      <th></th>\n      <th>asset_file</th>\n      <th>date</th>\n      <th>stock</th>\n      <th>1_month_return</th>\n      <th>6_month_return</th>\n      <th>12_month_return</th>\n      <th>1_month_volatility</th>\n      <th>6_month_volatility</th>\n      <th>12_month_volatility</th>\n      <th>1_month_img</th>\n      <th>6_month_img</th>\n      <th>12_month_img</th>\n      <th>1_month_img_bar</th>\n      <th>6_month_img_bar</th>\n      <th>12_month_img_bar</th>\n      <th>label_1m</th>\n      <th>1m_return</th>\n    </tr>\n  </thead>\n  <tbody>\n    <tr>\n      <th>0</th>\n      <td>Data/Stocks\\ncr.us.txt</td>\n      <td>2004-04-05</td>\n      <td>1</td>\n      <td>0.000439</td>\n      <td>0.317341</td>\n      <td>1.388889</td>\n      <td>0.017516</td>\n      <td>0.016031</td>\n      <td>0.023119</td>\n      <td>Charts/img_500_1_month.PNG</td>\n      <td>Charts/img_500_6_month.PNG</td>\n      <td>Charts/img_500_12_month.PNG</td>\n      <td>Charts/img_500_bar_1_month.PNG</td>\n      <td>Charts/img_500_bar_6_month.PNG</td>\n      <td>Charts/img_500_bar_12_month.PNG</td>\n      <td>0</td>\n      <td>-0.013871</td>\n    </tr>\n    <tr>\n      <th>1</th>\n      <td>Data/Stocks\\chfn.us.txt</td>\n      <td>2013-05-31</td>\n      <td>1</td>\n      <td>-0.001997</td>\n      <td>0.284303</td>\n      <td>0.399270</td>\n      <td>0.004603</td>\n      <td>0.009990</td>\n      <td>0.017845</td>\n      <td>Charts/img_501_1_month.PNG</td>\n      <td>Charts/img_501_6_month.PNG</td>\n      <td>Charts/img_501_12_month.PNG</td>\n      <td>Charts/img_501_bar_1_month.PNG</td>\n      <td>Charts/img_501_bar_6_month.PNG</td>\n      <td>Charts/img_501_bar_12_month.PNG</td>\n      <td>2</td>\n      <td>0.015084</td>\n    </tr>\n    <tr>\n      <th>2</th>\n      <td>Data/Stocks\\tmst.us.txt</td>\n      <td>2016-01-05</td>\n      <td>1</td>\n      <td>-0.151767</td>\n      <td>-0.657503</td>\n      <td>-0.770941</td>\n      <td>0.054340</td>\n      <td>0.050027</td>\n      <td>0.039493</td>\n      <td>Charts/img_502_1_month.PNG</td>\n      <td>Charts/img_502_6_month.PNG</td>\n      <td>Charts/img_502_12_month.PNG</td>\n      <td>Charts/img_502_bar_1_month.PNG</td>\n      <td>Charts/img_502_bar_6_month.PNG</td>\n      <td>Charts/img_502_bar_12_month.PNG</td>\n      <td>0</td>\n      <td>-0.066185</td>\n    </tr>\n    <tr>\n      <th>3</th>\n      <td>Data/Stocks\\gjp.us.txt</td>\n      <td>2012-08-16</td>\n      <td>1</td>\n      <td>-0.053945</td>\n      <td>-0.075769</td>\n      <td>0.000470</td>\n      <td>0.015497</td>\n      <td>0.013264</td>\n      <td>0.016023</td>\n      <td>Charts/img_503_1_month.PNG</td>\n      <td>Charts/img_503_6_month.PNG</td>\n      <td>Charts/img_503_12_month.PNG</td>\n      <td>Charts/img_503_bar_1_month.PNG</td>\n      <td>Charts/img_503_bar_6_month.PNG</td>\n      <td>Charts/img_503_bar_12_month.PNG</td>\n      <td>1</td>\n      <td>0.001246</td>\n    </tr>\n    <tr>\n      <th>4</th>\n      <td>Data/Stocks\\hvt-a.us.txt</td>\n      <td>2011-09-27</td>\n      <td>1</td>\n      <td>-0.104041</td>\n      <td>-0.224486</td>\n      <td>-0.056672</td>\n      <td>0.040486</td>\n      <td>0.039216</td>\n      <td>0.033105</td>\n      <td>Charts/img_504_1_month.PNG</td>\n      <td>Charts/img_504_6_month.PNG</td>\n      <td>Charts/img_504_12_month.PNG</td>\n      <td>Charts/img_504_bar_1_month.PNG</td>\n      <td>Charts/img_504_bar_6_month.PNG</td>\n      <td>Charts/img_504_bar_12_month.PNG</td>\n      <td>2</td>\n      <td>0.127726</td>\n    </tr>\n    <tr>\n      <th>...</th>\n      <td>...</td>\n      <td>...</td>\n      <td>...</td>\n      <td>...</td>\n      <td>...</td>\n      <td>...</td>\n      <td>...</td>\n      <td>...</td>\n      <td>...</td>\n      <td>...</td>\n      <td>...</td>\n      <td>...</td>\n      <td>...</td>\n      <td>...</td>\n      <td>...</td>\n      <td>...</td>\n      <td>...</td>\n    </tr>\n    <tr>\n      <th>495</th>\n      <td>Data/Stocks\\sfl.us.txt</td>\n      <td>2008-01-24</td>\n      <td>1</td>\n      <td>-0.157712</td>\n      <td>-0.122881</td>\n      <td>0.014062</td>\n      <td>0.018766</td>\n      <td>0.024021</td>\n      <td>0.020691</td>\n      <td>Charts/img_9495_1_month.PNG</td>\n      <td>Charts/img_9495_6_month.PNG</td>\n      <td>Charts/img_9495_12_month.PNG</td>\n      <td>Charts/img_9495_bar_1_month.PNG</td>\n      <td>Charts/img_9495_bar_6_month.PNG</td>\n      <td>Charts/img_9495_bar_12_month.PNG</td>\n      <td>2</td>\n      <td>0.104579</td>\n    </tr>\n    <tr>\n      <th>496</th>\n      <td>Data/Stocks\\belfa.us.txt</td>\n      <td>2010-08-18</td>\n      <td>1</td>\n      <td>0.201255</td>\n      <td>0.056782</td>\n      <td>0.345961</td>\n      <td>0.051319</td>\n      <td>0.035508</td>\n      <td>0.033319</td>\n      <td>Charts/img_9496_1_month.PNG</td>\n      <td>Charts/img_9496_6_month.PNG</td>\n      <td>Charts/img_9496_12_month.PNG</td>\n      <td>Charts/img_9496_bar_1_month.PNG</td>\n      <td>Charts/img_9496_bar_6_month.PNG</td>\n      <td>Charts/img_9496_bar_12_month.PNG</td>\n      <td>2</td>\n      <td>0.012205</td>\n    </tr>\n    <tr>\n      <th>497</th>\n      <td>Data/Stocks\\evhc.us.txt</td>\n      <td>2014-09-02</td>\n      <td>1</td>\n      <td>0.047564</td>\n      <td>0.074978</td>\n      <td>0.393275</td>\n      <td>0.008937</td>\n      <td>0.015356</td>\n      <td>0.017374</td>\n      <td>Charts/img_9497_1_month.PNG</td>\n      <td>Charts/img_9497_6_month.PNG</td>\n      <td>Charts/img_9497_12_month.PNG</td>\n      <td>Charts/img_9497_bar_1_month.PNG</td>\n      <td>Charts/img_9497_bar_6_month.PNG</td>\n      <td>Charts/img_9497_bar_12_month.PNG</td>\n      <td>0</td>\n      <td>-0.047149</td>\n    </tr>\n    <tr>\n      <th>498</th>\n      <td>Data/Stocks\\snp.us.txt</td>\n      <td>2010-07-21</td>\n      <td>1</td>\n      <td>-0.045617</td>\n      <td>-0.006414</td>\n      <td>-0.041886</td>\n      <td>0.014021</td>\n      <td>0.017807</td>\n      <td>0.019190</td>\n      <td>Charts/img_9498_1_month.PNG</td>\n      <td>Charts/img_9498_6_month.PNG</td>\n      <td>Charts/img_9498_12_month.PNG</td>\n      <td>Charts/img_9498_bar_1_month.PNG</td>\n      <td>Charts/img_9498_bar_6_month.PNG</td>\n      <td>Charts/img_9498_bar_12_month.PNG</td>\n      <td>2</td>\n      <td>0.040489</td>\n    </tr>\n    <tr>\n      <th>499</th>\n      <td>Data/Stocks\\susa.us.txt</td>\n      <td>2016-03-22</td>\n      <td>1</td>\n      <td>0.075041</td>\n      <td>0.083046</td>\n      <td>-0.014023</td>\n      <td>0.007646</td>\n      <td>0.010423</td>\n      <td>0.010038</td>\n      <td>Charts/img_9499_1_month.PNG</td>\n      <td>Charts/img_9499_6_month.PNG</td>\n      <td>Charts/img_9499_12_month.PNG</td>\n      <td>Charts/img_9499_bar_1_month.PNG</td>\n      <td>Charts/img_9499_bar_6_month.PNG</td>\n      <td>Charts/img_9499_bar_12_month.PNG</td>\n      <td>2</td>\n      <td>0.024414</td>\n    </tr>\n  </tbody>\n</table>\n<p>18000 rows × 17 columns</p>\n</div>"
     },
     "execution_count": 20,
     "metadata": {},
     "output_type": "execute_result"
    },
    {
     "data": {
      "text/plain": "<Figure size 432x288 with 0 Axes>"
     },
     "metadata": {},
     "output_type": "display_data"
    }
   ],
   "source": [
    "construct_many_rand_observations(3000, 15000)"
   ],
   "metadata": {
    "collapsed": false,
    "pycharm": {
     "name": "#%%\n"
    }
   }
  },
  {
   "cell_type": "code",
   "execution_count": 21,
   "outputs": [
    {
     "data": {
      "text/plain": "                   asset_file        date  stock  1_month_return  \\\n0      Data/Stocks\\ncr.us.txt  2004-04-05      1        0.000439   \n1     Data/Stocks\\chfn.us.txt  2013-05-31      1       -0.001997   \n2     Data/Stocks\\tmst.us.txt  2016-01-05      1       -0.151767   \n3      Data/Stocks\\gjp.us.txt  2012-08-16      1       -0.053945   \n4    Data/Stocks\\hvt-a.us.txt  2011-09-27      1       -0.104041   \n..                        ...         ...    ...             ...   \n495    Data/Stocks\\sfl.us.txt  2008-01-24      1       -0.157712   \n496  Data/Stocks\\belfa.us.txt  2010-08-18      1        0.201255   \n497   Data/Stocks\\evhc.us.txt  2014-09-02      1        0.047564   \n498    Data/Stocks\\snp.us.txt  2010-07-21      1       -0.045617   \n499   Data/Stocks\\susa.us.txt  2016-03-22      1        0.075041   \n\n     6_month_return  12_month_return  1_month_volatility  6_month_volatility  \\\n0          0.317341         1.388889            0.017516            0.016031   \n1          0.284303         0.399270            0.004603            0.009990   \n2         -0.657503        -0.770941            0.054340            0.050027   \n3         -0.075769         0.000470            0.015497            0.013264   \n4         -0.224486        -0.056672            0.040486            0.039216   \n..              ...              ...                 ...                 ...   \n495       -0.122881         0.014062            0.018766            0.024021   \n496        0.056782         0.345961            0.051319            0.035508   \n497        0.074978         0.393275            0.008937            0.015356   \n498       -0.006414        -0.041886            0.014021            0.017807   \n499        0.083046        -0.014023            0.007646            0.010423   \n\n     12_month_volatility                  1_month_img  \\\n0               0.023119   Charts/img_500_1_month.PNG   \n1               0.017845   Charts/img_501_1_month.PNG   \n2               0.039493   Charts/img_502_1_month.PNG   \n3               0.016023   Charts/img_503_1_month.PNG   \n4               0.033105   Charts/img_504_1_month.PNG   \n..                   ...                          ...   \n495             0.020691  Charts/img_9495_1_month.PNG   \n496             0.033319  Charts/img_9496_1_month.PNG   \n497             0.017374  Charts/img_9497_1_month.PNG   \n498             0.019190  Charts/img_9498_1_month.PNG   \n499             0.010038  Charts/img_9499_1_month.PNG   \n\n                     6_month_img                  12_month_img  \\\n0     Charts/img_500_6_month.PNG   Charts/img_500_12_month.PNG   \n1     Charts/img_501_6_month.PNG   Charts/img_501_12_month.PNG   \n2     Charts/img_502_6_month.PNG   Charts/img_502_12_month.PNG   \n3     Charts/img_503_6_month.PNG   Charts/img_503_12_month.PNG   \n4     Charts/img_504_6_month.PNG   Charts/img_504_12_month.PNG   \n..                           ...                           ...   \n495  Charts/img_9495_6_month.PNG  Charts/img_9495_12_month.PNG   \n496  Charts/img_9496_6_month.PNG  Charts/img_9496_12_month.PNG   \n497  Charts/img_9497_6_month.PNG  Charts/img_9497_12_month.PNG   \n498  Charts/img_9498_6_month.PNG  Charts/img_9498_12_month.PNG   \n499  Charts/img_9499_6_month.PNG  Charts/img_9499_12_month.PNG   \n\n                     1_month_img_bar                  6_month_img_bar  \\\n0     Charts/img_500_bar_1_month.PNG   Charts/img_500_bar_6_month.PNG   \n1     Charts/img_501_bar_1_month.PNG   Charts/img_501_bar_6_month.PNG   \n2     Charts/img_502_bar_1_month.PNG   Charts/img_502_bar_6_month.PNG   \n3     Charts/img_503_bar_1_month.PNG   Charts/img_503_bar_6_month.PNG   \n4     Charts/img_504_bar_1_month.PNG   Charts/img_504_bar_6_month.PNG   \n..                               ...                              ...   \n495  Charts/img_9495_bar_1_month.PNG  Charts/img_9495_bar_6_month.PNG   \n496  Charts/img_9496_bar_1_month.PNG  Charts/img_9496_bar_6_month.PNG   \n497  Charts/img_9497_bar_1_month.PNG  Charts/img_9497_bar_6_month.PNG   \n498  Charts/img_9498_bar_1_month.PNG  Charts/img_9498_bar_6_month.PNG   \n499  Charts/img_9499_bar_1_month.PNG  Charts/img_9499_bar_6_month.PNG   \n\n                     12_month_img_bar  label_1m  1m_return  \n0     Charts/img_500_bar_12_month.PNG         0  -0.013871  \n1     Charts/img_501_bar_12_month.PNG         2   0.015084  \n2     Charts/img_502_bar_12_month.PNG         0  -0.066185  \n3     Charts/img_503_bar_12_month.PNG         1   0.001246  \n4     Charts/img_504_bar_12_month.PNG         2   0.127726  \n..                                ...       ...        ...  \n495  Charts/img_9495_bar_12_month.PNG         2   0.104579  \n496  Charts/img_9496_bar_12_month.PNG         2   0.012205  \n497  Charts/img_9497_bar_12_month.PNG         0  -0.047149  \n498  Charts/img_9498_bar_12_month.PNG         2   0.040489  \n499  Charts/img_9499_bar_12_month.PNG         2   0.024414  \n\n[21000 rows x 17 columns]",
      "text/html": "<div>\n<style scoped>\n    .dataframe tbody tr th:only-of-type {\n        vertical-align: middle;\n    }\n\n    .dataframe tbody tr th {\n        vertical-align: top;\n    }\n\n    .dataframe thead th {\n        text-align: right;\n    }\n</style>\n<table border=\"1\" class=\"dataframe\">\n  <thead>\n    <tr style=\"text-align: right;\">\n      <th></th>\n      <th>asset_file</th>\n      <th>date</th>\n      <th>stock</th>\n      <th>1_month_return</th>\n      <th>6_month_return</th>\n      <th>12_month_return</th>\n      <th>1_month_volatility</th>\n      <th>6_month_volatility</th>\n      <th>12_month_volatility</th>\n      <th>1_month_img</th>\n      <th>6_month_img</th>\n      <th>12_month_img</th>\n      <th>1_month_img_bar</th>\n      <th>6_month_img_bar</th>\n      <th>12_month_img_bar</th>\n      <th>label_1m</th>\n      <th>1m_return</th>\n    </tr>\n  </thead>\n  <tbody>\n    <tr>\n      <th>0</th>\n      <td>Data/Stocks\\ncr.us.txt</td>\n      <td>2004-04-05</td>\n      <td>1</td>\n      <td>0.000439</td>\n      <td>0.317341</td>\n      <td>1.388889</td>\n      <td>0.017516</td>\n      <td>0.016031</td>\n      <td>0.023119</td>\n      <td>Charts/img_500_1_month.PNG</td>\n      <td>Charts/img_500_6_month.PNG</td>\n      <td>Charts/img_500_12_month.PNG</td>\n      <td>Charts/img_500_bar_1_month.PNG</td>\n      <td>Charts/img_500_bar_6_month.PNG</td>\n      <td>Charts/img_500_bar_12_month.PNG</td>\n      <td>0</td>\n      <td>-0.013871</td>\n    </tr>\n    <tr>\n      <th>1</th>\n      <td>Data/Stocks\\chfn.us.txt</td>\n      <td>2013-05-31</td>\n      <td>1</td>\n      <td>-0.001997</td>\n      <td>0.284303</td>\n      <td>0.399270</td>\n      <td>0.004603</td>\n      <td>0.009990</td>\n      <td>0.017845</td>\n      <td>Charts/img_501_1_month.PNG</td>\n      <td>Charts/img_501_6_month.PNG</td>\n      <td>Charts/img_501_12_month.PNG</td>\n      <td>Charts/img_501_bar_1_month.PNG</td>\n      <td>Charts/img_501_bar_6_month.PNG</td>\n      <td>Charts/img_501_bar_12_month.PNG</td>\n      <td>2</td>\n      <td>0.015084</td>\n    </tr>\n    <tr>\n      <th>2</th>\n      <td>Data/Stocks\\tmst.us.txt</td>\n      <td>2016-01-05</td>\n      <td>1</td>\n      <td>-0.151767</td>\n      <td>-0.657503</td>\n      <td>-0.770941</td>\n      <td>0.054340</td>\n      <td>0.050027</td>\n      <td>0.039493</td>\n      <td>Charts/img_502_1_month.PNG</td>\n      <td>Charts/img_502_6_month.PNG</td>\n      <td>Charts/img_502_12_month.PNG</td>\n      <td>Charts/img_502_bar_1_month.PNG</td>\n      <td>Charts/img_502_bar_6_month.PNG</td>\n      <td>Charts/img_502_bar_12_month.PNG</td>\n      <td>0</td>\n      <td>-0.066185</td>\n    </tr>\n    <tr>\n      <th>3</th>\n      <td>Data/Stocks\\gjp.us.txt</td>\n      <td>2012-08-16</td>\n      <td>1</td>\n      <td>-0.053945</td>\n      <td>-0.075769</td>\n      <td>0.000470</td>\n      <td>0.015497</td>\n      <td>0.013264</td>\n      <td>0.016023</td>\n      <td>Charts/img_503_1_month.PNG</td>\n      <td>Charts/img_503_6_month.PNG</td>\n      <td>Charts/img_503_12_month.PNG</td>\n      <td>Charts/img_503_bar_1_month.PNG</td>\n      <td>Charts/img_503_bar_6_month.PNG</td>\n      <td>Charts/img_503_bar_12_month.PNG</td>\n      <td>1</td>\n      <td>0.001246</td>\n    </tr>\n    <tr>\n      <th>4</th>\n      <td>Data/Stocks\\hvt-a.us.txt</td>\n      <td>2011-09-27</td>\n      <td>1</td>\n      <td>-0.104041</td>\n      <td>-0.224486</td>\n      <td>-0.056672</td>\n      <td>0.040486</td>\n      <td>0.039216</td>\n      <td>0.033105</td>\n      <td>Charts/img_504_1_month.PNG</td>\n      <td>Charts/img_504_6_month.PNG</td>\n      <td>Charts/img_504_12_month.PNG</td>\n      <td>Charts/img_504_bar_1_month.PNG</td>\n      <td>Charts/img_504_bar_6_month.PNG</td>\n      <td>Charts/img_504_bar_12_month.PNG</td>\n      <td>2</td>\n      <td>0.127726</td>\n    </tr>\n    <tr>\n      <th>...</th>\n      <td>...</td>\n      <td>...</td>\n      <td>...</td>\n      <td>...</td>\n      <td>...</td>\n      <td>...</td>\n      <td>...</td>\n      <td>...</td>\n      <td>...</td>\n      <td>...</td>\n      <td>...</td>\n      <td>...</td>\n      <td>...</td>\n      <td>...</td>\n      <td>...</td>\n      <td>...</td>\n      <td>...</td>\n    </tr>\n    <tr>\n      <th>495</th>\n      <td>Data/Stocks\\sfl.us.txt</td>\n      <td>2008-01-24</td>\n      <td>1</td>\n      <td>-0.157712</td>\n      <td>-0.122881</td>\n      <td>0.014062</td>\n      <td>0.018766</td>\n      <td>0.024021</td>\n      <td>0.020691</td>\n      <td>Charts/img_9495_1_month.PNG</td>\n      <td>Charts/img_9495_6_month.PNG</td>\n      <td>Charts/img_9495_12_month.PNG</td>\n      <td>Charts/img_9495_bar_1_month.PNG</td>\n      <td>Charts/img_9495_bar_6_month.PNG</td>\n      <td>Charts/img_9495_bar_12_month.PNG</td>\n      <td>2</td>\n      <td>0.104579</td>\n    </tr>\n    <tr>\n      <th>496</th>\n      <td>Data/Stocks\\belfa.us.txt</td>\n      <td>2010-08-18</td>\n      <td>1</td>\n      <td>0.201255</td>\n      <td>0.056782</td>\n      <td>0.345961</td>\n      <td>0.051319</td>\n      <td>0.035508</td>\n      <td>0.033319</td>\n      <td>Charts/img_9496_1_month.PNG</td>\n      <td>Charts/img_9496_6_month.PNG</td>\n      <td>Charts/img_9496_12_month.PNG</td>\n      <td>Charts/img_9496_bar_1_month.PNG</td>\n      <td>Charts/img_9496_bar_6_month.PNG</td>\n      <td>Charts/img_9496_bar_12_month.PNG</td>\n      <td>2</td>\n      <td>0.012205</td>\n    </tr>\n    <tr>\n      <th>497</th>\n      <td>Data/Stocks\\evhc.us.txt</td>\n      <td>2014-09-02</td>\n      <td>1</td>\n      <td>0.047564</td>\n      <td>0.074978</td>\n      <td>0.393275</td>\n      <td>0.008937</td>\n      <td>0.015356</td>\n      <td>0.017374</td>\n      <td>Charts/img_9497_1_month.PNG</td>\n      <td>Charts/img_9497_6_month.PNG</td>\n      <td>Charts/img_9497_12_month.PNG</td>\n      <td>Charts/img_9497_bar_1_month.PNG</td>\n      <td>Charts/img_9497_bar_6_month.PNG</td>\n      <td>Charts/img_9497_bar_12_month.PNG</td>\n      <td>0</td>\n      <td>-0.047149</td>\n    </tr>\n    <tr>\n      <th>498</th>\n      <td>Data/Stocks\\snp.us.txt</td>\n      <td>2010-07-21</td>\n      <td>1</td>\n      <td>-0.045617</td>\n      <td>-0.006414</td>\n      <td>-0.041886</td>\n      <td>0.014021</td>\n      <td>0.017807</td>\n      <td>0.019190</td>\n      <td>Charts/img_9498_1_month.PNG</td>\n      <td>Charts/img_9498_6_month.PNG</td>\n      <td>Charts/img_9498_12_month.PNG</td>\n      <td>Charts/img_9498_bar_1_month.PNG</td>\n      <td>Charts/img_9498_bar_6_month.PNG</td>\n      <td>Charts/img_9498_bar_12_month.PNG</td>\n      <td>2</td>\n      <td>0.040489</td>\n    </tr>\n    <tr>\n      <th>499</th>\n      <td>Data/Stocks\\susa.us.txt</td>\n      <td>2016-03-22</td>\n      <td>1</td>\n      <td>0.075041</td>\n      <td>0.083046</td>\n      <td>-0.014023</td>\n      <td>0.007646</td>\n      <td>0.010423</td>\n      <td>0.010038</td>\n      <td>Charts/img_9499_1_month.PNG</td>\n      <td>Charts/img_9499_6_month.PNG</td>\n      <td>Charts/img_9499_12_month.PNG</td>\n      <td>Charts/img_9499_bar_1_month.PNG</td>\n      <td>Charts/img_9499_bar_6_month.PNG</td>\n      <td>Charts/img_9499_bar_12_month.PNG</td>\n      <td>2</td>\n      <td>0.024414</td>\n    </tr>\n  </tbody>\n</table>\n<p>21000 rows × 17 columns</p>\n</div>"
     },
     "execution_count": 21,
     "metadata": {},
     "output_type": "execute_result"
    },
    {
     "data": {
      "text/plain": "<Figure size 432x288 with 0 Axes>"
     },
     "metadata": {},
     "output_type": "display_data"
    }
   ],
   "source": [
    "construct_many_rand_observations(3000, 18000)"
   ],
   "metadata": {
    "collapsed": false,
    "pycharm": {
     "name": "#%%\n"
    }
   }
  }
 ],
 "metadata": {
  "kernelspec": {
   "display_name": "Python 3",
   "language": "python",
   "name": "python3"
  },
  "language_info": {
   "codemirror_mode": {
    "name": "ipython",
    "version": 2
   },
   "file_extension": ".py",
   "mimetype": "text/x-python",
   "name": "python",
   "nbconvert_exporter": "python",
   "pygments_lexer": "ipython2",
   "version": "2.7.6"
  }
 },
 "nbformat": 4,
 "nbformat_minor": 0
}