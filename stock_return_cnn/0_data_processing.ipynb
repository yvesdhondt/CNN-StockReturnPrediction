{
 "cells": [
  {
   "cell_type": "markdown",
   "source": [
    "# Intro\n",
    "\n",
    "Before training a model, the raw data for this project needs to be processed. This step assumes that the `/Data` folder is already populated with the data. The data can be found here and is released under CC0: https://www.kaggle.com/datasets/borismarjanovic/price-volume-data-for-all-us-stocks-etfs\n",
    "\n",
    "After downloading the data, you should make sure that the /Data folder contains the following two subfolders: `Data/ETFs` and `Data/Stocks`\n",
    "\n",
    "Remember that the goal of this project is to classify future stock returns based on their past return charts. Therefore the data needs to be transformed so that it can fulfill this goal."
   ],
   "metadata": {
    "collapsed": false,
    "pycharm": {
     "name": "#%% md\n"
    }
   }
  },
  {
   "cell_type": "markdown",
   "source": [
    "# Transform the data\n",
    "\n",
    "The raw data is not suitable for the purposes of this project. Instead the data needs to be transformed into summary statistics (historical returns, standard deviations ...) and stock chart images. The data will be transformed to the following format:\n",
    "\n",
    "- A dataframe where each row corresponds to a single observation. This dataframe contains the following columns:\n",
    "\n",
    "    - `date`: the start date of the observation\n",
    "    - `asset_file`: the path of the file from which this observation was created\n",
    "    - `stock`: a boolean indicator that is 1 if this observation comes from a stock or 0 if it comes from an ETF\n",
    "    - `1_month_return`: the return of the asset in the previous calendar month (lagged by one day to omit look-ahead bias)\n",
    "    - `6_month_return`: the return of the asset in the previous 6 calendar months (lagged by one day to omit look-ahead bias)\n",
    "    - `12_month_return`: the return of the asset in the previous 12 calendar months (lagged by one day to omit look-ahead bias)\n",
    "    - `1_month_volatility`: the (daily) volatility of the asset in the previous calendar month (lagged by one day to omit look-ahead bias)\n",
    "    - `6_month_volatility`: the (daily) volatility of the asset in the previous 6 calendar months (lagged by one day to omit look-ahead bias)\n",
    "    - `12_month_volatility`: the (daily) volatility of the asset in the previous 12 calendar months (lagged by one day to omit look-ahead bias)\n",
    "    - `1_month_img`: the name of the .png file containing a chart of the asset price in the previous calendar month (lagged by one day to omit look-ahead bias)\n",
    "    - `6_month_img`: the name of the .png file containing a chart of the asset price in the previous 6 calendar months (lagged by one day to omit look-ahead bias)\n",
    "    - `12_month_img`: the name of the .png file containing a chart of the asset price in the previous 12 calendar months (lagged by one day to omit look-ahead bias)\n",
    "    - `label`: the classification target. This can be 0 (next-month returns < 1%), 1 (next-month returns >= -1% and <= 1%), or 2 (next-month returns > 1%)\n",
    "\n",
    "- Next to this dataframe, a folder `/Charts` needs to be created that contains all the images referenced in this dataframe."
   ],
   "metadata": {
    "collapsed": false,
    "pycharm": {
     "name": "#%% md\n"
    }
   }
  },
  {
   "cell_type": "markdown",
   "metadata": {
    "collapsed": true,
    "pycharm": {
     "name": "#%% md\n"
    }
   },
   "source": [
    "# Supporting functions\n",
    "\n",
    "A number of functions will be set up that will calculate all the features for a single stock at a single point in time. This function can then be applied many times to construct the test, train, & validation data sets."
   ]
  },
  {
   "cell_type": "code",
   "execution_count": 1,
   "outputs": [],
   "source": [
    "import pandas as pd\n",
    "from pandas.errors import EmptyDataError\n",
    "from os import listdir\n",
    "from os.path import isfile, join\n",
    "import random as rand\n",
    "from datetime import timedelta\n",
    "\n",
    "import pprint as pp # used during code writing, not necessary\n",
    "\n",
    "import matplotlib.pyplot as plt # used to create the images\n",
    "\n",
    "import gc # garbage collector to save on memory"
   ],
   "metadata": {
    "collapsed": false,
    "pycharm": {
     "name": "#%%\n"
    }
   }
  },
  {
   "cell_type": "code",
   "source": [
    "def read_asset_prices(file_path):\n",
    "    \"\"\"\n",
    "    Read the asset prices from the given path\n",
    "    :param file_path: a string containing the path to a csv file with the asset prices\n",
    "    :return: a pandas dataframe with the asset prices for the given asset\n",
    "    \"\"\"\n",
    "    return pd.read_csv(file_path, delimiter=\",\")"
   ],
   "metadata": {
    "collapsed": false,
    "pycharm": {
     "name": "#%%\n"
    }
   },
   "execution_count": 2,
   "outputs": []
  },
  {
   "cell_type": "code",
   "execution_count": 3,
   "outputs": [],
   "source": [
    "def get_all_assets():\n",
    "    \"\"\"\n",
    "    Get a list of all the asset price file paths\n",
    "    :return: a list of all the asset price file paths\n",
    "    \"\"\"\n",
    "    stocks = [join(\"Data/Stocks\", f) for f in listdir(\"Data/Stocks\") if isfile(join(\"Data/Stocks\", f))]\n",
    "    etfs = [join(\"Data/ETFs\", f) for f in listdir(\"Data/ETFs\") if isfile(join(\"Data/ETFs\", f))]\n",
    "\n",
    "    return stocks + etfs"
   ],
   "metadata": {
    "collapsed": false,
    "pycharm": {
     "name": "#%%\n"
    }
   }
  },
  {
   "cell_type": "code",
   "execution_count": 4,
   "outputs": [],
   "source": [
    "def pick_random_asset(asset_list):\n",
    "    \"\"\"\n",
    "    Pick a random asset from the given list\n",
    "    :param asset_list: a list of asset price file paths\n",
    "    :return: a random entry from the given list\n",
    "    \"\"\"\n",
    "\n",
    "    return rand.choice(asset_list)"
   ],
   "metadata": {
    "collapsed": false,
    "pycharm": {
     "name": "#%%\n"
    }
   }
  },
  {
   "cell_type": "code",
   "execution_count": 5,
   "outputs": [],
   "source": [
    "def calculate_return(asset_prices, start_date, ndays):\n",
    "    \"\"\"\n",
    "    Calculate the 1-day lagged return from ndays ago up until the start date for\n",
    "    the given asset prices. Returns are calculated on closing prices.\n",
    "    :param asset_prices: the asset prices to calculate returns from\n",
    "    :param start_date: the date at which the return is calculated\n",
    "    :param ndays: the number of days to look back\n",
    "    :return: the return over the given period for the given asset\n",
    "    \"\"\"\n",
    "    ndays_price = asset_prices.Close[\n",
    "        asset_prices.Date == asset_prices.Date[asset_prices.Date <= start_date - timedelta(days=ndays)].max()\n",
    "    ].iloc[0]\n",
    "\n",
    "    lagged_price = asset_prices.Close[\n",
    "        asset_prices.Date == asset_prices.Date[asset_prices.Date <= start_date - timedelta(days=1)].max()\n",
    "    ].iloc[0]\n",
    "\n",
    "    return lagged_price / ndays_price - 1"
   ],
   "metadata": {
    "collapsed": false,
    "pycharm": {
     "name": "#%%\n"
    }
   }
  },
  {
   "cell_type": "code",
   "execution_count": 6,
   "outputs": [],
   "source": [
    "def calculate_std(asset_prices, start_date, ndays):\n",
    "    \"\"\"\n",
    "    Calculate the 1-day lagged volatility from ndays ago up until the start date for\n",
    "    the given asset prices. Volatility is calculated on daily returns.\n",
    "    :param asset_prices: the asset prices to calculate returns from\n",
    "    :param start_date: the date at which the return is calculated\n",
    "    :param ndays: the number of days to look back\n",
    "    :return: the volatility over the given period for the given asset\n",
    "    \"\"\"\n",
    "    temp = asset_prices[\n",
    "        (asset_prices.Date <= start_date - timedelta(days=1)) &\n",
    "        (asset_prices.Date >= start_date - timedelta(days=ndays))\n",
    "    ].copy()\n",
    "\n",
    "    temp = temp.sort_values(by=\"Date\", ascending=True)\n",
    "    temp[\"daily_ret\"] = temp.Close / temp.Close.shift(1)\n",
    "    temp.dropna(inplace=True)\n",
    "\n",
    "    return temp.daily_ret.std()"
   ],
   "metadata": {
    "collapsed": false,
    "pycharm": {
     "name": "#%%\n"
    }
   }
  },
  {
   "cell_type": "code",
   "execution_count": 7,
   "outputs": [],
   "source": [
    "def calculate_next_month_return(asset_prices, start_date):\n",
    "    \"\"\"\n",
    "    Calculate the return for the next month.\n",
    "\n",
    "    :param asset_prices: the asset prices to calculate returns from\n",
    "    :param start_date: the date at which the return is calculated\n",
    "\n",
    "    :return: the return over the next month for the given asset\n",
    "    \"\"\"\n",
    "    next_month_price = asset_prices.Close[\n",
    "        asset_prices.Date == asset_prices.Date[asset_prices.Date <= start_date + timedelta(days=31)].max()\n",
    "    ].iloc[0]\n",
    "\n",
    "    current_price = asset_prices.Close[\n",
    "        asset_prices.Date == start_date\n",
    "    ].iloc[0]\n",
    "\n",
    "    return next_month_price / current_price - 1"
   ],
   "metadata": {
    "collapsed": false,
    "pycharm": {
     "name": "#%%\n"
    }
   }
  },
  {
   "cell_type": "code",
   "execution_count": 8,
   "outputs": [],
   "source": [
    "def calculate_label(ret):\n",
    "    \"\"\"\n",
    "    Calculate the classification label\n",
    "    :param ret: the return to base the calculation on\n",
    "    :return: 0 if ret < -0.01, 1 if 0.01 >= ret >= -0.01, 2 if ret > 0.01\n",
    "    \"\"\"\n",
    "    if ret < -0.01:\n",
    "        return 0\n",
    "    elif ret <= 0.01:\n",
    "        return 1\n",
    "    else:\n",
    "        return 2"
   ],
   "metadata": {
    "collapsed": false,
    "pycharm": {
     "name": "#%%\n"
    }
   }
  },
  {
   "cell_type": "code",
   "execution_count": 9,
   "outputs": [],
   "source": [
    "def plot_prices(asset_prices, start_date, ndays, img_path):\n",
    "    \"\"\"\n",
    "    Plot the closing prices from ndays ago up until the start date for\n",
    "    the given asset prices.\n",
    "    :param asset_prices: the asset prices to plot\n",
    "    :param start_date: the date at which the plot ends\n",
    "    :param ndays: the number of days to look back\n",
    "    :param img_path: the path to save the image to\n",
    "    :return: the location of the created image\n",
    "    \"\"\"\n",
    "    temp = asset_prices[\n",
    "        (asset_prices.Date <= start_date - timedelta(days=1)) &\n",
    "        (asset_prices.Date >= start_date - timedelta(days=ndays))\n",
    "        ].copy()\n",
    "\n",
    "    temp = temp.sort_values(by=\"Date\", ascending=True)\n",
    "\n",
    "    fig = plt.figure(figsize=[8, 4])\n",
    "    plt.plot(temp.Date, temp.Close, \"k\") # plot lines in black\n",
    "    plt.axis(\"off\") # turn the axes off\n",
    "    plt.savefig(img_path)\n",
    "\n",
    "    plt.close(fig) # avoid displaying image\n",
    "    fig.clf() # remove from memory\n",
    "\n",
    "    return img_path"
   ],
   "metadata": {
    "collapsed": false,
    "pycharm": {
     "name": "#%%\n"
    }
   }
  },
  {
   "cell_type": "code",
   "execution_count": 10,
   "outputs": [],
   "source": [
    "def construct_rand_observation(asset_list, img_prefix=\"\"):\n",
    "    \"\"\"\n",
    "    Create a single random observation\n",
    "    :param asset_list: list of potential asset files to choose from\n",
    "    :param img_prefix: a prefix for the name of the created images\n",
    "    :return: a random observation built from the asset list\n",
    "    \"\"\"\n",
    "\n",
    "    # Pick a random asset\n",
    "    asset_file = pick_random_asset(asset_list)\n",
    "\n",
    "    try:\n",
    "        asset_prices = read_asset_prices(asset_file)\n",
    "    except EmptyDataError:\n",
    "        return {} # Return an empty observation if the given file was empty\n",
    "\n",
    "    try:\n",
    "        # Choose an appropriate time for the observation\n",
    "        asset_prices.Date = pd.to_datetime(asset_prices.Date)\n",
    "\n",
    "        # We need data up to 1 year ago so the chosen data has to be at least\n",
    "        # 1 year from the minimum date for this asset (+ 1 day for the time lag).\n",
    "        # We also need at leas one month of data for the future returns for the\n",
    "        # classification\n",
    "        min_date = asset_prices.Date.min() + timedelta(days=365 + 1)\n",
    "        max_date = asset_prices.Date.max() - timedelta(days=31)\n",
    "\n",
    "        # Choose a start date for the observation\n",
    "        start_date = rand.choice(\n",
    "            asset_prices.Date[\n",
    "                (asset_prices.Date >= min_date) &\n",
    "                (asset_prices.Date < max_date)\n",
    "            ]\n",
    "        )\n",
    "    except IndexError:\n",
    "        # If the date selection failed because of an index error, the asset cannot\n",
    "        # be used so we just return an empty dictionary\n",
    "        return {}\n",
    "    except KeyError:\n",
    "        # If the date selection failed because of an index error, the asset cannot\n",
    "        # be used so we just return an empty dictionary\n",
    "        return {}\n",
    "\n",
    "    observation = {\n",
    "        \"asset_file\": asset_file,\n",
    "        \"date\": start_date,\n",
    "        \"stock\": 1 if \"Stocks\" in asset_file else 0,\n",
    "        \"1_month_return\": calculate_return(asset_prices, start_date, ndays=30),\n",
    "        \"6_month_return\": calculate_return(asset_prices, start_date, ndays=180),\n",
    "        \"12_month_return\": calculate_return(asset_prices, start_date, ndays=365),\n",
    "        \"1_month_volatility\": calculate_std(asset_prices, start_date, ndays=30),\n",
    "        \"6_month_volatility\": calculate_std(asset_prices, start_date, ndays=180),\n",
    "        \"12_month_volatility\": calculate_std(asset_prices, start_date, ndays=365),\n",
    "        \"1_month_img\": plot_prices(asset_prices, start_date, ndays=30, img_path=img_prefix + \"_\" + \"1_month.PNG\"),\n",
    "        \"6_month_img\": plot_prices(asset_prices, start_date, ndays=180, img_path=img_prefix + \"_\" + \"6_month.PNG\"),\n",
    "        \"12_month_img\": plot_prices(asset_prices, start_date, ndays=365, img_path=img_prefix + \"_\" + \"12_month.PNG\"),\n",
    "        \"label\": calculate_label(calculate_next_month_return(asset_prices, start_date))\n",
    "    }\n",
    "\n",
    "    return observation"
   ],
   "metadata": {
    "collapsed": false,
    "pycharm": {
     "name": "#%%\n"
    }
   }
  },
  {
   "cell_type": "code",
   "execution_count": 11,
   "outputs": [],
   "source": [
    "def construct_many_rand_observations(n=10):\n",
    "    \"\"\"\n",
    "    Create many different observations\n",
    "\n",
    "    :param n: the number of observations to create\n",
    "    :return: a dataframe with the newly created observations (and accompanying image files in a /Charts folder)\n",
    "    \"\"\"\n",
    "    asset_list = get_all_assets()\n",
    "\n",
    "    record_collector = [] # collect observations\n",
    "\n",
    "    # Generate random observations\n",
    "    for i in range(n):\n",
    "        if i % 1000 == 0:\n",
    "            gc.collect() # run the garbage collector every 1000 observations\n",
    "\n",
    "        # Construct a random observation & save it\n",
    "        obs = construct_rand_observation(asset_list, \"Charts/img_\" + str(i))\n",
    "        if len(obs) > 0: record_collector.append(obs)\n",
    "\n",
    "    # After creating the random observations, potential duplicates (although unlikely) need to be dropped\n",
    "    observations = pd.DataFrame.from_records(record_collector)\n",
    "    observations.drop_duplicates(subset=[\"date\", \"asset_file\"])\n",
    "\n",
    "    return observations"
   ],
   "metadata": {
    "collapsed": false,
    "pycharm": {
     "name": "#%%\n"
    }
   }
  },
  {
   "cell_type": "code",
   "execution_count": 12,
   "outputs": [],
   "source": [
    "rand_observations = construct_many_rand_observations(10000)"
   ],
   "metadata": {
    "collapsed": false,
    "pycharm": {
     "name": "#%%\n"
    }
   }
  },
  {
   "cell_type": "code",
   "execution_count": 13,
   "outputs": [],
   "source": [
    "rand_observations.to_csv(\"rand_observations.csv\", index=False)"
   ],
   "metadata": {
    "collapsed": false,
    "pycharm": {
     "name": "#%%\n"
    }
   }
  }
 ],
 "metadata": {
  "kernelspec": {
   "display_name": "Python 3",
   "language": "python",
   "name": "python3"
  },
  "language_info": {
   "codemirror_mode": {
    "name": "ipython",
    "version": 2
   },
   "file_extension": ".py",
   "mimetype": "text/x-python",
   "name": "python",
   "nbconvert_exporter": "python",
   "pygments_lexer": "ipython2",
   "version": "2.7.6"
  }
 },
 "nbformat": 4,
 "nbformat_minor": 0
}