{
 "cells": [
  {
   "cell_type": "code",
   "execution_count": 1,
   "metadata": {
    "collapsed": true
   },
   "outputs": [],
   "source": [
    "import pandas as pd\n",
    "import numpy as np"
   ]
  },
  {
   "cell_type": "markdown",
   "source": [
    "# Load Training Data"
   ],
   "metadata": {
    "collapsed": false,
    "pycharm": {
     "name": "#%% md\n"
    }
   }
  },
  {
   "cell_type": "code",
   "execution_count": 2,
   "outputs": [],
   "source": [
    "train_data = pd.read_csv(\"ModelData/obs_train.csv\")\n",
    "for c in train_data.columns:\n",
    "    train_data.rename(columns={c: \"C_\" + c}, inplace=True)"
   ],
   "metadata": {
    "collapsed": false,
    "pycharm": {
     "name": "#%%\n"
    }
   }
  },
  {
   "cell_type": "code",
   "execution_count": 3,
   "outputs": [],
   "source": [
    "test_data = pd.read_csv(\"ModelData/obs_test.csv\")\n",
    "for c in test_data.columns:\n",
    "    test_data.rename(columns={c: \"C_\" + c}, inplace=True)"
   ],
   "metadata": {
    "collapsed": false,
    "pycharm": {
     "name": "#%%\n"
    }
   }
  },
  {
   "cell_type": "markdown",
   "source": [
    "# Build Baseline Regression Model"
   ],
   "metadata": {
    "collapsed": false,
    "pycharm": {
     "name": "#%% md\n"
    }
   }
  },
  {
   "cell_type": "code",
   "execution_count": 4,
   "outputs": [
    {
     "name": "stderr",
     "output_type": "stream",
     "text": [
      "C:\\Users\\yvesd\\AppData\\Roaming\\Python\\Python37\\site-packages\\sklearn\\utils\\validation.py:993: DataConversionWarning: A column-vector y was passed when a 1d array was expected. Please change the shape of y to (n_samples, ), for example using ravel().\n",
      "  y = column_or_1d(y, warn=True)\n"
     ]
    },
    {
     "data": {
      "text/plain": "LogisticRegression(max_iter=1000, multi_class='multinomial')"
     },
     "execution_count": 4,
     "metadata": {},
     "output_type": "execute_result"
    }
   ],
   "source": [
    "# predict probabilities with a multinomial logistic regression model\n",
    "from sklearn.linear_model import LogisticRegression\n",
    "\n",
    "# define the multinomial logistic regression model\n",
    "model = LogisticRegression(multi_class='multinomial', solver='lbfgs', max_iter=1000)\n",
    "\n",
    "# Train data\n",
    "X = train_data[[\"C_stock\", \"C_1_month_return\", \"C_6_month_return\", \"C_12_month_return\", \"C_1_month_volatility\", \"C_6_month_volatility\", \"C_12_month_volatility\"]]\n",
    "y = train_data[[\"C_label_1m\"]]\n",
    "\n",
    "# fit the model on the whole dataset\n",
    "model.fit(X, y)"
   ],
   "metadata": {
    "collapsed": false,
    "pycharm": {
     "name": "#%%\n"
    }
   }
  },
  {
   "cell_type": "markdown",
   "source": [
    "# Test Baseline Logit Model"
   ],
   "metadata": {
    "collapsed": false
   }
  },
  {
   "cell_type": "code",
   "execution_count": 5,
   "outputs": [],
   "source": [
    "# predict a multinomial probability distribution\n",
    "yhat = model.predict_proba(test_data[[\"C_stock\", \"C_1_month_return\", \"C_6_month_return\", \"C_12_month_return\", \"C_1_month_volatility\", \"C_6_month_volatility\", \"C_12_month_volatility\"]])"
   ],
   "metadata": {
    "collapsed": false,
    "pycharm": {
     "name": "#%%\n"
    }
   }
  },
  {
   "cell_type": "code",
   "execution_count": 6,
   "outputs": [],
   "source": [
    "actual_vs_pred = pd.concat(\n",
    "    [test_data[\"C_label_1m\"], pd.DataFrame(yhat)],\n",
    "    axis=1\n",
    ")"
   ],
   "metadata": {
    "collapsed": false,
    "pycharm": {
     "name": "#%%\n"
    }
   }
  },
  {
   "cell_type": "code",
   "execution_count": 7,
   "outputs": [],
   "source": [
    "actual_vs_pred[\"pred\"] = actual_vs_pred[[0, 1, 2]].apply(\n",
    "    lambda x: 0 if np.max(x) == x[0] else 1 if np.max(x) == x[1] else 2,\n",
    "    axis=1\n",
    ")"
   ],
   "metadata": {
    "collapsed": false,
    "pycharm": {
     "name": "#%%\n"
    }
   }
  },
  {
   "cell_type": "code",
   "execution_count": 8,
   "outputs": [],
   "source": [
    "actual_vs_pred[\"correct\"] = actual_vs_pred[[\"C_label_1m\", \"pred\"]].apply(lambda x: x[0] == x[1], axis=1)"
   ],
   "metadata": {
    "collapsed": false,
    "pycharm": {
     "name": "#%%\n"
    }
   }
  },
  {
   "cell_type": "markdown",
   "source": [
    "Overall Accuracy"
   ],
   "metadata": {
    "collapsed": false
   }
  },
  {
   "cell_type": "code",
   "execution_count": 9,
   "outputs": [
    {
     "data": {
      "text/plain": "0.4369369369369369"
     },
     "execution_count": 9,
     "metadata": {},
     "output_type": "execute_result"
    }
   ],
   "source": [
    "actual_vs_pred.correct.sum() / len(actual_vs_pred.index)"
   ],
   "metadata": {
    "collapsed": false,
    "pycharm": {
     "name": "#%%\n"
    }
   }
  },
  {
   "cell_type": "markdown",
   "source": [
    "Precision"
   ],
   "metadata": {
    "collapsed": false
   }
  },
  {
   "cell_type": "code",
   "execution_count": 10,
   "outputs": [
    {
     "name": "stdout",
     "output_type": "stream",
     "text": [
      "Precision Negative Returns: 0.4365256124721604\n"
     ]
    }
   ],
   "source": [
    "print(\"Precision Negative Returns: {}\".format(\n",
    "    len(\n",
    "        actual_vs_pred[(actual_vs_pred.pred == 0) & (actual_vs_pred.C_label_1m == 0)]\n",
    "    ) / len(\n",
    "        actual_vs_pred[(actual_vs_pred.pred == 0)].index\n",
    "    )\n",
    "))"
   ],
   "metadata": {
    "collapsed": false,
    "pycharm": {
     "name": "#%%\n"
    }
   }
  },
  {
   "cell_type": "code",
   "execution_count": 11,
   "outputs": [
    {
     "name": "stdout",
     "output_type": "stream",
     "text": [
      "Precision Neutral Returns: 0.46229508196721314\n"
     ]
    }
   ],
   "source": [
    "print(\"Precision Neutral Returns: {}\".format(\n",
    "    len(\n",
    "        actual_vs_pred[(actual_vs_pred.pred == 1) & (actual_vs_pred.C_label_1m == 1)]\n",
    "    ) / len(\n",
    "        actual_vs_pred[(actual_vs_pred.pred == 1)].index\n",
    "    )\n",
    "))"
   ],
   "metadata": {
    "collapsed": false,
    "pycharm": {
     "name": "#%%\n"
    }
   }
  },
  {
   "cell_type": "code",
   "execution_count": 12,
   "outputs": [
    {
     "name": "stdout",
     "output_type": "stream",
     "text": [
      "Precision Positive Returns: 0.38095238095238093\n"
     ]
    }
   ],
   "source": [
    "print(\"Precision Positive Returns: {}\".format(\n",
    "    len(\n",
    "        actual_vs_pred[(actual_vs_pred.pred == 2) & (actual_vs_pred.C_label_1m == 2)]\n",
    "    ) / len(\n",
    "        actual_vs_pred[(actual_vs_pred.pred == 2)].index\n",
    "    )\n",
    "))"
   ],
   "metadata": {
    "collapsed": false,
    "pycharm": {
     "name": "#%%\n"
    }
   }
  },
  {
   "cell_type": "markdown",
   "source": [
    "Recall"
   ],
   "metadata": {
    "collapsed": false
   }
  },
  {
   "cell_type": "code",
   "execution_count": 13,
   "outputs": [
    {
     "name": "stdout",
     "output_type": "stream",
     "text": [
      "Recall Negative Returns: 0.44144144144144143\n"
     ]
    }
   ],
   "source": [
    "print(\"Recall Negative Returns: {}\".format(\n",
    "    len(\n",
    "        actual_vs_pred[(actual_vs_pred.pred == 0) & (actual_vs_pred.C_label_1m == 0)]\n",
    "    ) / len(\n",
    "        actual_vs_pred[(actual_vs_pred.C_label_1m == 0)].index\n",
    "    )\n",
    "))"
   ],
   "metadata": {
    "collapsed": false,
    "pycharm": {
     "name": "#%%\n"
    }
   }
  },
  {
   "cell_type": "code",
   "execution_count": 14,
   "outputs": [
    {
     "name": "stdout",
     "output_type": "stream",
     "text": [
      "Recall Neutral Returns: 0.6351351351351351\n"
     ]
    }
   ],
   "source": [
    "print(\"Recall Neutral Returns: {}\".format(\n",
    "    len(\n",
    "        actual_vs_pred[(actual_vs_pred.pred == 1) & (actual_vs_pred.C_label_1m == 1)]\n",
    "    ) / len(\n",
    "        actual_vs_pred[(actual_vs_pred.C_label_1m == 1)].index\n",
    "    )\n",
    "))"
   ],
   "metadata": {
    "collapsed": false,
    "pycharm": {
     "name": "#%%\n"
    }
   }
  },
  {
   "cell_type": "code",
   "execution_count": 15,
   "outputs": [
    {
     "name": "stdout",
     "output_type": "stream",
     "text": [
      "Recall Positive Returns: 0.23423423423423423\n"
     ]
    }
   ],
   "source": [
    "print(\"Recall Positive Returns: {}\".format(\n",
    "    len(\n",
    "        actual_vs_pred[(actual_vs_pred.pred == 2) & (actual_vs_pred.C_label_1m == 2)]\n",
    "    ) / len(\n",
    "        actual_vs_pred[(actual_vs_pred.C_label_1m == 2)].index\n",
    "    )\n",
    "))"
   ],
   "metadata": {
    "collapsed": false,
    "pycharm": {
     "name": "#%%\n"
    }
   }
  }
 ],
 "metadata": {
  "kernelspec": {
   "display_name": "Python 3",
   "language": "python",
   "name": "python3"
  },
  "language_info": {
   "codemirror_mode": {
    "name": "ipython",
    "version": 2
   },
   "file_extension": ".py",
   "mimetype": "text/x-python",
   "name": "python",
   "nbconvert_exporter": "python",
   "pygments_lexer": "ipython2",
   "version": "2.7.6"
  }
 },
 "nbformat": 4,
 "nbformat_minor": 0
}